{
 "cells": [
  {
   "cell_type": "code",
   "execution_count": 1,
   "id": "91ce7d12",
   "metadata": {},
   "outputs": [],
   "source": [
    "import numpy as np\n",
    "arr = np.array([1, 5, 67, 8, 9, ])"
   ]
  },
  {
   "cell_type": "code",
   "execution_count": 2,
   "id": "73861036",
   "metadata": {},
   "outputs": [],
   "source": [
    "arr.sort()  # inplace sorting"
   ]
  },
  {
   "cell_type": "code",
   "execution_count": 3,
   "id": "2855294f",
   "metadata": {},
   "outputs": [
    {
     "name": "stdout",
     "output_type": "stream",
     "text": [
      "[ 1  5  8  9 67]\n"
     ]
    }
   ],
   "source": [
    "print(arr)"
   ]
  },
  {
   "cell_type": "code",
   "execution_count": 4,
   "id": "bc48a8bc",
   "metadata": {},
   "outputs": [],
   "source": [
    "weight = np.random.randint(1500, 2500, 10)\n",
    "mpg = np.random.randint(5, 30, 10)"
   ]
  },
  {
   "cell_type": "code",
   "execution_count": 5,
   "id": "b8d68bde",
   "metadata": {},
   "outputs": [
    {
     "data": {
      "text/plain": [
       "array([2316, 1933, 1860, 2276, 2210, 2498, 2202, 1826, 2016, 1506])"
      ]
     },
     "execution_count": 5,
     "metadata": {},
     "output_type": "execute_result"
    }
   ],
   "source": [
    "weight"
   ]
  },
  {
   "cell_type": "code",
   "execution_count": 6,
   "id": "bb684bed",
   "metadata": {},
   "outputs": [
    {
     "data": {
      "text/plain": [
       "array([ 6,  6, 11,  8, 23,  8,  7,  8, 29, 25])"
      ]
     },
     "execution_count": 6,
     "metadata": {},
     "output_type": "execute_result"
    }
   ],
   "source": [
    "mpg"
   ]
  },
  {
   "cell_type": "markdown",
   "id": "c2c4a15b",
   "metadata": {},
   "source": [
    "#### if we use sort method to sort the array using arr.sort() function then the original array will be altered and  then the correspoding mpg will not be correct"
   ]
  },
  {
   "cell_type": "markdown",
   "id": "e3f63272",
   "metadata": {},
   "source": [
    "sorted indexes which represents sorted array can be done using:- 'np.argsort(arr)'"
   ]
  },
  {
   "cell_type": "code",
   "execution_count": 7,
   "id": "4bf3b2c4",
   "metadata": {},
   "outputs": [
    {
     "data": {
      "text/plain": [
       "1506"
      ]
     },
     "execution_count": 7,
     "metadata": {},
     "output_type": "execute_result"
    }
   ],
   "source": [
    "np.min(weight)"
   ]
  },
  {
   "cell_type": "code",
   "execution_count": 8,
   "id": "e825260a",
   "metadata": {},
   "outputs": [
    {
     "data": {
      "text/plain": [
       "6"
      ]
     },
     "execution_count": 8,
     "metadata": {},
     "output_type": "execute_result"
    }
   ],
   "source": [
    "np.min(mpg)"
   ]
  },
  {
   "cell_type": "code",
   "execution_count": 9,
   "id": "c97fb76c",
   "metadata": {},
   "outputs": [
    {
     "data": {
      "text/plain": [
       "29"
      ]
     },
     "execution_count": 9,
     "metadata": {},
     "output_type": "execute_result"
    }
   ],
   "source": [
    "np.max(mpg)"
   ]
  },
  {
   "cell_type": "code",
   "execution_count": 10,
   "id": "5299019d",
   "metadata": {},
   "outputs": [
    {
     "data": {
      "text/plain": [
       "array([2016])"
      ]
     },
     "execution_count": 10,
     "metadata": {},
     "output_type": "execute_result"
    }
   ],
   "source": [
    "weight [mpg == np.max(mpg)]  # weight of car with max milege"
   ]
  },
  {
   "cell_type": "code",
   "execution_count": 11,
   "id": "cb164185",
   "metadata": {},
   "outputs": [
    {
     "name": "stdout",
     "output_type": "stream",
     "text": [
      "[1 2 3 4 5 6]\n",
      "[ 1  4  9 16 25 36]\n",
      "[ 1  2  3  4  5  6  1  4  9 16 25 36]\n"
     ]
    }
   ],
   "source": [
    "a = np.array([1, 2, 3, 4, 5, 6])\n",
    "b = a ** 2\n",
    "print(a)\n",
    "print(b)\n",
    "print(np.append(a, b))  # merge a and b "
   ]
  },
  {
   "cell_type": "markdown",
   "id": "b103d97a",
   "metadata": {},
   "source": [
    " a(arr) needs to get converted into 2D array such that it has one col and 6 row\n",
    " b(arr) needs to get converted into 2D array such that it has one col and 6 row"
   ]
  },
  {
   "cell_type": "code",
   "execution_count": 12,
   "id": "967d0988",
   "metadata": {},
   "outputs": [
    {
     "data": {
      "text/plain": [
       "array([[1],\n",
       "       [2],\n",
       "       [3],\n",
       "       [4],\n",
       "       [5],\n",
       "       [6]])"
      ]
     },
     "execution_count": 12,
     "metadata": {},
     "output_type": "execute_result"
    }
   ],
   "source": [
    "a.reshape(-1, 1)  # -1 because row is not known"
   ]
  },
  {
   "cell_type": "code",
   "execution_count": 13,
   "id": "f43feca2",
   "metadata": {},
   "outputs": [
    {
     "data": {
      "text/plain": [
       "array([[ 1],\n",
       "       [ 4],\n",
       "       [ 9],\n",
       "       [16],\n",
       "       [25],\n",
       "       [36]])"
      ]
     },
     "execution_count": 13,
     "metadata": {},
     "output_type": "execute_result"
    }
   ],
   "source": [
    "b.reshape(-1, 1)"
   ]
  },
  {
   "cell_type": "markdown",
   "id": "4376b699",
   "metadata": {},
   "source": [
    "  'np.h/vstack((a1, a2, a3, a4,......))' - to combine two more arrays horizontally or column wise/vertical or row wise\n",
    "  similar methods are:-\n",
    "  np.c_/r_[a1, a2, a3,......]\n",
    "  np.concatenate((a1, a2, a3,....) axis=0/1)"
   ]
  },
  {
   "cell_type": "markdown",
   "id": "b178ae27",
   "metadata": {},
   "source": [
    "if we are combining row wise total no of cols should be same\n",
    "and of we are combining col wise total no of rows should be same"
   ]
  },
  {
   "cell_type": "code",
   "execution_count": 14,
   "id": "043e2227",
   "metadata": {},
   "outputs": [],
   "source": [
    "x = np.random.randint(1, 10, (5, 3))\n",
    "y = np.random.randint(1, 10, (5, 6))\n",
    "z = np.random.randint(1, 10, (5, 4))"
   ]
  },
  {
   "cell_type": "code",
   "execution_count": 15,
   "id": "14da7949",
   "metadata": {},
   "outputs": [
    {
     "name": "stdout",
     "output_type": "stream",
     "text": [
      "[[3 9 6]\n",
      " [3 9 1]\n",
      " [1 1 6]\n",
      " [7 8 3]\n",
      " [6 6 8]]\n",
      "[[4 5 9 3 5 5]\n",
      " [8 2 1 9 7 2]\n",
      " [4 7 5 5 9 7]\n",
      " [6 8 8 4 6 4]\n",
      " [2 8 6 7 9 8]]\n",
      "[[8 6 3 4]\n",
      " [2 6 2 8]\n",
      " [2 1 4 4]\n",
      " [2 3 6 1]\n",
      " [6 7 5 7]]\n"
     ]
    }
   ],
   "source": [
    "print(x)\n",
    "print(y)\n",
    "print(z)"
   ]
  },
  {
   "cell_type": "code",
   "execution_count": 16,
   "id": "8a6675b0",
   "metadata": {},
   "outputs": [
    {
     "data": {
      "text/plain": [
       "array([[3, 9, 6, 4, 5, 9, 3, 5, 5, 8, 6, 3, 4],\n",
       "       [3, 9, 1, 8, 2, 1, 9, 7, 2, 2, 6, 2, 8],\n",
       "       [1, 1, 6, 4, 7, 5, 5, 9, 7, 2, 1, 4, 4],\n",
       "       [7, 8, 3, 6, 8, 8, 4, 6, 4, 2, 3, 6, 1],\n",
       "       [6, 6, 8, 2, 8, 6, 7, 9, 8, 6, 7, 5, 7]])"
      ]
     },
     "execution_count": 16,
     "metadata": {},
     "output_type": "execute_result"
    }
   ],
   "source": [
    "r = np.hstack((x, y, z))  # col wise concatenation \n",
    "r"
   ]
  },
  {
   "cell_type": "code",
   "execution_count": 17,
   "id": "b1f8c58b",
   "metadata": {},
   "outputs": [
    {
     "data": {
      "text/plain": [
       "array([[3, 9, 6, 4, 5, 9, 3, 5, 5, 8, 6, 3, 4],\n",
       "       [3, 9, 1, 8, 2, 1, 9, 7, 2, 2, 6, 2, 8],\n",
       "       [1, 1, 6, 4, 7, 5, 5, 9, 7, 2, 1, 4, 4],\n",
       "       [7, 8, 3, 6, 8, 8, 4, 6, 4, 2, 3, 6, 1],\n",
       "       [6, 6, 8, 2, 8, 6, 7, 9, 8, 6, 7, 5, 7]])"
      ]
     },
     "execution_count": 17,
     "metadata": {},
     "output_type": "execute_result"
    }
   ],
   "source": [
    "r = np.c_[x, y, z]  # another way to combine all the cols\n",
    "r"
   ]
  },
  {
   "cell_type": "code",
   "execution_count": 18,
   "id": "bd7b457b",
   "metadata": {},
   "outputs": [
    {
     "data": {
      "text/plain": [
       "array([[3, 9, 6, 4, 5, 9, 3, 5, 5, 8, 6, 3, 4],\n",
       "       [3, 9, 1, 8, 2, 1, 9, 7, 2, 2, 6, 2, 8],\n",
       "       [1, 1, 6, 4, 7, 5, 5, 9, 7, 2, 1, 4, 4],\n",
       "       [7, 8, 3, 6, 8, 8, 4, 6, 4, 2, 3, 6, 1],\n",
       "       [6, 6, 8, 2, 8, 6, 7, 9, 8, 6, 7, 5, 7]])"
      ]
     },
     "execution_count": 18,
     "metadata": {},
     "output_type": "execute_result"
    }
   ],
   "source": [
    "r = np.concatenate((x, y, z), axis = 1)  # we can combine horizontally and vertically both by providing thr axis\n",
    "r"
   ]
  },
  {
   "cell_type": "code",
   "execution_count": 19,
   "id": "082a31f6",
   "metadata": {},
   "outputs": [],
   "source": [
    "z = np.random.randint(1, 20, (3, 3))\n",
    "k = np.random.randint(1, 10, (5, 3))\n",
    "p = np.random.randint(1, 20, (2, 3))"
   ]
  },
  {
   "cell_type": "code",
   "execution_count": 20,
   "id": "5588cb1e",
   "metadata": {},
   "outputs": [
    {
     "name": "stdout",
     "output_type": "stream",
     "text": [
      "[[17  2  4]\n",
      " [ 4 18 19]\n",
      " [ 1  4  7]]\n",
      "[[1 2 6]\n",
      " [8 6 7]\n",
      " [4 8 1]\n",
      " [9 5 7]\n",
      " [2 2 4]]\n",
      "[[ 1  1 11]\n",
      " [ 3  5  3]]\n"
     ]
    }
   ],
   "source": [
    "print(z)\n",
    "print(k)\n",
    "print(p)"
   ]
  },
  {
   "cell_type": "code",
   "execution_count": 21,
   "id": "7beb513d",
   "metadata": {},
   "outputs": [
    {
     "data": {
      "text/plain": [
       "array([[17,  2,  4],\n",
       "       [ 4, 18, 19],\n",
       "       [ 1,  4,  7],\n",
       "       [ 1,  2,  6],\n",
       "       [ 8,  6,  7],\n",
       "       [ 4,  8,  1],\n",
       "       [ 9,  5,  7],\n",
       "       [ 2,  2,  4],\n",
       "       [ 1,  1, 11],\n",
       "       [ 3,  5,  3]])"
      ]
     },
     "execution_count": 21,
     "metadata": {},
     "output_type": "execute_result"
    }
   ],
   "source": [
    "r = np.vstack((z, k, p))\n",
    "r"
   ]
  },
  {
   "cell_type": "code",
   "execution_count": 22,
   "id": "2c2eb84c",
   "metadata": {},
   "outputs": [
    {
     "data": {
      "text/plain": [
       "array([[17,  2,  4],\n",
       "       [ 4, 18, 19],\n",
       "       [ 1,  4,  7],\n",
       "       [ 1,  2,  6],\n",
       "       [ 8,  6,  7],\n",
       "       [ 4,  8,  1],\n",
       "       [ 9,  5,  7],\n",
       "       [ 2,  2,  4],\n",
       "       [ 1,  1, 11],\n",
       "       [ 3,  5,  3]])"
      ]
     },
     "execution_count": 22,
     "metadata": {},
     "output_type": "execute_result"
    }
   ],
   "source": [
    "r = np.r_[z, k, p]\n",
    "r"
   ]
  },
  {
   "cell_type": "code",
   "execution_count": 23,
   "id": "8e8b7219",
   "metadata": {},
   "outputs": [
    {
     "data": {
      "text/plain": [
       "array([[17,  2,  4],\n",
       "       [ 4, 18, 19],\n",
       "       [ 1,  4,  7],\n",
       "       [ 1,  2,  6],\n",
       "       [ 8,  6,  7],\n",
       "       [ 4,  8,  1],\n",
       "       [ 9,  5,  7],\n",
       "       [ 2,  2,  4],\n",
       "       [ 1,  1, 11],\n",
       "       [ 3,  5,  3]])"
      ]
     },
     "execution_count": 23,
     "metadata": {},
     "output_type": "execute_result"
    }
   ],
   "source": [
    "r = np.concatenate((z, k, p), axis=0)\n",
    "r"
   ]
  },
  {
   "cell_type": "code",
   "execution_count": 24,
   "id": "7a3e400c",
   "metadata": {},
   "outputs": [
    {
     "data": {
      "text/plain": [
       "array([2316, 1933, 1860, 2276, 2210, 2498, 2202, 1826, 2016, 1506])"
      ]
     },
     "execution_count": 24,
     "metadata": {},
     "output_type": "execute_result"
    }
   ],
   "source": [
    "weight"
   ]
  },
  {
   "cell_type": "code",
   "execution_count": 25,
   "id": "a359838c",
   "metadata": {},
   "outputs": [
    {
     "data": {
      "text/plain": [
       "array([ 6,  6, 11,  8, 23,  8,  7,  8, 29, 25])"
      ]
     },
     "execution_count": 25,
     "metadata": {},
     "output_type": "execute_result"
    }
   ],
   "source": [
    "mpg"
   ]
  },
  {
   "cell_type": "code",
   "execution_count": 26,
   "id": "e29880fe",
   "metadata": {},
   "outputs": [
    {
     "data": {
      "text/plain": [
       "array([[2316, 1933, 1860, 2276, 2210, 2498, 2202, 1826, 2016, 1506],\n",
       "       [   6,    6,   11,    8,   23,    8,    7,    8,   29,   25]])"
      ]
     },
     "execution_count": 26,
     "metadata": {},
     "output_type": "execute_result"
    }
   ],
   "source": [
    "r = np.vstack((weight, mpg))\n",
    "r"
   ]
  },
  {
   "cell_type": "code",
   "execution_count": 27,
   "id": "02e5f7d2",
   "metadata": {},
   "outputs": [
    {
     "data": {
      "text/plain": [
       "array([[2316,    6],\n",
       "       [1933,    6],\n",
       "       [1860,   11],\n",
       "       [2276,    8],\n",
       "       [2210,   23],\n",
       "       [2498,    8],\n",
       "       [2202,    7],\n",
       "       [1826,    8],\n",
       "       [2016,   29],\n",
       "       [1506,   25]])"
      ]
     },
     "execution_count": 27,
     "metadata": {},
     "output_type": "execute_result"
    }
   ],
   "source": [
    "new_arr = np.concatenate((weight.reshape(-1, 1), mpg.reshape(-1, 1)), axis = 1)\n",
    "new_arr"
   ]
  },
  {
   "cell_type": "code",
   "execution_count": 28,
   "id": "e1799a89",
   "metadata": {},
   "outputs": [
    {
     "data": {
      "text/plain": [
       "array([[1506,    6],\n",
       "       [1826,    6],\n",
       "       [1860,    7],\n",
       "       [1933,    8],\n",
       "       [2016,    8],\n",
       "       [2202,    8],\n",
       "       [2210,   11],\n",
       "       [2276,   23],\n",
       "       [2316,   25],\n",
       "       [2498,   29]])"
      ]
     },
     "execution_count": 28,
     "metadata": {},
     "output_type": "execute_result"
    }
   ],
   "source": [
    "new_arr.sort(axis = 0)  # the corresponding values are changed so this method can't be used for sorting\n",
    "new_arr"
   ]
  },
  {
   "cell_type": "code",
   "execution_count": 29,
   "id": "2ee4ad8b",
   "metadata": {},
   "outputs": [
    {
     "data": {
      "text/plain": [
       "array([2316, 1933, 1860, 2276, 2210, 2498, 2202, 1826, 2016, 1506])"
      ]
     },
     "execution_count": 29,
     "metadata": {},
     "output_type": "execute_result"
    }
   ],
   "source": [
    "weight"
   ]
  },
  {
   "cell_type": "code",
   "execution_count": 30,
   "id": "13810979",
   "metadata": {},
   "outputs": [
    {
     "data": {
      "text/plain": [
       "array([ 6,  6, 11,  8, 23,  8,  7,  8, 29, 25])"
      ]
     },
     "execution_count": 30,
     "metadata": {},
     "output_type": "execute_result"
    }
   ],
   "source": [
    "mpg"
   ]
  },
  {
   "cell_type": "code",
   "execution_count": 31,
   "id": "93bf3c85",
   "metadata": {},
   "outputs": [
    {
     "data": {
      "text/plain": [
       "array([[2316],\n",
       "       [1933],\n",
       "       [1860],\n",
       "       [2276],\n",
       "       [2210],\n",
       "       [2498],\n",
       "       [2202],\n",
       "       [1826],\n",
       "       [2016],\n",
       "       [1506]])"
      ]
     },
     "execution_count": 31,
     "metadata": {},
     "output_type": "execute_result"
    }
   ],
   "source": [
    "weight.reshape(-1, 1)"
   ]
  },
  {
   "cell_type": "code",
   "execution_count": 32,
   "id": "59cb2334",
   "metadata": {},
   "outputs": [
    {
     "data": {
      "text/plain": [
       "array([[ 6],\n",
       "       [ 6],\n",
       "       [11],\n",
       "       [ 8],\n",
       "       [23],\n",
       "       [ 8],\n",
       "       [ 7],\n",
       "       [ 8],\n",
       "       [29],\n",
       "       [25]])"
      ]
     },
     "execution_count": 32,
     "metadata": {},
     "output_type": "execute_result"
    }
   ],
   "source": [
    "mpg.reshape(-1, 1)"
   ]
  },
  {
   "cell_type": "markdown",
   "id": "65f1554f",
   "metadata": {},
   "source": [
    "np.argsort(arr) -  index which represents array in sorted form"
   ]
  },
  {
   "cell_type": "code",
   "execution_count": 33,
   "id": "35f9efa2",
   "metadata": {},
   "outputs": [],
   "source": [
    "a = np.array([10, 50, 30, 20, 80, 40, 60])"
   ]
  },
  {
   "cell_type": "code",
   "execution_count": 34,
   "id": "d1a9121d",
   "metadata": {},
   "outputs": [
    {
     "data": {
      "text/plain": [
       "array([0, 3, 2, 5, 1, 6, 4], dtype=int64)"
      ]
     },
     "execution_count": 34,
     "metadata": {},
     "output_type": "execute_result"
    }
   ],
   "source": [
    "np.argsort(a)"
   ]
  },
  {
   "cell_type": "code",
   "execution_count": 35,
   "id": "e82dd401",
   "metadata": {},
   "outputs": [
    {
     "data": {
      "text/plain": [
       "array([2316, 1933, 1860, 2276, 2210, 2498, 2202, 1826, 2016, 1506])"
      ]
     },
     "execution_count": 35,
     "metadata": {},
     "output_type": "execute_result"
    }
   ],
   "source": [
    "weight"
   ]
  },
  {
   "cell_type": "code",
   "execution_count": 36,
   "id": "8f73a7c5",
   "metadata": {},
   "outputs": [
    {
     "data": {
      "text/plain": [
       "array([ 6,  6, 11,  8, 23,  8,  7,  8, 29, 25])"
      ]
     },
     "execution_count": 36,
     "metadata": {},
     "output_type": "execute_result"
    }
   ],
   "source": [
    "mpg"
   ]
  },
  {
   "cell_type": "code",
   "execution_count": 37,
   "id": "3ebe5796",
   "metadata": {},
   "outputs": [
    {
     "name": "stdout",
     "output_type": "stream",
     "text": [
      "[0 1 6 3 5 7 2 4 9 8]\n"
     ]
    }
   ],
   "source": [
    "ix = np.argsort(mpg)\n",
    "print(ix)"
   ]
  },
  {
   "cell_type": "code",
   "execution_count": 38,
   "id": "85c9ec9a",
   "metadata": {},
   "outputs": [
    {
     "data": {
      "text/plain": [
       "array([2316, 1933, 2202, 2276, 2498, 1826, 1860, 2210, 1506, 2016])"
      ]
     },
     "execution_count": 38,
     "metadata": {},
     "output_type": "execute_result"
    }
   ],
   "source": [
    "weight[ix]"
   ]
  },
  {
   "cell_type": "code",
   "execution_count": 39,
   "id": "079211e1",
   "metadata": {},
   "outputs": [
    {
     "data": {
      "text/plain": [
       "array([ 6,  6,  7,  8,  8,  8, 11, 23, 25, 29])"
      ]
     },
     "execution_count": 39,
     "metadata": {},
     "output_type": "execute_result"
    }
   ],
   "source": [
    "mpg[ix]"
   ]
  },
  {
   "cell_type": "code",
   "execution_count": 40,
   "id": "f924c757",
   "metadata": {},
   "outputs": [],
   "source": [
    "rel = np.concatenate(\n",
    "    (weight[np.argsort(mpg)].reshape(-1, 1),\n",
    "     mpg[np.argsort(mpg).reshape(-1, 1)]),\n",
    "     axis = 1\n",
    ")"
   ]
  },
  {
   "cell_type": "code",
   "execution_count": 41,
   "id": "3e87c315",
   "metadata": {},
   "outputs": [
    {
     "name": "stdout",
     "output_type": "stream",
     "text": [
      "[[2316    6]\n",
      " [1933    6]\n",
      " [2202    7]\n",
      " [2276    8]\n",
      " [2498    8]\n",
      " [1826    8]\n",
      " [1860   11]\n",
      " [2210   23]\n",
      " [1506   25]\n",
      " [2016   29]]\n"
     ]
    }
   ],
   "source": [
    "print(rel)"
   ]
  },
  {
   "cell_type": "code",
   "execution_count": 42,
   "id": "0294da0a",
   "metadata": {},
   "outputs": [
    {
     "data": {
      "text/plain": [
       "array([[2316,    6],\n",
       "       [1933,    6],\n",
       "       [2202,    7],\n",
       "       [2276,    8],\n",
       "       [2498,    8],\n",
       "       [1826,    8],\n",
       "       [1860,   11],\n",
       "       [2210,   23],\n",
       "       [1506,   25],\n",
       "       [2016,   29]])"
      ]
     },
     "execution_count": 42,
     "metadata": {},
     "output_type": "execute_result"
    }
   ],
   "source": [
    "rel"
   ]
  },
  {
   "cell_type": "code",
   "execution_count": 43,
   "id": "f672da77",
   "metadata": {},
   "outputs": [
    {
     "data": {
      "text/plain": [
       "8"
      ]
     },
     "execution_count": 43,
     "metadata": {},
     "output_type": "execute_result"
    }
   ],
   "source": [
    "np.argmax(mpg)  # gives the index of max milege"
   ]
  },
  {
   "cell_type": "code",
   "execution_count": 44,
   "id": "c620f228",
   "metadata": {},
   "outputs": [
    {
     "data": {
      "text/plain": [
       "0"
      ]
     },
     "execution_count": 44,
     "metadata": {},
     "output_type": "execute_result"
    }
   ],
   "source": [
    "np.argmin(mpg)  # gives the index of min milege"
   ]
  },
  {
   "cell_type": "code",
   "execution_count": 45,
   "id": "075d5a33",
   "metadata": {},
   "outputs": [
    {
     "data": {
      "text/plain": [
       "11"
      ]
     },
     "execution_count": 45,
     "metadata": {},
     "output_type": "execute_result"
    }
   ],
   "source": [
    "mpg[2]"
   ]
  },
  {
   "cell_type": "code",
   "execution_count": 46,
   "id": "e3760fe2",
   "metadata": {},
   "outputs": [
    {
     "data": {
      "text/plain": [
       "8"
      ]
     },
     "execution_count": 46,
     "metadata": {},
     "output_type": "execute_result"
    }
   ],
   "source": [
    "mpg[7]"
   ]
  },
  {
   "cell_type": "code",
   "execution_count": 47,
   "id": "6d8733a5",
   "metadata": {},
   "outputs": [
    {
     "data": {
      "text/plain": [
       "2016"
      ]
     },
     "execution_count": 47,
     "metadata": {},
     "output_type": "execute_result"
    }
   ],
   "source": [
    "# weight of car which is having heighest milege\n",
    "weight[np.argmax(mpg)]"
   ]
  },
  {
   "cell_type": "markdown",
   "id": "29c3cd74",
   "metadata": {},
   "source": [
    "### Pandas\n",
    "    high level data preprocessing library of pyhton which is based on numpy arrays\n",
    "    series -> 1D col vector / 1D array\n",
    "    dataFrame -> 2D spread sheet like object / collection of series on axis - 1 logiaclly connected with indexed\n",
    "    pannel -> 3D object which is collection of DataFrames"
   ]
  },
  {
   "cell_type": "code",
   "execution_count": 48,
   "id": "e7b0fd03",
   "metadata": {},
   "outputs": [],
   "source": [
    "import pandas as pd"
   ]
  },
  {
   "cell_type": "code",
   "execution_count": 49,
   "id": "b1f6e848",
   "metadata": {},
   "outputs": [
    {
     "data": {
      "text/plain": [
       "array([23, 45,  6,  7, 98, 90])"
      ]
     },
     "execution_count": 49,
     "metadata": {},
     "output_type": "execute_result"
    }
   ],
   "source": [
    "a1 = np.array([23, 45, 6, 7, 98, 90])\n",
    "a1"
   ]
  },
  {
   "cell_type": "code",
   "execution_count": 50,
   "id": "3aa3c362",
   "metadata": {},
   "outputs": [],
   "source": [
    "s1 = pd.Series([35, 40, 50, 20, 25, 25, 70])"
   ]
  },
  {
   "cell_type": "code",
   "execution_count": 51,
   "id": "e46c0ca0",
   "metadata": {},
   "outputs": [
    {
     "name": "stdout",
     "output_type": "stream",
     "text": [
      "0    35\n",
      "1    40\n",
      "2    50\n",
      "3    20\n",
      "4    25\n",
      "5    25\n",
      "6    70\n",
      "dtype: int64\n"
     ]
    }
   ],
   "source": [
    "print(s1)"
   ]
  },
  {
   "cell_type": "code",
   "execution_count": 52,
   "id": "5392e6b9",
   "metadata": {},
   "outputs": [
    {
     "data": {
      "text/plain": [
       "35"
      ]
     },
     "execution_count": 52,
     "metadata": {},
     "output_type": "execute_result"
    }
   ],
   "source": [
    "s1[0]"
   ]
  },
  {
   "cell_type": "code",
   "execution_count": 53,
   "id": "6c4785a2",
   "metadata": {},
   "outputs": [
    {
     "data": {
      "text/plain": [
       "50"
      ]
     },
     "execution_count": 53,
     "metadata": {},
     "output_type": "execute_result"
    }
   ],
   "source": [
    "s1[2]"
   ]
  },
  {
   "cell_type": "markdown",
   "id": "9e23dbe6",
   "metadata": {},
   "source": [
    "'indexing and slicing in series'\n",
    "    seriesloc[i] -> label indexes, series indexes\n",
    "    series.iloc[i] ->default indexes 0 - n-1, array indexes "
   ]
  },
  {
   "cell_type": "code",
   "execution_count": 54,
   "id": "1a4c9da9",
   "metadata": {},
   "outputs": [
    {
     "data": {
      "text/plain": [
       "70"
      ]
     },
     "execution_count": 54,
     "metadata": {},
     "output_type": "execute_result"
    }
   ],
   "source": [
    "s1.iloc[-1]  # can be used as normal indexing"
   ]
  },
  {
   "cell_type": "code",
   "execution_count": 73,
   "id": "f1d4f2e1",
   "metadata": {},
   "outputs": [
    {
     "data": {
      "text/plain": [
       "35"
      ]
     },
     "execution_count": 73,
     "metadata": {},
     "output_type": "execute_result"
    }
   ],
   "source": [
    "s1.loc[0]  # can only be applied to the index which are avialable in the array"
   ]
  },
  {
   "cell_type": "code",
   "execution_count": 56,
   "id": "f4235550",
   "metadata": {},
   "outputs": [],
   "source": [
    "s2 = pd.Series([35, 40, 50, 20, 25, 25, 70], \n",
    "              name = \"salary\", \n",
    "              dtype = np.int32,\n",
    "              index = [\"sachin\", \"Tanvi\", \"Vijay\", \"sam\", \"simran\", \"Ravi\", \"Rajat\"])  # indexing is not avialable in array\n",
    "# Series is type of mapping func in java"
   ]
  },
  {
   "cell_type": "code",
   "execution_count": 57,
   "id": "6e6292cb",
   "metadata": {},
   "outputs": [
    {
     "data": {
      "text/plain": [
       "sachin    35\n",
       "Tanvi     40\n",
       "Vijay     50\n",
       "sam       20\n",
       "simran    25\n",
       "Ravi      25\n",
       "Rajat     70\n",
       "Name: salary, dtype: int32"
      ]
     },
     "execution_count": 57,
     "metadata": {},
     "output_type": "execute_result"
    }
   ],
   "source": [
    "s2"
   ]
  },
  {
   "cell_type": "code",
   "execution_count": 58,
   "id": "d507eed3",
   "metadata": {},
   "outputs": [
    {
     "data": {
      "text/plain": [
       "40"
      ]
     },
     "execution_count": 58,
     "metadata": {},
     "output_type": "execute_result"
    }
   ],
   "source": [
    "s1[1]  # numpy index"
   ]
  },
  {
   "cell_type": "code",
   "execution_count": 59,
   "id": "5ddcc91f",
   "metadata": {},
   "outputs": [
    {
     "data": {
      "text/plain": [
       "40"
      ]
     },
     "execution_count": 59,
     "metadata": {},
     "output_type": "execute_result"
    }
   ],
   "source": [
    "s1.iloc[1] # series index"
   ]
  },
  {
   "cell_type": "code",
   "execution_count": 60,
   "id": "62eb38e5",
   "metadata": {},
   "outputs": [
    {
     "data": {
      "text/plain": [
       "20"
      ]
     },
     "execution_count": 60,
     "metadata": {},
     "output_type": "execute_result"
    }
   ],
   "source": [
    "s2[\"sam\"]  # label(series) index(_we dont use this indexing_)"
   ]
  },
  {
   "cell_type": "code",
   "execution_count": 61,
   "id": "05c8b501",
   "metadata": {},
   "outputs": [
    {
     "data": {
      "text/plain": [
       "20"
      ]
     },
     "execution_count": 61,
     "metadata": {},
     "output_type": "execute_result"
    }
   ],
   "source": [
    "s2.loc[\"sam\"]"
   ]
  },
  {
   "cell_type": "code",
   "execution_count": 62,
   "id": "eab9b604",
   "metadata": {},
   "outputs": [
    {
     "data": {
      "text/plain": [
       "sachin    35\n",
       "Tanvi     40\n",
       "Vijay     50\n",
       "sam       20\n",
       "simran    25\n",
       "Name: salary, dtype: int32"
      ]
     },
     "execution_count": 62,
     "metadata": {},
     "output_type": "execute_result"
    }
   ],
   "source": [
    "s2[\"sachin\":\"simran\"] # not recommended "
   ]
  },
  {
   "cell_type": "code",
   "execution_count": 63,
   "id": "97db3db2",
   "metadata": {},
   "outputs": [
    {
     "data": {
      "text/plain": [
       "sachin    35\n",
       "Tanvi     40\n",
       "Vijay     50\n",
       "sam       20\n",
       "Name: salary, dtype: int32"
      ]
     },
     "execution_count": 63,
     "metadata": {},
     "output_type": "execute_result"
    }
   ],
   "source": [
    "s2[0:4]  # numpy indexing"
   ]
  },
  {
   "cell_type": "code",
   "execution_count": 64,
   "id": "214fffdc",
   "metadata": {},
   "outputs": [
    {
     "data": {
      "text/plain": [
       "sachin    35\n",
       "Tanvi     40\n",
       "Vijay     50\n",
       "sam       20\n",
       "simran    25\n",
       "Name: salary, dtype: int32"
      ]
     },
     "execution_count": 64,
     "metadata": {},
     "output_type": "execute_result"
    }
   ],
   "source": [
    "s2.loc[\"sachin\":\"simran\"]  # series indexing / lebel indexing"
   ]
  },
  {
   "cell_type": "code",
   "execution_count": 65,
   "id": "91eff8f4",
   "metadata": {},
   "outputs": [
    {
     "data": {
      "text/plain": [
       "Index(['sachin', 'Tanvi', 'Vijay', 'sam', 'simran', 'Ravi', 'Rajat'], dtype='object')"
      ]
     },
     "execution_count": 65,
     "metadata": {},
     "output_type": "execute_result"
    }
   ],
   "source": [
    "s2.index  # this gives only the index"
   ]
  },
  {
   "cell_type": "code",
   "execution_count": 66,
   "id": "5ef400d3",
   "metadata": {},
   "outputs": [
    {
     "data": {
      "text/plain": [
       "sachin    55\n",
       "Tanvi     60\n",
       "Vijay     70\n",
       "sam       40\n",
       "simran    45\n",
       "Ravi      45\n",
       "Rajat     90\n",
       "Name: salary, dtype: int32"
      ]
     },
     "execution_count": 66,
     "metadata": {},
     "output_type": "execute_result"
    }
   ],
   "source": [
    "s2 + 20  # same as array operations"
   ]
  },
  {
   "cell_type": "code",
   "execution_count": 67,
   "id": "3ff38da2",
   "metadata": {},
   "outputs": [],
   "source": [
    "s3 = pd.Series([10, 15, 8, 5, 20, 5, 15],\n",
    "              index = s2.index, name=\"hike\", dtype = np.int32)"
   ]
  },
  {
   "cell_type": "code",
   "execution_count": 68,
   "id": "100ddfb9",
   "metadata": {},
   "outputs": [
    {
     "data": {
      "text/plain": [
       "sachin    35\n",
       "Tanvi     40\n",
       "Vijay     50\n",
       "sam       20\n",
       "simran    25\n",
       "Ravi      25\n",
       "Rajat     70\n",
       "Name: salary, dtype: int32"
      ]
     },
     "execution_count": 68,
     "metadata": {},
     "output_type": "execute_result"
    }
   ],
   "source": [
    "s2"
   ]
  },
  {
   "cell_type": "code",
   "execution_count": 69,
   "id": "88903dfd",
   "metadata": {},
   "outputs": [
    {
     "data": {
      "text/plain": [
       "sachin    10\n",
       "Tanvi     15\n",
       "Vijay      8\n",
       "sam        5\n",
       "simran    20\n",
       "Ravi       5\n",
       "Rajat     15\n",
       "Name: hike, dtype: int32"
      ]
     },
     "execution_count": 69,
     "metadata": {},
     "output_type": "execute_result"
    }
   ],
   "source": [
    "s3"
   ]
  },
  {
   "cell_type": "code",
   "execution_count": 70,
   "id": "7dd562a5",
   "metadata": {},
   "outputs": [
    {
     "data": {
      "text/plain": [
       "sachin     3.50\n",
       "Tanvi      6.00\n",
       "Vijay      4.00\n",
       "sam        1.00\n",
       "simran     5.00\n",
       "Ravi       1.25\n",
       "Rajat     10.50\n",
       "dtype: float64"
      ]
     },
     "execution_count": 70,
     "metadata": {},
     "output_type": "execute_result"
    }
   ],
   "source": [
    "s2*(s3/100)"
   ]
  },
  {
   "cell_type": "code",
   "execution_count": 71,
   "id": "8f3c0096",
   "metadata": {},
   "outputs": [
    {
     "data": {
      "text/plain": [
       "sachin    38.50\n",
       "Tanvi     46.00\n",
       "Vijay     54.00\n",
       "sam       21.00\n",
       "simran    30.00\n",
       "Ravi      26.25\n",
       "Rajat     80.50\n",
       "dtype: float64"
      ]
     },
     "execution_count": 71,
     "metadata": {},
     "output_type": "execute_result"
    }
   ],
   "source": [
    "s2*(s3/100) + s2"
   ]
  },
  {
   "cell_type": "code",
   "execution_count": 74,
   "id": "b04b3c16",
   "metadata": {},
   "outputs": [],
   "source": [
    "s7 = pd.Series([35, 40, 50, 20, 25, 25, 70], \n",
    "              name = \"salary\", \n",
    "              dtype = np.int32,\n",
    "              index = [\"sachin\", \"Tanvi\", \"Vijay\", \"sam\", \"simran\", \"Ravi\", \"Rajat\"])  # indexing is not avialable in array\n",
    "# Series is type of mapping func in java"
   ]
  },
  {
   "cell_type": "code",
   "execution_count": 76,
   "id": "e879f58e",
   "metadata": {},
   "outputs": [
    {
     "data": {
      "text/plain": [
       "35"
      ]
     },
     "execution_count": 76,
     "metadata": {},
     "output_type": "execute_result"
    }
   ],
   "source": [
    "s7.loc[\"sachin\"]"
   ]
  },
  {
   "cell_type": "code",
   "execution_count": 79,
   "id": "e5d4a878",
   "metadata": {},
   "outputs": [
    {
     "data": {
      "text/plain": [
       "20"
      ]
     },
     "execution_count": 79,
     "metadata": {},
     "output_type": "execute_result"
    }
   ],
   "source": [
    "s7.loc[\"sam\"]"
   ]
  },
  {
   "cell_type": "code",
   "execution_count": 77,
   "id": "f8de425f",
   "metadata": {},
   "outputs": [
    {
     "data": {
      "text/plain": [
       "50"
      ]
     },
     "execution_count": 77,
     "metadata": {},
     "output_type": "execute_result"
    }
   ],
   "source": [
    "s7.iloc[2]"
   ]
  },
  {
   "cell_type": "code",
   "execution_count": 78,
   "id": "afc30a63",
   "metadata": {},
   "outputs": [
    {
     "data": {
      "text/plain": [
       "sachin    35\n",
       "Tanvi     40\n",
       "Vijay     50\n",
       "sam       20\n",
       "simran    25\n",
       "Ravi      25\n",
       "Rajat     70\n",
       "Name: salary, dtype: int32"
      ]
     },
     "execution_count": 78,
     "metadata": {},
     "output_type": "execute_result"
    }
   ],
   "source": [
    "s7"
   ]
  },
  {
   "cell_type": "code",
   "execution_count": null,
   "id": "64cbcb4e",
   "metadata": {},
   "outputs": [],
   "source": []
  }
 ],
 "metadata": {
  "kernelspec": {
   "display_name": "Python 3 (ipykernel)",
   "language": "python",
   "name": "python3"
  },
  "language_info": {
   "codemirror_mode": {
    "name": "ipython",
    "version": 3
   },
   "file_extension": ".py",
   "mimetype": "text/x-python",
   "name": "python",
   "nbconvert_exporter": "python",
   "pygments_lexer": "ipython3",
   "version": "3.10.9"
  }
 },
 "nbformat": 4,
 "nbformat_minor": 5
}
