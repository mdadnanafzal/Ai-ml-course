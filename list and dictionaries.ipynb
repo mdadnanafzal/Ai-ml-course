{
 "cells": [
  {
   "cell_type": "code",
   "execution_count": 2,
   "id": "5318bd42",
   "metadata": {},
   "outputs": [
    {
     "name": "stdout",
     "output_type": "stream",
     "text": [
      "X: 10\n",
      "Y: 20\n",
      "\"\n",
      "   x = 10\n",
      "   y = 20\n",
      "   10 / 20 = '0.50'\n",
      "\n"
     ]
    }
   ],
   "source": [
    "result = \"\"\"\"\n",
    "   x = %d\n",
    "   y = %d\n",
    "   %d / %d = '%.2f'\n",
    "\"\"\"\n",
    "x = int(input(\"X: \"))\n",
    "y = int(input(\"Y: \"))\n",
    "r = x / y\n",
    "print(result%(x, y, x, y, r))"
   ]
  },
  {
   "cell_type": "code",
   "execution_count": 3,
   "id": "a76e6582",
   "metadata": {},
   "outputs": [
    {
     "ename": "AttributeError",
     "evalue": "'str' object has no attribute 'titile'",
     "output_type": "error",
     "traceback": [
      "\u001b[1;31m---------------------------------------------------------------------------\u001b[0m",
      "\u001b[1;31mAttributeError\u001b[0m                            Traceback (most recent call last)",
      "Cell \u001b[1;32mIn[3], line 6\u001b[0m\n\u001b[0;32m      2\u001b[0m x \u001b[38;5;241m=\u001b[39m \u001b[38;5;241m22\u001b[39m\n\u001b[0;32m      3\u001b[0m y \u001b[38;5;241m=\u001b[39m \u001b[38;5;241m7\u001b[39m\n\u001b[0;32m      5\u001b[0m result \u001b[38;5;241m=\u001b[39m \u001b[38;5;124mf\u001b[39m\u001b[38;5;124m\"\"\"\u001b[39m\n\u001b[1;32m----> 6\u001b[0m \u001b[38;5;124mhello \u001b[39m\u001b[38;5;132;01m{\u001b[39;00mname\u001b[38;5;241m.\u001b[39mstrip()\u001b[38;5;241m.\u001b[39mtitile()\u001b[38;5;132;01m}\u001b[39;00m\n\u001b[0;32m      7\u001b[0m \u001b[38;5;124m    x = \u001b[39m\u001b[38;5;132;01m{\u001b[39;00mx\u001b[38;5;132;01m}\u001b[39;00m\n\u001b[0;32m      8\u001b[0m \u001b[38;5;124m    y = \u001b[39m\u001b[38;5;132;01m{\u001b[39;00my\u001b[38;5;132;01m}\u001b[39;00m\n\u001b[0;32m      9\u001b[0m \u001b[38;5;124m    \u001b[39m\u001b[38;5;132;01m{\u001b[39;00mx\u001b[38;5;132;01m}\u001b[39;00m\u001b[38;5;124m/\u001b[39m\u001b[38;5;132;01m{\u001b[39;00my\u001b[38;5;132;01m}\u001b[39;00m\u001b[38;5;132;01m{\u001b[39;00mx\u001b[38;5;241m/\u001b[39my\u001b[38;5;132;01m}\u001b[39;00m\n\u001b[0;32m     10\u001b[0m \u001b[38;5;124m\"\"\"\u001b[39m\n",
      "\u001b[1;31mAttributeError\u001b[0m: 'str' object has no attribute 'titile'"
     ]
    }
   ],
   "source": [
    "name =\"   adnan afzal    \"\n",
    "x = 22\n",
    "y = 7\n",
    "\n",
    "result = f\"\"\"\n",
    "hello {name.strip().titile()}\n",
    "    x = {x}\n",
    "    y = {y}\n",
    "    {x}/{y}{x/y}\n",
    "\"\"\""
   ]
  },
  {
   "cell_type": "code",
   "execution_count": 4,
   "id": "f183647f",
   "metadata": {},
   "outputs": [
    {
     "name": "stdout",
     "output_type": "stream",
     "text": [
      "----------*----------\n",
      "---------***---------\n",
      "--------*****--------\n",
      "-------*******-------\n",
      "------*********------\n",
      "-----***********-----\n",
      "----*************----\n",
      "---***************---\n",
      "--*****************--\n",
      "-*******************-\n",
      "*********************\n"
     ]
    }
   ],
   "source": [
    "i = 1\n",
    "while i <= 21:\n",
    "    s = \"*\"*i\n",
    "    print(s.center(21,\"-\"))\n",
    "    i = i+2"
   ]
  },
  {
   "cell_type": "code",
   "execution_count": 5,
   "id": "a8d7c07f",
   "metadata": {},
   "outputs": [
    {
     "name": "stdout",
     "output_type": "stream",
     "text": [
      "----------*----------\n",
      "---------***---------\n",
      "--------*****--------\n",
      "-------*******-------\n",
      "------*********------\n",
      "-----***********-----\n",
      "----*************----\n",
      "---***************---\n",
      "--*****************--\n",
      "-*******************-\n",
      "*********************\n"
     ]
    }
   ],
   "source": [
    "i = 1\n",
    "while i <= 21:\n",
    "    s = \"*\"*i\n",
    "    print(f\"{s:-^21}\")\n",
    "    i = i+2"
   ]
  },
  {
   "cell_type": "code",
   "execution_count": 7,
   "id": "852786ff",
   "metadata": {},
   "outputs": [
    {
     "name": "stdout",
     "output_type": "stream",
     "text": [
      "\"\n",
      "    x = 22\n",
      "    y = 7\n",
      "    22 + 7 = 3.14\n",
      "\n"
     ]
    }
   ],
   "source": [
    "result = \"\"\"\"\n",
    "    x = {}\n",
    "    y = {}\n",
    "    {} + {} = {:.2f}\n",
    "\"\"\"\n",
    "x= 22\n",
    "y = 7\n",
    "r = x/y\n",
    "print(result.format(x , y, x, y, r))\n"
   ]
  },
  {
   "cell_type": "code",
   "execution_count": 8,
   "id": "a6661d55",
   "metadata": {},
   "outputs": [
    {
     "name": "stdout",
     "output_type": "stream",
     "text": [
      "\"\n",
      "    x = 22\n",
      "    y = 7\n",
      "    22 + 7 = 3.14\n",
      "\n"
     ]
    }
   ],
   "source": [
    "result = \"\"\"\"\n",
    "    x = {0}\n",
    "    y = {1}\n",
    "    {0} + {1} = {2:.2f}\n",
    "\"\"\"\n",
    "x= 22\n",
    "y = 7\n",
    "r = x/y\n",
    "print(result.format(x , y, r))\n",
    "#                   0   1  2"
   ]
  },
  {
   "cell_type": "code",
   "execution_count": 9,
   "id": "fe4a1c32",
   "metadata": {},
   "outputs": [],
   "source": [
    "data = [\"adnan afzal\", 27, \"India\", 2000, [\"hindi\", \"English\"]]"
   ]
  },
  {
   "cell_type": "code",
   "execution_count": 10,
   "id": "8ee16bd1",
   "metadata": {},
   "outputs": [
    {
     "name": "stdout",
     "output_type": "stream",
     "text": [
      "['adnan afzal', 27, 'India', 2000, ['hindi', 'English']]\n"
     ]
    }
   ],
   "source": [
    "print(data)"
   ]
  },
  {
   "cell_type": "code",
   "execution_count": 14,
   "id": "40fbc158",
   "metadata": {},
   "outputs": [
    {
     "ename": "TypeError",
     "evalue": "list indices must be integers or slices, not tuple",
     "output_type": "error",
     "traceback": [
      "\u001b[1;31m---------------------------------------------------------------------------\u001b[0m",
      "\u001b[1;31mTypeError\u001b[0m                                 Traceback (most recent call last)",
      "Cell \u001b[1;32mIn[14], line 1\u001b[0m\n\u001b[1;32m----> 1\u001b[0m \u001b[38;5;28mprint\u001b[39m(\u001b[43mdata\u001b[49m\u001b[43m[\u001b[49m\u001b[38;5;241;43m4\u001b[39;49m\u001b[43m,\u001b[49m\u001b[38;5;241;43m1\u001b[39;49m\u001b[43m]\u001b[49m)\n",
      "\u001b[1;31mTypeError\u001b[0m: list indices must be integers or slices, not tuple"
     ]
    }
   ],
   "source": [
    "print(data[4,1])"
   ]
  },
  {
   "cell_type": "code",
   "execution_count": 16,
   "id": "4ccfde37",
   "metadata": {},
   "outputs": [
    {
     "name": "stdout",
     "output_type": "stream",
     "text": [
      "English\n"
     ]
    }
   ],
   "source": [
    "print(data[4][1])"
   ]
  },
  {
   "cell_type": "code",
   "execution_count": 17,
   "id": "f347a23a",
   "metadata": {},
   "outputs": [
    {
     "name": "stdout",
     "output_type": "stream",
     "text": [
      "None\n"
     ]
    }
   ],
   "source": [
    "names = [\"hari\", \"manish\", \"adyy\"]\n",
    "print(names.sort())"
   ]
  },
  {
   "cell_type": "code",
   "execution_count": 18,
   "id": "9095d0b2",
   "metadata": {},
   "outputs": [
    {
     "name": "stdout",
     "output_type": "stream",
     "text": [
      "[10, 20, 100, 40]\n",
      "[]\n",
      "[]\n"
     ]
    }
   ],
   "source": [
    "nums = []\n",
    "nums.append(10)\n",
    "nums.extend([40, 20, 60])\n",
    "nums.sort()\n",
    "nums.insert(2,100)\n",
    "nums.pop()\n",
    "print(nums)\n",
    "old = nums\n",
    "nums.clear()\n",
    "print(nums)\n",
    "print(old)"
   ]
  },
  {
   "cell_type": "code",
   "execution_count": 3,
   "id": "4e737e88",
   "metadata": {},
   "outputs": [
    {
     "name": "stdout",
     "output_type": "stream",
     "text": [
      "HELLO WORLD!\n",
      "hello world!\n",
      "['hello', 'world!']\n"
     ]
    }
   ],
   "source": [
    "s = \"hello world!\"\n",
    "us = s.upper()\n",
    "ls = s.lower()\n",
    "ss = s.split()\n",
    "print(us)\n",
    "print(ls)\n",
    "print(ss)"
   ]
  },
  {
   "cell_type": "code",
   "execution_count": 4,
   "id": "7e8e9a85",
   "metadata": {},
   "outputs": [
    {
     "name": "stdout",
     "output_type": "stream",
     "text": [
      "['__add__', '__class__', '__contains__', '__delattr__', '__dir__', '__doc__', '__eq__', '__format__', '__ge__', '__getattribute__', '__getitem__', '__getnewargs__', '__gt__', '__hash__', '__init__', '__init_subclass__', '__iter__', '__le__', '__len__', '__lt__', '__mod__', '__mul__', '__ne__', '__new__', '__reduce__', '__reduce_ex__', '__repr__', '__rmod__', '__rmul__', '__setattr__', '__sizeof__', '__str__', '__subclasshook__', 'capitalize', 'casefold', 'center', 'count', 'encode', 'endswith', 'expandtabs', 'find', 'format', 'format_map', 'index', 'isalnum', 'isalpha', 'isascii', 'isdecimal', 'isdigit', 'isidentifier', 'islower', 'isnumeric', 'isprintable', 'isspace', 'istitle', 'isupper', 'join', 'ljust', 'lower', 'lstrip', 'maketrans', 'partition', 'removeprefix', 'removesuffix', 'replace', 'rfind', 'rindex', 'rjust', 'rpartition', 'rsplit', 'rstrip', 'split', 'splitlines', 'startswith', 'strip', 'swapcase', 'title', 'translate', 'upper', 'zfill']\n"
     ]
    }
   ],
   "source": [
    "print(dir(s)) # print all the data types available to the string s "
   ]
  },
  {
   "cell_type": "code",
   "execution_count": 5,
   "id": "15fa4f3d",
   "metadata": {},
   "outputs": [
    {
     "name": "stdout",
     "output_type": "stream",
     "text": [
      "Help on built-in function title:\n",
      "\n",
      "title() method of builtins.str instance\n",
      "    Return a version of the string where each word is titlecased.\n",
      "    \n",
      "    More specifically, words start with uppercased characters and all remaining\n",
      "    cased characters have lower case.\n",
      "\n"
     ]
    }
   ],
   "source": [
    "help(s.title)  # specifies abt  the title method "
   ]
  },
  {
   "cell_type": "code",
   "execution_count": 7,
   "id": "7cff8e67",
   "metadata": {},
   "outputs": [
    {
     "name": "stdout",
     "output_type": "stream",
     "text": [
      "Hey Python Is An Awsome Language\n"
     ]
    }
   ],
   "source": [
    "s = \"hey python is an awsome language\"\n",
    "ts = s.title()\n",
    "print(ts) # every letter of the string becomes upper case "
   ]
  },
  {
   "cell_type": "markdown",
   "id": "181ca417",
   "metadata": {},
   "source": [
    "#### string formatting\n",
    "if we want build a string by replacing variables in it "
   ]
  },
  {
   "cell_type": "code",
   "execution_count": null,
   "id": "c27e4828",
   "metadata": {},
   "outputs": [],
   "source": [
    "result = \"\"\"\"\n",
    "    x = ? \n",
    "    y = ?\n",
    "    x + y = ?\n",
    "\"\"\"\"\n",
    "# thera re three ways of storing variables in ? "
   ]
  },
  {
   "cell_type": "code",
   "execution_count": 16,
   "id": "3ec57ae9",
   "metadata": {},
   "outputs": [
    {
     "name": "stdout",
     "output_type": "stream",
     "text": [
      "x: 22\n",
      "Y: 7\n",
      "\n",
      "    x = 22 \n",
      "    y = 7\n",
      "    22 / 7 =       3.14\n",
      "\n"
     ]
    }
   ],
   "source": [
    "# first way of string  formatting this is the oldest way and works  in all languages\n",
    "result = \"\"\"\n",
    "    x = %d \n",
    "    y = %d\n",
    "    %d / %d = %10.2f\n",
    "\"\"\"\n",
    "\n",
    "\n",
    "x = int(input(\"x: \"))\n",
    "y = int(input(\"Y: \"))\n",
    "\n",
    "r = x / y\n",
    "print(result%(x, y, x, y, r))"
   ]
  },
  {
   "cell_type": "code",
   "execution_count": 17,
   "id": "347733ef",
   "metadata": {},
   "outputs": [
    {
     "name": "stdout",
     "output_type": "stream",
     "text": [
      "x: 22\n",
      "Y: 7\n",
      "\n",
      "    x = 22 \n",
      "    y = 7\n",
      "    22 / 7 =       3.14\n",
      "\n"
     ]
    }
   ],
   "source": [
    "# second way of formatting string\n",
    "x = int(input(\"x: \"))\n",
    "y = int(input(\"Y: \"))\n",
    "r = x / y\n",
    "result = \"\"\"\n",
    "    x = %d \n",
    "    y = %d\n",
    "    %d / %d = %10.2f\n",
    "\"\"\"%(x, y, x, y, r)\n",
    "print(result)\n"
   ]
  },
  {
   "cell_type": "markdown",
   "id": "bb42e963",
   "metadata": {},
   "source": [
    "Two ideal ways for string formatting in python:-\n",
    "i. pre -> define variable first and define template string afterwards\n",
    "ii, post -> we can define template first and whenever we got out data (variable) we can fill string(format)"
   ]
  },
  {
   "cell_type": "code",
   "execution_count": 25,
   "id": "6091fbe7",
   "metadata": {},
   "outputs": [
    {
     "name": "stdout",
     "output_type": "stream",
     "text": [
      "\n",
      "    hello Md Adnan Afzal\n",
      "    x = 22\n",
      "    y = 7\n",
      "    22 / 7 = '3.14      ' # left justification < and right justification >\n",
      "\n"
     ]
    }
   ],
   "source": [
    "# pre method or fstring method\n",
    "name = \"      md adnan afzal      \"\n",
    "x = 22\n",
    "y = 7\n",
    "result = f\"\"\"\n",
    "    hello {name.strip().title()}\n",
    "    x = {x}\n",
    "    y = {y}\n",
    "    {x} / {y} = '{x/y:<10.2f}' \n",
    "\"\"\"\n",
    "# left justification < and right justification > ans center justification ^\n",
    "print(result)"
   ]
  },
  {
   "cell_type": "markdown",
   "id": "b148b5c7",
   "metadata": {},
   "source": [
    ":< -> left justification str.ljust(width)\n",
    ":>> ->right justification str.rjust(width)\n",
    ":^ -> center justification str.center(width)"
   ]
  },
  {
   "cell_type": "code",
   "execution_count": 29,
   "id": "7ca4b8fe",
   "metadata": {},
   "outputs": [
    {
     "name": "stdout",
     "output_type": "stream",
     "text": [
      "__________________________________Adnan Afzal___________________________________\n"
     ]
    }
   ],
   "source": [
    "name = \"Adnan Afzal\"\n",
    "print(name.center(80, \"_\"))"
   ]
  },
  {
   "cell_type": "code",
   "execution_count": 38,
   "id": "4b3d08f5",
   "metadata": {},
   "outputs": [
    {
     "name": "stdout",
     "output_type": "stream",
     "text": [
      "    1 *    1 =       1\n",
      "    2 *    2 =       4\n",
      "    4 *    4 =      16\n",
      "    8 *    8 =      64\n",
      "   16 *   16 =     256\n",
      "   32 *   32 =    1024\n",
      "   64 *   64 =    4096\n",
      "  128 *  128 =   16384\n",
      "  256 *  256 =   65536\n",
      "  512 *  512 =  262144\n",
      " 1024 * 1024 = 1048576\n"
     ]
    }
   ],
   "source": [
    "var = 1\n",
    "while var <= 1024:\n",
    "    print(f\"{var:>5} *{var:>5} = {var*var:7}\")\n",
    "    var = var*2"
   ]
  },
  {
   "cell_type": "code",
   "execution_count": 43,
   "id": "a0392499",
   "metadata": {},
   "outputs": [
    {
     "name": "stdout",
     "output_type": "stream",
     "text": [
      "00001 *00001 = 0000001\n",
      "00002 *00002 = 0000002\n",
      "00004 *00004 = 0000004\n",
      "00008 *00008 = 0000008\n",
      "00016 *00016 = 0000016\n",
      "00032 *00032 = 0000032\n",
      "00064 *00064 = 0000064\n",
      "00128 *00128 = 0000128\n",
      "00256 *00256 = 0000256\n",
      "00512 *00512 = 0000512\n",
      "01024 *01024 = 0001024\n"
     ]
    }
   ],
   "source": [
    "var = 1\n",
    "while var <= 1024:\n",
    "    var = str(var)\n",
    "    print(f\"{var.zfill(5)} *{var.zfill(5)} = {var.zfill(7)}\")\n",
    "    var = int(var)\n",
    "    var = var*2"
   ]
  },
  {
   "cell_type": "code",
   "execution_count": 45,
   "id": "2a2743a7",
   "metadata": {},
   "outputs": [
    {
     "name": "stdout",
     "output_type": "stream",
     "text": [
      "*\n",
      "**\n",
      "***\n",
      "****\n",
      "*****\n",
      "******\n",
      "*******\n",
      "********\n",
      "*********\n",
      "**********\n"
     ]
    }
   ],
   "source": [
    "i = 1\n",
    "while i <= 10: \n",
    "    print(\"*\"*i)\n",
    "    i = i + 1"
   ]
  },
  {
   "cell_type": "code",
   "execution_count": 49,
   "id": "0052fb9e",
   "metadata": {},
   "outputs": [
    {
     "name": "stdout",
     "output_type": "stream",
     "text": [
      "         *\n",
      "        **\n",
      "       ***\n",
      "      ****\n",
      "     *****\n",
      "    ******\n",
      "   *******\n",
      "  ********\n",
      " *********\n",
      "**********\n"
     ]
    }
   ],
   "source": [
    "i = 1\n",
    "while i <= 10: \n",
    "    s = \"*\"*i\n",
    "    print(s.rjust(10))\n",
    "    i = i + 1"
   ]
  },
  {
   "cell_type": "code",
   "execution_count": 53,
   "id": "ac4d7b42",
   "metadata": {},
   "outputs": [
    {
     "name": "stdout",
     "output_type": "stream",
     "text": [
      "----------*----------\n",
      "---------***---------\n",
      "--------*****--------\n",
      "-------*******-------\n",
      "------*********------\n",
      "-----***********-----\n",
      "----*************----\n",
      "---***************---\n",
      "--*****************--\n",
      "-*******************-\n",
      "*********************\n"
     ]
    }
   ],
   "source": [
    "i = 1\n",
    "while i <= 21: \n",
    "    s = \"*\"*i\n",
    "    print(s.center(21, \"-\"))\n",
    "    i = i + 2"
   ]
  },
  {
   "cell_type": "code",
   "execution_count": null,
   "id": "3cf84c24",
   "metadata": {},
   "outputs": [],
   "source": [
    "app = \"\"\"\n",
    "to \n",
    "headmaster\n",
    "{}\n",
    "dear sir/mam\n",
    "due"
   ]
  }
 ],
 "metadata": {
  "kernelspec": {
   "display_name": "Python 3 (ipykernel)",
   "language": "python",
   "name": "python3"
  },
  "language_info": {
   "codemirror_mode": {
    "name": "ipython",
    "version": 3
   },
   "file_extension": ".py",
   "mimetype": "text/x-python",
   "name": "python",
   "nbconvert_exporter": "python",
   "pygments_lexer": "ipython3",
   "version": "3.10.9"
  }
 },
 "nbformat": 4,
 "nbformat_minor": 5
}
