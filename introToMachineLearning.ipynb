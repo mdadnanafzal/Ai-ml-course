{
 "cells": [
  {
   "cell_type": "markdown",
   "id": "83ff0134",
   "metadata": {},
   "source": [
    "## Machine learning\n",
    "    what is machine learning ? Types of machine learning ?\n",
    "    "
   ]
  },
  {
   "cell_type": "markdown",
   "id": "71b1d540",
   "metadata": {},
   "source": [
    "a computer program which can improve it's performance P on a given task T with experience E, is known as Machine Learning \n",
    "program"
   ]
  },
  {
   "cell_type": "markdown",
   "id": "e17a2fef",
   "metadata": {},
   "source": [
    "p performance -> Acuracy(Metrices)\n",
    "T specific task (type)\n",
    "E experience(Data)\n"
   ]
  },
  {
   "cell_type": "markdown",
   "id": "9a0d27c3",
   "metadata": {},
   "source": [
    "types of machine learning:-\n",
    "    supervised machine learning\n",
    "        regression\n",
    "        classification\n",
    "    unsupervised machine learning\n",
    "        clustering\n",
    "        dimensity reduction\n",
    "    semi-supervise machine learning\n",
    "        technique how you train machine learning model using both supervised and unsupervise techniques\n",
    "    Reinforcement machine learning\n",
    "         making ML model learn from experiences using feedbacks\n",
    "         "
   ]
  },
  {
   "cell_type": "code",
   "execution_count": null,
   "id": "e69dde35",
   "metadata": {},
   "outputs": [],
   "source": []
  }
 ],
 "metadata": {
  "kernelspec": {
   "display_name": "Python 3 (ipykernel)",
   "language": "python",
   "name": "python3"
  },
  "language_info": {
   "codemirror_mode": {
    "name": "ipython",
    "version": 3
   },
   "file_extension": ".py",
   "mimetype": "text/x-python",
   "name": "python",
   "nbconvert_exporter": "python",
   "pygments_lexer": "ipython3",
   "version": "3.10.9"
  }
 },
 "nbformat": 4,
 "nbformat_minor": 5
}
