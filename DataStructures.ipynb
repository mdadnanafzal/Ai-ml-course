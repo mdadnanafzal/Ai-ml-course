{
 "cells": [
  {
   "cell_type": "code",
   "execution_count": 1,
   "id": "d45d54bc",
   "metadata": {},
   "outputs": [
    {
     "name": "stdout",
     "output_type": "stream",
     "text": [
      "<class 'int'>\n"
     ]
    }
   ],
   "source": [
    "x = 12345\n",
    "print(type(x))"
   ]
  },
  {
   "cell_type": "code",
   "execution_count": 3,
   "id": "590200a2",
   "metadata": {},
   "outputs": [
    {
     "name": "stdout",
     "output_type": "stream",
     "text": [
      "61.6\n",
      "50.4\n",
      "313.59999999999997\n"
     ]
    }
   ],
   "source": [
    "x = 56\n",
    "y = 5.6\n",
    "print(x + y)\n",
    "print(x - y)\n",
    "print(x * y)"
   ]
  },
  {
   "cell_type": "markdown",
   "id": "994b95e9",
   "metadata": {},
   "source": [
    "#### divison operator \n",
    "true vision --> float value \n",
    " floor divison --> integer value (int  division)"
   ]
  },
  {
   "cell_type": "code",
   "execution_count": 4,
   "id": "0550cbfa",
   "metadata": {},
   "outputs": [
    {
     "name": "stdout",
     "output_type": "stream",
     "text": [
      "3.142857142857143\n",
      "3\n"
     ]
    }
   ],
   "source": [
    "x = 22\n",
    "y = 7\n",
    "r1 = x / y\n",
    "print(r1)\n",
    "print(int(x/y))"
   ]
  },
  {
   "cell_type": "code",
   "execution_count": 5,
   "id": "6b3282dd",
   "metadata": {},
   "outputs": [
    {
     "name": "stdout",
     "output_type": "stream",
     "text": [
      "3.142857142857143\n",
      "3\n"
     ]
    }
   ],
   "source": [
    "x = 22\n",
    "y = 7\n",
    "r1 = x / y\n",
    "print(r1)\n",
    "print((x//y))  # floor value interger"
   ]
  },
  {
   "cell_type": "markdown",
   "id": "7033e19a",
   "metadata": {},
   "source": [
    "2 to the power 8 = 2**8"
   ]
  },
  {
   "cell_type": "code",
   "execution_count": 6,
   "id": "8679b196",
   "metadata": {},
   "outputs": [
    {
     "name": "stdout",
     "output_type": "stream",
     "text": [
      "13.0\n"
     ]
    }
   ],
   "source": [
    "value = 169 ** (1/2)\n",
    "print(value)"
   ]
  },
  {
   "cell_type": "code",
   "execution_count": 7,
   "id": "2adeb516",
   "metadata": {},
   "outputs": [
    {
     "name": "stdout",
     "output_type": "stream",
     "text": [
      "30000000000.0\n"
     ]
    }
   ],
   "source": [
    "c = 3e10\n",
    "print(c)\n"
   ]
  },
  {
   "cell_type": "code",
   "execution_count": 9,
   "id": "1b187a1c",
   "metadata": {},
   "outputs": [
    {
     "name": "stdout",
     "output_type": "stream",
     "text": [
      "0.03\n"
     ]
    }
   ],
   "source": [
    "c = 3e-2 # 3*10**(-2)\n",
    "print(c)\n"
   ]
  },
  {
   "cell_type": "code",
   "execution_count": 10,
   "id": "14f7ab2d",
   "metadata": {},
   "outputs": [
    {
     "name": "stdout",
     "output_type": "stream",
     "text": [
      "255\n"
     ]
    }
   ],
   "source": [
    "x = 0xff\n",
    "print(x)"
   ]
  },
  {
   "cell_type": "code",
   "execution_count": 11,
   "id": "f1357fd1",
   "metadata": {},
   "outputs": [
    {
     "name": "stdout",
     "output_type": "stream",
     "text": [
      "11\n"
     ]
    }
   ],
   "source": [
    " x = 0b1011\n",
    " print(x)   "
   ]
  },
  {
   "cell_type": "code",
   "execution_count": 12,
   "id": "83e33744",
   "metadata": {},
   "outputs": [
    {
     "name": "stdout",
     "output_type": "stream",
     "text": [
      "6\n"
     ]
    }
   ],
   "source": [
    "ans = 33 % 9\n",
    "print(ans)"
   ]
  },
  {
   "cell_type": "code",
   "execution_count": 13,
   "id": "ab798fa1",
   "metadata": {},
   "outputs": [
    {
     "name": "stdout",
     "output_type": "stream",
     "text": [
      "1\n"
     ]
    }
   ],
   "source": [
    "ans = 1 % 2\n",
    "print(ans)"
   ]
  },
  {
   "cell_type": "code",
   "execution_count": 14,
   "id": "c7d6431d",
   "metadata": {},
   "outputs": [
    {
     "name": "stdout",
     "output_type": "stream",
     "text": [
      "5\n"
     ]
    }
   ],
   "source": [
    "ans =  5 %17\n",
    "print(ans)"
   ]
  },
  {
   "cell_type": "code",
   "execution_count": 15,
   "id": "020808c7",
   "metadata": {},
   "outputs": [
    {
     "name": "stdout",
     "output_type": "stream",
     "text": [
      "hell world <class 'str'>\n"
     ]
    }
   ],
   "source": [
    "s = \"hell world\"\n",
    "print(s , type(s))"
   ]
  },
  {
   "cell_type": "code",
   "execution_count": 16,
   "id": "3f4291b8",
   "metadata": {},
   "outputs": [
    {
     "name": "stdout",
     "output_type": "stream",
     "text": [
      "\n",
      "multiline string \n",
      "this is multiline string \n",
      "\n"
     ]
    }
   ],
   "source": [
    "s = \"\"\"\n",
    "multiline string \n",
    "this is multiline string \n",
    "\"\"\"\n",
    "print(s)"
   ]
  },
  {
   "cell_type": "code",
   "execution_count": 18,
   "id": "73433ead",
   "metadata": {},
   "outputs": [
    {
     "name": "stdout",
     "output_type": "stream",
     "text": [
      "enter school name: adyy\n",
      "school name: kiit\n",
      " no of days: 21\n",
      "reason: fever\n"
     ]
    },
    {
     "ename": "NameError",
     "evalue": "name 'app' is not defined",
     "output_type": "error",
     "traceback": [
      "\u001b[1;31m---------------------------------------------------------------------------\u001b[0m",
      "\u001b[1;31mNameError\u001b[0m                                 Traceback (most recent call last)",
      "Cell \u001b[1;32mIn[18], line 5\u001b[0m\n\u001b[0;32m      3\u001b[0m days \u001b[38;5;241m=\u001b[39m \u001b[38;5;28mint\u001b[39m(\u001b[38;5;28minput\u001b[39m(\u001b[38;5;124m\"\u001b[39m\u001b[38;5;124m no of days: \u001b[39m\u001b[38;5;124m\"\u001b[39m))\n\u001b[0;32m      4\u001b[0m reason \u001b[38;5;241m=\u001b[39m \u001b[38;5;28minput\u001b[39m(\u001b[38;5;124m\"\u001b[39m\u001b[38;5;124mreason: \u001b[39m\u001b[38;5;124m\"\u001b[39m)\u001b[38;5;241m.\u001b[39mstrip()\u001b[38;5;241m.\u001b[39mlower()\n\u001b[1;32m----> 5\u001b[0m result \u001b[38;5;241m=\u001b[39m \u001b[43mapp\u001b[49m\u001b[38;5;241m.\u001b[39mformat(school, reason , days, name)\n\u001b[0;32m      6\u001b[0m app \u001b[38;5;241m=\u001b[39m \u001b[38;5;124m\"\"\"\u001b[39m\n\u001b[0;32m      7\u001b[0m \u001b[38;5;124mTo \u001b[39m\n\u001b[0;32m      8\u001b[0m \u001b[38;5;124m headmaster\u001b[39m\n\u001b[1;32m   (...)\u001b[0m\n\u001b[0;32m     15\u001b[0m \u001b[38;5;124m \u001b[39m\u001b[38;5;132;01m{}\u001b[39;00m\n\u001b[0;32m     16\u001b[0m \u001b[38;5;124m \u001b[39m\u001b[38;5;124m\"\"\"\u001b[39m\n\u001b[0;32m     17\u001b[0m \u001b[38;5;28mprint\u001b[39m(result)\n",
      "\u001b[1;31mNameError\u001b[0m: name 'app' is not defined"
     ]
    }
   ],
   "source": [
    "name = input(\"enter school name: \").strip().title()\n",
    "school = input(\"school name: \").strip().title()\n",
    "days = int(input(\" no of days: \"))\n",
    "reason = input(\"reason: \").strip().lower()\n",
    "result = app.format(school, reason , days, name)\n",
    "app = \"\"\"\n",
    "To \n",
    " headmaster\n",
    " {}\n",
    " dear sir/mam \n",
    " due to some {} i am unable to come to school  for {} days.\n",
    " please grant me a leave of {} days.\n",
    " thanks\n",
    " your student\n",
    " {}\n",
    " \"\"\"\n",
    "print(result)"
   ]
  },
  {
   "cell_type": "code",
   "execution_count": 20,
   "id": "4d083be0",
   "metadata": {},
   "outputs": [
    {
     "name": "stdout",
     "output_type": "stream",
     "text": [
      "hello world! \"this is awsome\"\n"
     ]
    }
   ],
   "source": [
    " s = \"hello world! \\\"this is awsome\\\"\"\n",
    "print(s)"
   ]
  },
  {
   "cell_type": "code",
   "execution_count": 21,
   "id": "8c6e4985",
   "metadata": {},
   "outputs": [
    {
     "name": "stdout",
     "output_type": "stream",
     "text": [
      "['jave', 'c', 'ruby', 'go', 'perl', 'c++']\n"
     ]
    }
   ],
   "source": [
    "name = ['jave', 'c', 'ruby', 'go', 'perl', 'c++']\n",
    "print(name)"
   ]
  },
  {
   "cell_type": "code",
   "execution_count": 23,
   "id": "d02f4388",
   "metadata": {},
   "outputs": [],
   "source": [
    "name.append('python')"
   ]
  },
  {
   "cell_type": "code",
   "execution_count": 24,
   "id": "43e3f392",
   "metadata": {},
   "outputs": [
    {
     "name": "stdout",
     "output_type": "stream",
     "text": [
      "['jave', 'c', 'ruby', 'go', 'perl', 'c++', 'python']\n"
     ]
    }
   ],
   "source": [
    "print(name)"
   ]
  },
  {
   "cell_type": "code",
   "execution_count": 25,
   "id": "1bd6593a",
   "metadata": {},
   "outputs": [
    {
     "name": "stdout",
     "output_type": "stream",
     "text": [
      "['jave', 'c', 'bash', 'ruby', 'go', 'perl', 'c++', 'python']\n"
     ]
    }
   ],
   "source": [
    "name.insert(2,'bash')\n",
    "print(name)"
   ]
  },
  {
   "cell_type": "code",
   "execution_count": 26,
   "id": "7b4276d9",
   "metadata": {},
   "outputs": [
    {
     "name": "stdout",
     "output_type": "stream",
     "text": [
      "python\n"
     ]
    }
   ],
   "source": [
    "item = name.pop()\n",
    "print(item)"
   ]
  },
  {
   "cell_type": "code",
   "execution_count": 27,
   "id": "053d366c",
   "metadata": {},
   "outputs": [
    {
     "name": "stdout",
     "output_type": "stream",
     "text": [
      "jave\n"
     ]
    }
   ],
   "source": [
    "item = name.pop(0)\n",
    "print(item)"
   ]
  },
  {
   "cell_type": "code",
   "execution_count": 31,
   "id": "9cbe59a7",
   "metadata": {},
   "outputs": [],
   "source": [
    "name.insert(1,'java')"
   ]
  },
  {
   "cell_type": "code",
   "execution_count": 32,
   "id": "2a497d45",
   "metadata": {},
   "outputs": [
    {
     "name": "stdout",
     "output_type": "stream",
     "text": [
      "[['rahul', 80, 90, 70], ['ranjeet', 80, 79, 77], ['siya', 56, 78, 59]]\n"
     ]
    }
   ],
   "source": [
    "data = [['rahul', 80, 90, 70], ['ranjeet', 80, 79, 77], ['siya', 56, 78, 59]]\n",
    "print(data)\n"
   ]
  },
  {
   "cell_type": "code",
   "execution_count": 33,
   "id": "3aaefc9d",
   "metadata": {},
   "outputs": [],
   "source": [
    "from pprint import pprint"
   ]
  },
  {
   "cell_type": "code",
   "execution_count": 34,
   "id": "e23bd8e5",
   "metadata": {},
   "outputs": [
    {
     "name": "stdout",
     "output_type": "stream",
     "text": [
      "[['rahul', 80, 90, 70], ['ranjeet', 80, 79, 77], ['siya', 56, 78, 59]]\n"
     ]
    }
   ],
   "source": [
    "pprint(data)"
   ]
  },
  {
   "cell_type": "code",
   "execution_count": null,
   "id": "44b07de5",
   "metadata": {},
   "outputs": [],
   "source": []
  }
 ],
 "metadata": {
  "kernelspec": {
   "display_name": "Python 3 (ipykernel)",
   "language": "python",
   "name": "python3"
  },
  "language_info": {
   "codemirror_mode": {
    "name": "ipython",
    "version": 3
   },
   "file_extension": ".py",
   "mimetype": "text/x-python",
   "name": "python",
   "nbconvert_exporter": "python",
   "pygments_lexer": "ipython3",
   "version": "3.10.9"
  }
 },
 "nbformat": 4,
 "nbformat_minor": 5
}
