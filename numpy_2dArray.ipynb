{
 "cells": [
  {
   "cell_type": "code",
   "execution_count": 1,
   "id": "20ba8911",
   "metadata": {},
   "outputs": [],
   "source": [
    "import numpy as np"
   ]
  },
  {
   "cell_type": "code",
   "execution_count": 5,
   "id": "98263b39",
   "metadata": {},
   "outputs": [
    {
     "name": "stdout",
     "output_type": "stream",
     "text": [
      "value:  1\n",
      "type:  <class 'numpy.ndarray'>\n",
      "dimension:  0\n",
      "size:  1\n",
      "shape:  ()\n",
      "data type:  int32\n",
      "item size:  4\n"
     ]
    }
   ],
   "source": [
    "x=np.array(1)  #  scaler value\n",
    "print(\"value: \", x)\n",
    "print(\"type: \", type(x))\n",
    "print(\"dimension: \", x.ndim)\n",
    "print(\"size: \", x.size)\n",
    "print(\"shape: \", x.shape)\n",
    "print(\"data type: \", x.dtype)\n",
    "print(\"item size: \", x.itemsize)"
   ]
  },
  {
   "cell_type": "markdown",
   "id": "790c2bad",
   "metadata": {},
   "source": [
    "850 % 256"
   ]
  },
  {
   "cell_type": "code",
   "execution_count": 10,
   "id": "57c5b483",
   "metadata": {},
   "outputs": [
    {
     "name": "stdout",
     "output_type": "stream",
     "text": [
      "value:  [ 27  50 180  82]\n",
      "type:  <class 'numpy.ndarray'>\n",
      "dimension:  1\n",
      "size:  4\n",
      "shape:  (4,)\n",
      "data type:  uint8\n",
      "item size:  1\n"
     ]
    }
   ],
   "source": [
    "x=np.array([27, 50, 180, 255, 850], dtype=np.uint8)  #  vector value\n",
    "print(\"value: \", x)\n",
    "print(\"type: \", type(x))\n",
    "print(\"dimension: \", x.ndim)\n",
    "print(\"size: \", x.size)\n",
    "print(\"shape: \", x.shape)\n",
    "print(\"data type: \", x.dtype)\n",
    "print(\"item size: \", x.itemsize)"
   ]
  },
  {
   "cell_type": "code",
   "execution_count": 11,
   "id": "d80cc34f",
   "metadata": {},
   "outputs": [
    {
     "name": "stdout",
     "output_type": "stream",
     "text": [
      "value:  [[ 27  50 180  85]\n",
      " [ 35 150 185 100]\n",
      " [ 29  80 170  75]]\n",
      "type:  <class 'numpy.ndarray'>\n",
      "dimension:  2\n",
      "size:  12\n",
      "shape:  (3, 4)\n",
      "data type:  uint8\n",
      "item size:  1\n"
     ]
    }
   ],
   "source": [
    "x=np.array([[27, 50, 180, 85], \n",
    "            [35, 150, 185, 100], \n",
    "            [29, 80, 170, 75]], dtype=np.uint8)  # 2d array\n",
    "            ---------------->\n",
    "print(\"value: \", x)\n",
    "print(\"type: \", type(x))\n",
    "print(\"dimension: \", x.ndim)\n",
    "print(\"size: \", x.size)\n",
    "print(\"shape: \", x.shape)\n",
    "print(\"data type: \", x.dtype)\n",
    "print(\"item size: \", x.itemsize)"
   ]
  },
  {
   "cell_type": "code",
   "execution_count": 15,
   "id": "8294cb9e",
   "metadata": {},
   "outputs": [
    {
     "name": "stdout",
     "output_type": "stream",
     "text": [
      "value:  [[[20 40 15 20]\n",
      "  [40 60 70 40]\n",
      "  [30 40 50 60]]\n",
      "\n",
      " [[10 50 40 30]\n",
      "  [40 50 60 70]\n",
      "  [30 40 60 90]]]\n",
      "type:  <class 'numpy.ndarray'>\n",
      "dimension:  3\n",
      "size:  24\n",
      "shape:  (2, 3, 4)\n",
      "data type:  int32\n",
      "item size:  4\n"
     ]
    }
   ],
   "source": [
    "x=np.array([\n",
    "        [ \n",
    "              [20, 40, 15, 20],\n",
    "              [40, 60, 70, 40],\n",
    "              [30, 40, 50 ,60]\n",
    "        ],  # Jaipur\n",
    "        [\n",
    "              [10, 50, 40, 30],\n",
    "              [40, 50 ,60, 70],\n",
    "              [30, 40, 60, 90]\n",
    "        ]  # Ahemdabad\n",
    "])  # 3d array\n",
    "print(\"value: \", x)\n",
    "print(\"type: \", type(x))\n",
    "print(\"dimension: \", x.ndim)\n",
    "print(\"size: \", x.size)\n",
    "print(\"shape: \", x.shape)\n",
    "print(\"data type: \", x.dtype)\n",
    "print(\"item size: \", x.itemsize)"
   ]
  },
  {
   "cell_type": "code",
   "execution_count": 16,
   "id": "f3524fc0",
   "metadata": {},
   "outputs": [
    {
     "name": "stdout",
     "output_type": "stream",
     "text": [
      "[79 66 42 34 89 37 92 28 24 71]\n"
     ]
    }
   ],
   "source": [
    "# uniform\n",
    "arr = np.random.randint(1, 100, 10)\n",
    "print(arr)"
   ]
  },
  {
   "cell_type": "code",
   "execution_count": 90,
   "id": "185c20ed",
   "metadata": {},
   "outputs": [
    {
     "name": "stdout",
     "output_type": "stream",
     "text": [
      "[10 15 20 25 30 35 40 45 50]\n"
     ]
    }
   ],
   "source": [
    "import numpy as np\n",
    "arr = np.arange(10, 51, 5)\n",
    "print(arr)"
   ]
  },
  {
   "cell_type": "code",
   "execution_count": 4,
   "id": "1b7839a3",
   "metadata": {},
   "outputs": [
    {
     "name": "stdout",
     "output_type": "stream",
     "text": [
      "[ 0  1  2  3  4  5  6  7  8  9 10]\n"
     ]
    }
   ],
   "source": [
    "arr = np.arange(0, 11, 1)\n",
    "print(arr)"
   ]
  },
  {
   "cell_type": "code",
   "execution_count": 92,
   "id": "8ccc0fc3",
   "metadata": {},
   "outputs": [
    {
     "name": "stdout",
     "output_type": "stream",
     "text": [
      "[ 0.   0.1  0.2  0.3  0.4  0.5  0.6  0.7  0.8  0.9  1.   1.1  1.2  1.3\n",
      "  1.4  1.5  1.6  1.7  1.8  1.9  2.   2.1  2.2  2.3  2.4  2.5  2.6  2.7\n",
      "  2.8  2.9  3.   3.1  3.2  3.3  3.4  3.5  3.6  3.7  3.8  3.9  4.   4.1\n",
      "  4.2  4.3  4.4  4.5  4.6  4.7  4.8  4.9  5.   5.1  5.2  5.3  5.4  5.5\n",
      "  5.6  5.7  5.8  5.9  6.   6.1  6.2  6.3  6.4  6.5  6.6  6.7  6.8  6.9\n",
      "  7.   7.1  7.2  7.3  7.4  7.5  7.6  7.7  7.8  7.9  8.   8.1  8.2  8.3\n",
      "  8.4  8.5  8.6  8.7  8.8  8.9  9.   9.1  9.2  9.3  9.4  9.5  9.6  9.7\n",
      "  9.8  9.9 10. ]\n"
     ]
    }
   ],
   "source": [
    "arr = np.linspace(0, 10, 101)\n",
    "print(arr)"
   ]
  },
  {
   "cell_type": "code",
   "execution_count": 8,
   "id": "b94075ae",
   "metadata": {},
   "outputs": [
    {
     "name": "stdout",
     "output_type": "stream",
     "text": [
      "[ 5.   5.8  6.6  7.4  8.2  9.   9.8 10.6 11.4 12.2 13.  13.8 14.6]\n"
     ]
    }
   ],
   "source": [
    "arr = np.arange(5, 15, 0.8)\n",
    "print(arr)"
   ]
  },
  {
   "cell_type": "code",
   "execution_count": 9,
   "id": "618888fd",
   "metadata": {},
   "outputs": [],
   "source": [
    "# creating using linspace"
   ]
  },
  {
   "cell_type": "code",
   "execution_count": 13,
   "id": "5af5cdd2",
   "metadata": {},
   "outputs": [
    {
     "name": "stdout",
     "output_type": "stream",
     "text": [
      "[ 5.   5.8  6.6  7.4  8.2  9.   9.8 10.6 11.4 12.2 13.  13.8 14.6]\n"
     ]
    }
   ],
   "source": [
    "arr = np.linspace(5, 14.6, 13)\n",
    "print(arr)"
   ]
  },
  {
   "cell_type": "code",
   "execution_count": 31,
   "id": "3e65cab9",
   "metadata": {},
   "outputs": [
    {
     "name": "stdout",
     "output_type": "stream",
     "text": [
      "[0.         0.12822827 0.25645654 0.38468481 0.51291309 0.64114136\n",
      " 0.76936963 0.8975979  1.02582617 1.15405444 1.28228272 1.41051099\n",
      " 1.53873926 1.66696753 1.7951958  1.92342407 2.05165235 2.17988062\n",
      " 2.30810889 2.43633716 2.56456543 2.6927937  2.82102197 2.94925025\n",
      " 3.07747852 3.20570679 3.33393506 3.46216333 3.5903916  3.71861988\n",
      " 3.84684815 3.97507642 4.10330469 4.23153296 4.35976123 4.48798951\n",
      " 4.61621778 4.74444605 4.87267432 5.00090259 5.12913086 5.25735913\n",
      " 5.38558741 5.51381568 5.64204395 5.77027222 5.89850049 6.02672876\n",
      " 6.15495704 6.28318531]\n",
      "[ 0.00000000e+00  1.27877162e-01  2.53654584e-01  3.75267005e-01\n",
      "  4.90717552e-01  5.98110530e-01  6.95682551e-01  7.81831482e-01\n",
      "  8.55142763e-01  9.14412623e-01  9.58667853e-01  9.87181783e-01\n",
      "  9.99486216e-01  9.95379113e-01  9.74927912e-01  9.38468422e-01\n",
      "  8.86599306e-01  8.20172255e-01  7.40277997e-01  6.48228395e-01\n",
      "  5.45534901e-01  4.33883739e-01  3.15108218e-01  1.91158629e-01\n",
      "  6.40702200e-02 -6.40702200e-02 -1.91158629e-01 -3.15108218e-01\n",
      " -4.33883739e-01 -5.45534901e-01 -6.48228395e-01 -7.40277997e-01\n",
      " -8.20172255e-01 -8.86599306e-01 -9.38468422e-01 -9.74927912e-01\n",
      " -9.95379113e-01 -9.99486216e-01 -9.87181783e-01 -9.58667853e-01\n",
      " -9.14412623e-01 -8.55142763e-01 -7.81831482e-01 -6.95682551e-01\n",
      " -5.98110530e-01 -4.90717552e-01 -3.75267005e-01 -2.53654584e-01\n",
      " -1.27877162e-01 -2.44929360e-16]\n"
     ]
    },
    {
     "data": {
      "image/png": "[encoded data removed]",
      "text/plain": [
       "<Figure size 640x480 with 1 Axes>"
      ]
     },
     "metadata": {},
     "output_type": "display_data"
    }
   ],
   "source": [
    "import matplotlib.pyplot as plt\n",
    "rads = np.linspace(0, 2*np.pi,50)\n",
    "print(rads)\n",
    "sin = np.sin(rads)\n",
    "cos = np.cos(rads)\n",
    "print(sin)\n",
    "plt.plot(rads, sin, 'o:r', mfc='w', label=\"sin\")\n",
    "plt.plot(rads, cos, 's:c', mfc='w', label=\"cos\")\n",
    "plt.xlabel(\"radians\")\n",
    "plt.legend()\n",
    "plt.grid()\n",
    "plt.show()\n",
    "plt.show()"
   ]
  },
  {
   "cell_type": "code",
   "execution_count": 33,
   "id": "a1f4be78",
   "metadata": {},
   "outputs": [
    {
     "name": "stdout",
     "output_type": "stream",
     "text": [
      "[11  9  4  3  1 10 15 19  7  9]\n"
     ]
    }
   ],
   "source": [
    "arr = np.random.randint(1, 20, 10)\n",
    "print(arr)"
   ]
  },
  {
   "cell_type": "code",
   "execution_count": 34,
   "id": "cefdd38a",
   "metadata": {},
   "outputs": [
    {
     "name": "stdout",
     "output_type": "stream",
     "text": [
      "[[16  6 17 16]\n",
      " [ 2 16  4 19]\n",
      " [14  8  4 19]\n",
      " [15 12 13  7]\n",
      " [10  9 11 10]]\n"
     ]
    }
   ],
   "source": [
    "arr = np.random.randint(1, 20, (5,4))\n",
    "print(arr)"
   ]
  },
  {
   "cell_type": "markdown",
   "id": "647252a1",
   "metadata": {},
   "source": [
    "indexing \n",
    "selecting a single element from na array or seq using index  value"
   ]
  },
  {
   "cell_type": "code",
   "execution_count": 35,
   "id": "77af71e9",
   "metadata": {},
   "outputs": [
    {
     "name": "stdout",
     "output_type": "stream",
     "text": [
      "13\n"
     ]
    }
   ],
   "source": [
    "a = arr[3][2]\n",
    "print(a)"
   ]
  },
  {
   "cell_type": "code",
   "execution_count": 36,
   "id": "9111cd85",
   "metadata": {},
   "outputs": [
    {
     "name": "stdout",
     "output_type": "stream",
     "text": [
      "9\n"
     ]
    }
   ],
   "source": [
    "a = arr[4,1]  # accessing element using positive index\n",
    "print(a)"
   ]
  },
  {
   "cell_type": "code",
   "execution_count": 37,
   "id": "d985cab0",
   "metadata": {},
   "outputs": [
    {
     "name": "stdout",
     "output_type": "stream",
     "text": [
      "9\n"
     ]
    }
   ],
   "source": [
    "a = arr[-1, -3]  # accessing element using positive index\n",
    "print(a)"
   ]
  },
  {
   "cell_type": "markdown",
   "id": "3f975cfe",
   "metadata": {},
   "source": [
    "slicing in 2d array"
   ]
  },
  {
   "cell_type": "code",
   "execution_count": 38,
   "id": "5e8182a4",
   "metadata": {},
   "outputs": [
    {
     "data": {
      "text/plain": [
       "array([[16,  6, 17, 16],\n",
       "       [ 2, 16,  4, 19],\n",
       "       [14,  8,  4, 19],\n",
       "       [15, 12, 13,  7],\n",
       "       [10,  9, 11, 10]])"
      ]
     },
     "execution_count": 38,
     "metadata": {},
     "output_type": "execute_result"
    }
   ],
   "source": [
    "arr"
   ]
  },
  {
   "cell_type": "markdown",
   "id": "19d4fc7f",
   "metadata": {},
   "source": [
    "arr[start:end:step, start:end:step]"
   ]
  },
  {
   "cell_type": "code",
   "execution_count": 40,
   "id": "04bd9ecf",
   "metadata": {},
   "outputs": [
    {
     "data": {
      "text/plain": [
       "array([[ 6, 17],\n",
       "       [ 8,  4],\n",
       "       [ 9, 11]])"
      ]
     },
     "execution_count": 40,
     "metadata": {},
     "output_type": "execute_result"
    }
   ],
   "source": [
    "arr[0:5:2, 1:3:1]"
   ]
  },
  {
   "cell_type": "code",
   "execution_count": 47,
   "id": "444ac2a9",
   "metadata": {},
   "outputs": [
    {
     "data": {
      "text/plain": [
       "array([[ 2, 19],\n",
       "       [14, 19],\n",
       "       [15,  7]])"
      ]
     },
     "execution_count": 47,
     "metadata": {},
     "output_type": "execute_result"
    }
   ],
   "source": [
    "arr[1:4:1, 0:4:3]"
   ]
  },
  {
   "cell_type": "code",
   "execution_count": 51,
   "id": "707919c8",
   "metadata": {},
   "outputs": [
    {
     "data": {
      "text/plain": [
       "array([[16],\n",
       "       [ 2],\n",
       "       [14],\n",
       "       [15]])"
      ]
     },
     "execution_count": 51,
     "metadata": {},
     "output_type": "execute_result"
    }
   ],
   "source": [
    "arr[0:4:1, 0:2:3]"
   ]
  },
  {
   "cell_type": "code",
   "execution_count": 97,
   "id": "82d1c950",
   "metadata": {},
   "outputs": [
    {
     "ename": "TypeError",
     "evalue": "'builtin_function_or_method' object is not subscriptable",
     "output_type": "error",
     "traceback": [
      "\u001b[1;31m---------------------------------------------------------------------------\u001b[0m",
      "\u001b[1;31mTypeError\u001b[0m                                 Traceback (most recent call last)",
      "Cell \u001b[1;32mIn[97], line 1\u001b[0m\n\u001b[1;32m----> 1\u001b[0m \u001b[43mnp\u001b[49m\u001b[38;5;241;43m.\u001b[39;49m\u001b[43marray\u001b[49m\u001b[43m[\u001b[49m\u001b[43m[\u001b[49m\u001b[38;5;241;43m16\u001b[39;49m\u001b[43m,\u001b[49m\u001b[43m  \u001b[49m\u001b[38;5;241;43m6\u001b[39;49m\u001b[43m,\u001b[49m\u001b[43m \u001b[49m\u001b[38;5;241;43m17\u001b[39;49m\u001b[43m,\u001b[49m\u001b[43m \u001b[49m\u001b[38;5;241;43m16\u001b[39;49m\u001b[43m]\u001b[49m\u001b[43m,\u001b[49m\n\u001b[0;32m      2\u001b[0m \u001b[43m \u001b[49m\u001b[43m[\u001b[49m\u001b[43m \u001b[49m\u001b[38;5;241;43m2\u001b[39;49m\u001b[43m,\u001b[49m\u001b[43m \u001b[49m\u001b[38;5;241;43m16\u001b[39;49m\u001b[43m,\u001b[49m\u001b[43m  \u001b[49m\u001b[38;5;241;43m4\u001b[39;49m\u001b[43m,\u001b[49m\u001b[43m \u001b[49m\u001b[38;5;241;43m19\u001b[39;49m\u001b[43m]\u001b[49m\u001b[43m,\u001b[49m\n\u001b[0;32m      3\u001b[0m \u001b[43m \u001b[49m\u001b[43m[\u001b[49m\u001b[38;5;241;43m14\u001b[39;49m\u001b[43m,\u001b[49m\u001b[43m  \u001b[49m\u001b[38;5;241;43m8\u001b[39;49m\u001b[43m,\u001b[49m\u001b[43m  \u001b[49m\u001b[38;5;241;43m4\u001b[39;49m\u001b[43m,\u001b[49m\u001b[43m \u001b[49m\u001b[38;5;241;43m19\u001b[39;49m\u001b[43m]\u001b[49m\u001b[43m,\u001b[49m\n\u001b[0;32m      4\u001b[0m \u001b[43m \u001b[49m\u001b[43m[\u001b[49m\u001b[38;5;241;43m15\u001b[39;49m\u001b[43m,\u001b[49m\u001b[43m \u001b[49m\u001b[38;5;241;43m12\u001b[39;49m\u001b[43m,\u001b[49m\u001b[43m \u001b[49m\u001b[38;5;241;43m13\u001b[39;49m\u001b[43m,\u001b[49m\u001b[43m  \u001b[49m\u001b[38;5;241;43m7\u001b[39;49m\u001b[43m]\u001b[49m\u001b[43m,\u001b[49m\n\u001b[0;32m      5\u001b[0m \u001b[43m \u001b[49m\u001b[43m[\u001b[49m\u001b[38;5;241;43m10\u001b[39;49m\u001b[43m,\u001b[49m\u001b[43m  \u001b[49m\u001b[38;5;241;43m9\u001b[39;49m\u001b[43m,\u001b[49m\u001b[43m \u001b[49m\u001b[38;5;241;43m11\u001b[39;49m\u001b[43m,\u001b[49m\u001b[43m \u001b[49m\u001b[38;5;241;43m10\u001b[39;49m\u001b[43m]\u001b[49m\u001b[43m]\u001b[49m\n",
      "\u001b[1;31mTypeError\u001b[0m: 'builtin_function_or_method' object is not subscriptable"
     ]
    }
   ],
   "source": [
    "np.array[[16,  6, 17, 16],\n",
    " [ 2, 16,  4, 19],\n",
    " [14,  8,  4, 19],\n",
    " [15, 12, 13,  7],\n",
    " [10,  9, 11, 10]]"
   ]
  },
  {
   "cell_type": "code",
   "execution_count": 96,
   "id": "315ff461",
   "metadata": {},
   "outputs": [
    {
     "ename": "IndexError",
     "evalue": "too many indices for array: array is 1-dimensional, but 2 were indexed",
     "output_type": "error",
     "traceback": [
      "\u001b[1;31m---------------------------------------------------------------------------\u001b[0m",
      "\u001b[1;31mIndexError\u001b[0m                                Traceback (most recent call last)",
      "Cell \u001b[1;32mIn[96], line 1\u001b[0m\n\u001b[1;32m----> 1\u001b[0m \u001b[43marr\u001b[49m\u001b[43m[\u001b[49m\u001b[43m[\u001b[49m\u001b[38;5;241;43m0\u001b[39;49m\u001b[43m,\u001b[49m\u001b[38;5;241;43m2\u001b[39;49m\u001b[43m,\u001b[49m\u001b[38;5;241;43m3\u001b[39;49m\u001b[43m]\u001b[49m\u001b[43m,\u001b[49m\u001b[43m:\u001b[49m\u001b[43m]\u001b[49m[:,[\u001b[38;5;241m0\u001b[39m,\u001b[38;5;241m2\u001b[39m,\u001b[38;5;241m3\u001b[39m]]\n",
      "\u001b[1;31mIndexError\u001b[0m: too many indices for array: array is 1-dimensional, but 2 were indexed"
     ]
    }
   ],
   "source": [
    "arr[[0,2,3],:][:,[0,2,3]]  # selecting random valid"
   ]
  },
  {
   "cell_type": "code",
   "execution_count": 58,
   "id": "47379e77",
   "metadata": {},
   "outputs": [
    {
     "data": {
      "text/plain": [
       "array([16,  4,  7])"
      ]
     },
     "execution_count": 58,
     "metadata": {},
     "output_type": "execute_result"
    }
   ],
   "source": [
    "arr[[0,2,3],[0,2,3]]"
   ]
  },
  {
   "cell_type": "markdown",
   "id": "974dd310",
   "metadata": {},
   "source": [
    "boolean indexing\n",
    "bool->\n",
    "true -> select\n",
    "false -> do not select"
   ]
  },
  {
   "cell_type": "code",
   "execution_count": 59,
   "id": "381f2cfa",
   "metadata": {},
   "outputs": [
    {
     "data": {
      "text/plain": [
       "array([[16,  6, 17, 16],\n",
       "       [ 2, 16,  4, 19],\n",
       "       [14,  8,  4, 19],\n",
       "       [15, 12, 13,  7],\n",
       "       [10,  9, 11, 10]])"
      ]
     },
     "execution_count": 59,
     "metadata": {},
     "output_type": "execute_result"
    }
   ],
   "source": [
    "arr"
   ]
  },
  {
   "cell_type": "markdown",
   "id": "f6376d19",
   "metadata": {},
   "source": [
    "### array operation\n",
    " \n",
    " all array operation happens element wise"
   ]
  },
  {
   "cell_type": "code",
   "execution_count": 64,
   "id": "433579fb",
   "metadata": {},
   "outputs": [],
   "source": [
    "arr = np.random.randint(1,50,10)"
   ]
  },
  {
   "cell_type": "code",
   "execution_count": 65,
   "id": "99ef459c",
   "metadata": {},
   "outputs": [
    {
     "name": "stdout",
     "output_type": "stream",
     "text": [
      "[28 20  9  5 29 20 17  2 32 42]\n"
     ]
    }
   ],
   "source": [
    "print(arr)"
   ]
  },
  {
   "cell_type": "code",
   "execution_count": 66,
   "id": "e2e295f5",
   "metadata": {},
   "outputs": [
    {
     "data": {
      "text/plain": [
       "array([33, 25, 14, 10, 34, 25, 22,  7, 37, 47])"
      ]
     },
     "execution_count": 66,
     "metadata": {},
     "output_type": "execute_result"
    }
   ],
   "source": [
    "arr + 5"
   ]
  },
  {
   "cell_type": "code",
   "execution_count": 67,
   "id": "b30454b4",
   "metadata": {},
   "outputs": [
    {
     "data": {
      "text/plain": [
       "array([5.6, 4. , 1.8, 1. , 5.8, 4. , 3.4, 0.4, 6.4, 8.4])"
      ]
     },
     "execution_count": 67,
     "metadata": {},
     "output_type": "execute_result"
    }
   ],
   "source": [
    "arr / 5"
   ]
  },
  {
   "cell_type": "code",
   "execution_count": 88,
   "id": "b47ebe24",
   "metadata": {},
   "outputs": [],
   "source": [
    "arr1 = np.array([4, 7, 6, 4])\n",
    "arr2 = np.array([5, 3, 6,2])"
   ]
  },
  {
   "cell_type": "code",
   "execution_count": 89,
   "id": "e7a831b7",
   "metadata": {},
   "outputs": [
    {
     "ename": "ValueError",
     "evalue": "operands could not be broadcast together with shapes (4,) (5,) ",
     "output_type": "error",
     "traceback": [
      "\u001b[1;31m---------------------------------------------------------------------------\u001b[0m",
      "\u001b[1;31mValueError\u001b[0m                                Traceback (most recent call last)",
      "Cell \u001b[1;32mIn[89], line 1\u001b[0m\n\u001b[1;32m----> 1\u001b[0m a \u001b[38;5;241m=\u001b[39m \u001b[43marr1\u001b[49m\u001b[43m \u001b[49m\u001b[38;5;241;43m+\u001b[39;49m\u001b[43m \u001b[49m\u001b[43marr2\u001b[49m\n\u001b[0;32m      2\u001b[0m \u001b[38;5;28mprint\u001b[39m(a)\n",
      "\u001b[1;31mValueError\u001b[0m: operands could not be broadcast together with shapes (4,) (5,) "
     ]
    }
   ],
   "source": [
    "a = arr1 + arr2\n",
    "print(a)"
   ]
  },
  {
   "cell_type": "code",
   "execution_count": 73,
   "id": "15b76f46",
   "metadata": {},
   "outputs": [],
   "source": [
    "ap = np.array([4000, 2500, 1500, 1000])\n",
    "sp = np.array([6000, 5500, 3500, 2000])\n",
    "qty = np.array([20, 30, 10, 15])"
   ]
  },
  {
   "cell_type": "code",
   "execution_count": 74,
   "id": "2db69666",
   "metadata": {},
   "outputs": [
    {
     "name": "stdout",
     "output_type": "stream",
     "text": [
      "[40000 90000 20000 15000]\n",
      "165000\n"
     ]
    }
   ],
   "source": [
    "profit = (sp-ap)*qty\n",
    "print(profit)\n",
    "print(profit.sum())"
   ]
  },
  {
   "cell_type": "code",
   "execution_count": 75,
   "id": "42e8c3e6",
   "metadata": {},
   "outputs": [],
   "source": [
    "arr = np.array([10, -5, 6, 8, -2, -5, -8, 9, -3])"
   ]
  },
  {
   "cell_type": "code",
   "execution_count": 76,
   "id": "e358caa1",
   "metadata": {},
   "outputs": [
    {
     "data": {
      "text/plain": [
       "array([ True, False,  True,  True, False, False, False,  True, False])"
      ]
     },
     "execution_count": 76,
     "metadata": {},
     "output_type": "execute_result"
    }
   ],
   "source": [
    "arr > 0"
   ]
  },
  {
   "cell_type": "code",
   "execution_count": 78,
   "id": "160e0a2f",
   "metadata": {},
   "outputs": [
    {
     "name": "stdout",
     "output_type": "stream",
     "text": [
      "[10  6  8  9]\n"
     ]
    }
   ],
   "source": [
    "i = arr > 0\n",
    "print(arr[i])"
   ]
  },
  {
   "cell_type": "markdown",
   "id": "327b6f84",
   "metadata": {},
   "source": [
    "#### multiple condition\n",
    "or end not\n",
    "condition1 | condition2 boolean or\n",
    "condition1 & condition2 boolean and\n",
    "~ condition1"
   ]
  },
  {
   "cell_type": "code",
   "execution_count": 79,
   "id": "0b84dbc3",
   "metadata": {},
   "outputs": [
    {
     "data": {
      "text/plain": [
       "array([10,  6,  8,  9])"
      ]
     },
     "execution_count": 79,
     "metadata": {},
     "output_type": "execute_result"
    }
   ],
   "source": [
    "arr[(arr>0)]"
   ]
  },
  {
   "cell_type": "code",
   "execution_count": 80,
   "id": "999c6661",
   "metadata": {},
   "outputs": [
    {
     "data": {
      "text/plain": [
       "array([-5, -2, -5, -8, -3])"
      ]
     },
     "execution_count": 80,
     "metadata": {},
     "output_type": "execute_result"
    }
   ],
   "source": [
    "arr[~(arr>0)]"
   ]
  },
  {
   "cell_type": "code",
   "execution_count": 81,
   "id": "4e753bd8",
   "metadata": {},
   "outputs": [
    {
     "data": {
      "text/plain": [
       "array([10, -5,  6,  8, -2, -5, -8,  9, -3])"
      ]
     },
     "execution_count": 81,
     "metadata": {},
     "output_type": "execute_result"
    }
   ],
   "source": [
    "arr"
   ]
  },
  {
   "cell_type": "code",
   "execution_count": 82,
   "id": "80e11101",
   "metadata": {},
   "outputs": [
    {
     "name": "stdout",
     "output_type": "stream",
     "text": [
      "[10 -5  6  8 -2 -5 -8  9 -3]\n",
      "[10  6  8  9]\n",
      "[-5 -2 -5 -8 -3]\n"
     ]
    }
   ],
   "source": [
    "cond = (arr>=0)\n",
    "pos = arr[cond]\n",
    "neg = arr[~cond]\n",
    "print(arr)\n",
    "print(pos)\n",
    "print(neg)"
   ]
  },
  {
   "cell_type": "markdown",
   "id": "71f4d79b",
   "metadata": {},
   "source": [
    "select all element from array which are positive and less than or equal to 6"
   ]
  },
  {
   "cell_type": "markdown",
   "id": "ccd46b76",
   "metadata": {},
   "source": [
    "###### arr[(arr > 0) & (arr <= 6)]"
   ]
  },
  {
   "cell_type": "code",
   "execution_count": 87,
   "id": "d8e3593f",
   "metadata": {},
   "outputs": [
    {
     "data": {
      "text/plain": [
       "array([10, -5,  6,  8, -2, -5, -8,  9, -3])"
      ]
     },
     "execution_count": 87,
     "metadata": {},
     "output_type": "execute_result"
    }
   ],
   "source": [
    "arr[(arr>2) | (arr<6)]"
   ]
  },
  {
   "cell_type": "code",
   "execution_count": 2,
   "id": "9ee82230",
   "metadata": {},
   "outputs": [
    {
     "name": "stdout",
     "output_type": "stream",
     "text": [
      "[[48 49 27 24 40]\n",
      " [38 27 39 48 28]\n",
      " [37 39 46 30 28]\n",
      " [23 44 21 36 25]]\n"
     ]
    }
   ],
   "source": [
    "import numpy as np\n",
    "arr3 = np.random.randint(20, 50,(4,5))\n",
    "print(arr3)"
   ]
  },
  {
   "cell_type": "code",
   "execution_count": 4,
   "id": "05edbee2",
   "metadata": {},
   "outputs": [
    {
     "name": "stdout",
     "output_type": "stream",
     "text": [
      "[[48 49 27 24 40]\n",
      " [38 27 39 48 28]\n",
      " [37 39 46 30 28]\n",
      " [23 44 21 36 25]]\n"
     ]
    }
   ],
   "source": [
    "arr3 = np.array(arr3)\n",
    "print(arr3)"
   ]
  },
  {
   "cell_type": "code",
   "execution_count": 5,
   "id": "868bb503",
   "metadata": {},
   "outputs": [
    {
     "data": {
      "text/plain": [
       "array([48, 46, 36])"
      ]
     },
     "execution_count": 5,
     "metadata": {},
     "output_type": "execute_result"
    }
   ],
   "source": [
    "arr3[[0,2,3,], [0,2,3]]"
   ]
  },
  {
   "cell_type": "code",
   "execution_count": null,
   "id": "7df42b85",
   "metadata": {},
   "outputs": [],
   "source": []
  }
 ],
 "metadata": {
  "kernelspec": {
   "display_name": "Python 3 (ipykernel)",
   "language": "python",
   "name": "python3"
  },
  "language_info": {
   "codemirror_mode": {
    "name": "ipython",
    "version": 3
   },
   "file_extension": ".py",
   "mimetype": "text/x-python",
   "name": "python",
   "nbconvert_exporter": "python",
   "pygments_lexer": "ipython3",
   "version": "3.10.9"
  }
 },
 "nbformat": 4,
 "nbformat_minor": 5
}
