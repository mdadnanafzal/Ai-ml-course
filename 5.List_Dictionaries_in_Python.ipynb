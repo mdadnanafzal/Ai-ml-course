{
 "cells": [
  {
   "cell_type": "markdown",
   "id": "b8f85df0",
   "metadata": {},
   "source": [
    "### Lists in Python\n",
    "\n",
    "    sequential collection of objects \n",
    "    \n",
    "    mutable data type "
   ]
  },
  {
   "cell_type": "code",
   "execution_count": 1,
   "id": "c252ebd5",
   "metadata": {},
   "outputs": [
    {
     "name": "stdout",
     "output_type": "stream",
     "text": [
      "hello world!\n",
      "HELLO WORLD!\n",
      "hello world!\n",
      "['hello', 'world!']\n"
     ]
    }
   ],
   "source": [
    "s = \"hello world!\"\n",
    "# immutable\n",
    "us = s.upper()\n",
    "ls = s.lower()\n",
    "ss = s.split()\n",
    "\n",
    "print(s)\n",
    "print(us)\n",
    "print(ls)\n",
    "print(ss)"
   ]
  },
  {
   "cell_type": "code",
   "execution_count": 2,
   "id": "497fb503",
   "metadata": {},
   "outputs": [
    {
     "name": "stdout",
     "output_type": "stream",
     "text": [
      "['__add__', '__class__', '__contains__', '__delattr__', '__dir__', '__doc__', '__eq__', '__format__', '__ge__', '__getattribute__', '__getitem__', '__getnewargs__', '__gt__', '__hash__', '__init__', '__init_subclass__', '__iter__', '__le__', '__len__', '__lt__', '__mod__', '__mul__', '__ne__', '__new__', '__reduce__', '__reduce_ex__', '__repr__', '__rmod__', '__rmul__', '__setattr__', '__sizeof__', '__str__', '__subclasshook__', 'capitalize', 'casefold', 'center', 'count', 'encode', 'endswith', 'expandtabs', 'find', 'format', 'format_map', 'index', 'isalnum', 'isalpha', 'isascii', 'isdecimal', 'isdigit', 'isidentifier', 'islower', 'isnumeric', 'isprintable', 'isspace', 'istitle', 'isupper', 'join', 'ljust', 'lower', 'lstrip', 'maketrans', 'partition', 'removeprefix', 'removesuffix', 'replace', 'rfind', 'rindex', 'rjust', 'rpartition', 'rsplit', 'rstrip', 'split', 'splitlines', 'startswith', 'strip', 'swapcase', 'title', 'translate', 'upper', 'zfill']\n"
     ]
    }
   ],
   "source": [
    "print(dir(s))"
   ]
  },
  {
   "cell_type": "code",
   "execution_count": 4,
   "id": "453ec3de",
   "metadata": {},
   "outputs": [
    {
     "name": "stdout",
     "output_type": "stream",
     "text": [
      "Help on built-in function title:\n",
      "\n",
      "title() method of builtins.str instance\n",
      "    Return a version of the string where each word is titlecased.\n",
      "    \n",
      "    More specifically, words start with uppercased characters and all remaining\n",
      "    cased characters have lower case.\n",
      "\n"
     ]
    }
   ],
   "source": [
    "help(s.title)"
   ]
  },
  {
   "cell_type": "code",
   "execution_count": 6,
   "id": "7200299b",
   "metadata": {},
   "outputs": [],
   "source": [
    "s = \"hEY! pyTHon is AN aweSOmE laNGuAge.\""
   ]
  },
  {
   "cell_type": "code",
   "execution_count": 7,
   "id": "5cd99f5c",
   "metadata": {},
   "outputs": [
    {
     "name": "stdout",
     "output_type": "stream",
     "text": [
      "Hey! Python Is An Awesome Language.\n"
     ]
    }
   ],
   "source": [
    "ts = s.title()\n",
    "print(ts)"
   ]
  },
  {
   "cell_type": "markdown",
   "id": "3c4bd3b4",
   "metadata": {},
   "source": [
    "#### string formatting\n",
    "\n",
    "    if we want build a string by replacing varibles in it \n",
    "    \n",
    "    "
   ]
  },
  {
   "cell_type": "code",
   "execution_count": 8,
   "id": "a8ba1848",
   "metadata": {},
   "outputs": [],
   "source": [
    "result = \"\"\"\n",
    "    x = ?\n",
    "    y = ?\n",
    "    \n",
    "    x + y = ?\n",
    "\"\"\""
   ]
  },
  {
   "cell_type": "code",
   "execution_count": 17,
   "id": "28e37f6c",
   "metadata": {},
   "outputs": [
    {
     "name": "stdout",
     "output_type": "stream",
     "text": [
      "X: 33\n",
      "Y: 7\n",
      "\n",
      "    x = 33\n",
      "    y = 7\n",
      "    \n",
      "    33 / 7 = `4.71      `\n"
     ]
    }
   ],
   "source": [
    "# old way formatting\n",
    "\n",
    "\n",
    "x = int(input(\"X: \"))\n",
    "y = int(input(\"Y: \"))\n",
    "\n",
    "r = x / y\n",
    "\n",
    "result = \"\"\"\n",
    "    x = %d\n",
    "    y = %d\n",
    "    \n",
    "    %d / %d = `%-10.2f`\"\"\"%(x, y, x, y, r)\n",
    "\n",
    "print(result)"
   ]
  },
  {
   "cell_type": "code",
   "execution_count": 16,
   "id": "33631a10",
   "metadata": {},
   "outputs": [
    {
     "name": "stdout",
     "output_type": "stream",
     "text": [
      "X: 22\n",
      "Y: 7\n",
      "\n",
      "    x = 22\n",
      "    y = 7\n",
      "    \n",
      "    22 / 7 = `3.14      `\n",
      "\n"
     ]
    }
   ],
   "source": [
    "# old way formatting\n",
    "\n",
    "result = \"\"\"\n",
    "    x = %d\n",
    "    y = %d\n",
    "    \n",
    "    %d / %d = `%-10.2f`\n",
    "\"\"\"\n",
    "x = int(input(\"X: \"))\n",
    "y = int(input(\"Y: \"))\n",
    "\n",
    "r = x / y\n",
    "\n",
    "\n",
    "print(result%(x, y, x, y, r))\n"
   ]
  },
  {
   "cell_type": "markdown",
   "id": "f7e1fba1",
   "metadata": {},
   "source": [
    "    pre -> define variables first and define template string afterwards (f-string)\n",
    "\n",
    "    post -> we can define template fist and whenever we got our data (variables) we can fill string (format)"
   ]
  },
  {
   "cell_type": "markdown",
   "id": "c90f27e4",
   "metadata": {},
   "source": [
    "    :< -> left justification      str.ljust(width)\n",
    "    :> -> right justification     str.rjust(width)\n",
    "    :^ -> center justification    str.center(width)"
   ]
  },
  {
   "cell_type": "code",
   "execution_count": 28,
   "id": "eaf3c783",
   "metadata": {},
   "outputs": [
    {
     "name": "stdout",
     "output_type": "stream",
     "text": [
      "__________________________________sachin yadav__________________________________\n"
     ]
    }
   ],
   "source": [
    "name = \"sachin yadav\"\n",
    "\n",
    "print(name.center(80, \"_\"))"
   ]
  },
  {
   "cell_type": "code",
   "execution_count": 24,
   "id": "25af2891",
   "metadata": {},
   "outputs": [
    {
     "name": "stdout",
     "output_type": "stream",
     "text": [
      "\n",
      "Hello Sachin Yadav\n",
      "\n",
      "    x = 22\n",
      "    y = 7\n",
      "    \n",
      "    22 / 7 = `   3.14   `\n",
      "\n",
      "\n"
     ]
    }
   ],
   "source": [
    "name = \"       sachin yadav         \"\n",
    "x = 22\n",
    "y = 7\n",
    "\n",
    "result = f\"\"\"\n",
    "Hello {name.strip().title()}\n",
    "\n",
    "    x = {x}\n",
    "    y = {y}\n",
    "    \n",
    "    {x} / {y} = `{x/y:^10.2f}`\n",
    "\n",
    "\"\"\"\n",
    "\n",
    "print(result) # "
   ]
  },
  {
   "cell_type": "code",
   "execution_count": 42,
   "id": "21f7cb16",
   "metadata": {},
   "outputs": [
    {
     "name": "stdout",
     "output_type": "stream",
     "text": [
      "0001 * 0001 = 0000001\n",
      "0002 * 0002 = 0000002\n",
      "0004 * 0004 = 0000004\n",
      "0008 * 0008 = 0000008\n",
      "0016 * 0016 = 0000016\n",
      "0032 * 0032 = 0000032\n",
      "0064 * 0064 = 0000064\n",
      "0128 * 0128 = 0000128\n",
      "0256 * 0256 = 0000256\n",
      "0512 * 0512 = 0000512\n",
      "1024 * 1024 = 0001024\n"
     ]
    }
   ],
   "source": [
    "var = 1\n",
    "while var <= 1024:\n",
    "    var = str(var)\n",
    "    print(f\"{var.zfill(4)} * {var.zfill(4)} = {var.zfill(7)}\")\n",
    "    var = int(var)\n",
    "    var *= 2"
   ]
  },
  {
   "cell_type": "code",
   "execution_count": 40,
   "id": "eb8991c8",
   "metadata": {},
   "outputs": [
    {
     "name": "stdout",
     "output_type": "stream",
     "text": [
      "    1 *    1 =       1\n",
      "    2 *    2 =       4\n",
      "    4 *    4 =      16\n",
      "    8 *    8 =      64\n",
      "   16 *   16 =     256\n",
      "   32 *   32 =    1024\n",
      "   64 *   64 =    4096\n",
      "  128 *  128 =   16384\n",
      "  256 *  256 =   65536\n",
      "  512 *  512 =  262144\n",
      " 1024 * 1024 = 1048576\n"
     ]
    }
   ],
   "source": [
    "var = 1\n",
    "while var <= 1024:\n",
    "    print(f\"{var:>5} *{var:>5} = {var*var:>7}\")\n",
    "    var *= 2"
   ]
  },
  {
   "cell_type": "code",
   "execution_count": 43,
   "id": "179559a0",
   "metadata": {},
   "outputs": [
    {
     "data": {
      "text/plain": [
       "'***'"
      ]
     },
     "execution_count": 43,
     "metadata": {},
     "output_type": "execute_result"
    }
   ],
   "source": [
    "\"*\"*3"
   ]
  },
  {
   "cell_type": "code",
   "execution_count": 45,
   "id": "bb5a9f07",
   "metadata": {},
   "outputs": [
    {
     "data": {
      "text/plain": [
       "'ram ram ram ram ram '"
      ]
     },
     "execution_count": 45,
     "metadata": {},
     "output_type": "execute_result"
    }
   ],
   "source": [
    "\"ram \"*5"
   ]
  },
  {
   "cell_type": "code",
   "execution_count": 47,
   "id": "adee9c86",
   "metadata": {},
   "outputs": [
    {
     "name": "stdout",
     "output_type": "stream",
     "text": [
      "*\n",
      "**\n",
      "***\n",
      "****\n",
      "*****\n",
      "******\n",
      "*******\n",
      "********\n",
      "*********\n",
      "**********\n"
     ]
    }
   ],
   "source": [
    "i = 1\n",
    "while i <= 10:\n",
    "    s = \"*\"*i\n",
    "    print(s)\n",
    "    i += 1 \n",
    "# output ? "
   ]
  },
  {
   "cell_type": "code",
   "execution_count": 48,
   "id": "6aa70342",
   "metadata": {},
   "outputs": [
    {
     "name": "stdout",
     "output_type": "stream",
     "text": [
      "         *\n",
      "        **\n",
      "       ***\n",
      "      ****\n",
      "     *****\n",
      "    ******\n",
      "   *******\n",
      "  ********\n",
      " *********\n",
      "**********\n"
     ]
    }
   ],
   "source": [
    "i = 1\n",
    "while i <= 10:\n",
    "    s = \"*\"*i\n",
    "    print(s.rjust(10))\n",
    "    i += 1 \n",
    "# output ? "
   ]
  },
  {
   "cell_type": "code",
   "execution_count": 51,
   "id": "76d36dda",
   "metadata": {},
   "outputs": [
    {
     "name": "stdout",
     "output_type": "stream",
     "text": [
      "          *          \n",
      "         ***         \n",
      "        *****        \n",
      "       *******       \n",
      "      *********      \n",
      "     ***********     \n",
      "    *************    \n",
      "   ***************   \n",
      "  *****************  \n",
      " ******************* \n",
      "*********************\n"
     ]
    }
   ],
   "source": [
    "i = 1\n",
    "while i<=21:\n",
    "    s = \"*\"*i\n",
    "    print(s.center(21))\n",
    "    i += 2"
   ]
  },
  {
   "cell_type": "code",
   "execution_count": 52,
   "id": "af86768e",
   "metadata": {},
   "outputs": [
    {
     "name": "stdout",
     "output_type": "stream",
     "text": [
      "----------*----------\n",
      "---------***---------\n",
      "--------*****--------\n",
      "-------*******-------\n",
      "------*********------\n",
      "-----***********-----\n",
      "----*************----\n",
      "---***************---\n",
      "--*****************--\n",
      "-*******************-\n",
      "*********************\n"
     ]
    }
   ],
   "source": [
    "i = 1\n",
    "while i<=21:\n",
    "    s = \"*\"*i\n",
    "    print(s.center(21, \"-\"))\n",
    "    i += 2"
   ]
  },
  {
   "cell_type": "code",
   "execution_count": 56,
   "id": "1b0eb04b",
   "metadata": {},
   "outputs": [
    {
     "name": "stdout",
     "output_type": "stream",
     "text": [
      "----------*----------\n",
      "---------***---------\n",
      "--------*****--------\n",
      "-------*******-------\n",
      "------*********------\n",
      "-----***********-----\n",
      "----*************----\n",
      "---***************---\n",
      "--*****************--\n",
      "-*******************-\n",
      "*********************\n"
     ]
    }
   ],
   "source": [
    "i = 1\n",
    "while i<=21:\n",
    "    s = \"*\"*i\n",
    "    print(f\"{s:-^21}\")\n",
    "    i += 2"
   ]
  },
  {
   "cell_type": "markdown",
   "id": "a310c814",
   "metadata": {},
   "source": [
    "    {} => place holder"
   ]
  },
  {
   "cell_type": "code",
   "execution_count": 58,
   "id": "96e4431d",
   "metadata": {},
   "outputs": [
    {
     "name": "stdout",
     "output_type": "stream",
     "text": [
      "\n",
      "    x = 22\n",
      "    y = 7\n",
      "    22 + 7 = 3.14\n",
      "\n"
     ]
    }
   ],
   "source": [
    "result = \"\"\"\n",
    "    x = {}\n",
    "    y = {}\n",
    "    {} + {} = {:.2f}\n",
    "\"\"\"\n",
    "\n",
    "\n",
    "x = 22\n",
    "y = 7\n",
    "r = x/y\n",
    "\n",
    "print(result.format(x, y, x, y, r))"
   ]
  },
  {
   "cell_type": "code",
   "execution_count": 59,
   "id": "4989e27a",
   "metadata": {},
   "outputs": [
    {
     "name": "stdout",
     "output_type": "stream",
     "text": [
      "\n",
      "    x = 22\n",
      "    y = 7\n",
      "    22 + 7 = 3.14\n",
      "\n"
     ]
    }
   ],
   "source": [
    "result = \"\"\"\n",
    "    x = {a}\n",
    "    y = {b}\n",
    "    {a} + {b} = {c:.2f}\n",
    "\"\"\"\n",
    "x = 22\n",
    "y = 7\n",
    "r = x/y\n",
    "\n",
    "print(result.format(a=x, b=y, c=r))"
   ]
  },
  {
   "cell_type": "code",
   "execution_count": 60,
   "id": "c9d4c597",
   "metadata": {},
   "outputs": [
    {
     "name": "stdout",
     "output_type": "stream",
     "text": [
      "\n",
      "    x = 22\n",
      "    y = 7\n",
      "    22 + 7 = 3.14\n",
      "\n"
     ]
    }
   ],
   "source": [
    "result = \"\"\"\n",
    "    x = {0}\n",
    "    y = {1}\n",
    "    {0} + {1} = {2:.2f}\n",
    "\"\"\"\n",
    "x = 22\n",
    "y = 7\n",
    "r = x/y\n",
    "\n",
    "print(result.format(x, y, r))\n",
    "#                   0  1  2"
   ]
  },
  {
   "cell_type": "markdown",
   "id": "94de8d92",
   "metadata": {},
   "source": [
    "### List\n",
    "    \n",
    "    mutable data\n",
    "    \n",
    "    sequential collection of object \n",
    "    \n",
    "    ordered "
   ]
  },
  {
   "cell_type": "code",
   "execution_count": 62,
   "id": "9bb68f10",
   "metadata": {},
   "outputs": [],
   "source": [
    "data = [\"sachin yadav\", 27, \"india\", 20000, [\"hindi\", \"english\"]]\n",
    "#           0            1     2       3            4"
   ]
  },
  {
   "cell_type": "code",
   "execution_count": 64,
   "id": "7df0a296",
   "metadata": {},
   "outputs": [
    {
     "name": "stdout",
     "output_type": "stream",
     "text": [
      "['sachin yadav', 27, 'india', 20000, ['hindi', 'english']]\n"
     ]
    }
   ],
   "source": [
    "# ? how to print only english out of the given data ? \n",
    "print(data)"
   ]
  },
  {
   "cell_type": "markdown",
   "id": "0ff2157e",
   "metadata": {},
   "source": [
    "    data[4] --> [\"hindi\", \"english\"]\n",
    "                    0         1"
   ]
  },
  {
   "cell_type": "code",
   "execution_count": 66,
   "id": "6a195617",
   "metadata": {},
   "outputs": [
    {
     "name": "stdout",
     "output_type": "stream",
     "text": [
      "english\n"
     ]
    }
   ],
   "source": [
    "print(data[4][1])"
   ]
  },
  {
   "cell_type": "code",
   "execution_count": 68,
   "id": "a870debc",
   "metadata": {},
   "outputs": [
    {
     "name": "stdout",
     "output_type": "stream",
     "text": [
      "['hari', 'jhon', 'krishna', 'manish', 'natasha', 'ramjan']\n"
     ]
    }
   ],
   "source": [
    "names = [\"hari\", \"manish\", \"ramjan\", \"krishna\", \"jhon\", \"natasha\"]\n",
    "names.sort()\n",
    "print(names)"
   ]
  },
  {
   "cell_type": "code",
   "execution_count": 67,
   "id": "3fe6413c",
   "metadata": {},
   "outputs": [
    {
     "ename": "TypeError",
     "evalue": "'<' not supported between instances of 'str' and 'int'",
     "output_type": "error",
     "traceback": [
      "\u001b[1;31m---------------------------------------------------------------------------\u001b[0m",
      "\u001b[1;31mTypeError\u001b[0m                                 Traceback (most recent call last)",
      "\u001b[1;32m~\\AppData\\Local\\Temp\\ipykernel_17280\\1920793192.py\u001b[0m in \u001b[0;36m<module>\u001b[1;34m\u001b[0m\n\u001b[0;32m      1\u001b[0m \u001b[0mlst\u001b[0m \u001b[1;33m=\u001b[0m \u001b[1;33m[\u001b[0m \u001b[1;36m1\u001b[0m\u001b[1;33m,\u001b[0m \u001b[1;36m2\u001b[0m\u001b[1;33m,\u001b[0m \u001b[1;36m3\u001b[0m\u001b[1;33m,\u001b[0m \u001b[1;34m'hi'\u001b[0m\u001b[1;33m,\u001b[0m \u001b[1;34m'can'\u001b[0m\u001b[1;33m,\u001b[0m \u001b[1;34m'not'\u001b[0m\u001b[1;33m,\u001b[0m \u001b[1;34m'sort'\u001b[0m\u001b[1;33m,\u001b[0m \u001b[1;34m'this'\u001b[0m\u001b[1;33m,\u001b[0m \u001b[1;34m'list'\u001b[0m\u001b[1;33m]\u001b[0m\u001b[1;33m\u001b[0m\u001b[1;33m\u001b[0m\u001b[0m\n\u001b[1;32m----> 2\u001b[1;33m \u001b[0mlst\u001b[0m\u001b[1;33m.\u001b[0m\u001b[0msort\u001b[0m\u001b[1;33m(\u001b[0m\u001b[1;33m)\u001b[0m\u001b[1;33m\u001b[0m\u001b[1;33m\u001b[0m\u001b[0m\n\u001b[0m",
      "\u001b[1;31mTypeError\u001b[0m: '<' not supported between instances of 'str' and 'int'"
     ]
    }
   ],
   "source": [
    "lst = [ 1, 2, 3, 'hi', 'can', 'not', 'sort', 'this', 'list']\n",
    "lst.sort()"
   ]
  },
  {
   "cell_type": "code",
   "execution_count": 69,
   "id": "610ee5c6",
   "metadata": {},
   "outputs": [
    {
     "name": "stdout",
     "output_type": "stream",
     "text": [
      "[23, 6, 5, 4, 4, 2, 1]\n"
     ]
    }
   ],
   "source": [
    "nums = [ 1, 4, 23, 2,4 ,5, 6, ]\n",
    "nums.sort(reverse=True)\n",
    "print(nums)"
   ]
  },
  {
   "cell_type": "code",
   "execution_count": 72,
   "id": "c0c74cf7",
   "metadata": {},
   "outputs": [
    {
     "name": "stdout",
     "output_type": "stream",
     "text": [
      "item: 5\n",
      "[1, 2, 3, 1, 32, 4, 5, 2, 1, 2, 45, 5, 6, 2, 3, 4, 5, 1, 4]\n",
      "5 is 3 times there in list.\n"
     ]
    }
   ],
   "source": [
    "data = [ 1, 2, 3, 1, 32, 4, 5, 2, 1, 2, 45, 5, 6, 2, 3, 4, 5, 1, 4, ]\n",
    "\n",
    "var = int(input(\"item: \"))\n",
    "count = data.count(var)\n",
    "\n",
    "\n",
    "print(data)\n",
    "\n",
    "print(f\"{var} is {count} times there in list.\")"
   ]
  },
  {
   "cell_type": "markdown",
   "id": "cb0ded71",
   "metadata": {},
   "source": [
    "    collection\n",
    "    \n",
    "        we add new elements to the collection\n",
    "        \n",
    "            list.append(item) -> to add single item at the end of list\n",
    "            list.insert(index, item) -> to add item at specific index\n",
    "            list.extend(sublist) -> to add each item from sublist to main list sequentially\n",
    "            \n",
    "        we can remove elements of the collection\n",
    "        \n",
    "            list.pop() -> to just delete and return last element from list\n",
    "            list.pop(index) -> to just delete and return element from index\n",
    "            list.remove(item) -> search and delete first occurence of item from list\n",
    "        \n",
    "        we can rearrange elements in the collection\n",
    "        \n",
    "            list.sort() -> to rearrange homogenous list in ascending order\n",
    "            list.sort(reverse=True) -> to rearrange homogenous list in descending order\n",
    "            list.clear() -> to delete all elements and create empty list\n",
    "            \n",
    "        utility methods \n",
    "        \n",
    "            list.count(item) -> returns occurence of item in list\n",
    "            list.index(item) -> returns first index of item from list\n",
    "            list.copy() -> it creates a shallow copy of list\n",
    "            "
   ]
  },
  {
   "cell_type": "markdown",
   "id": "a86206c7",
   "metadata": {},
   "source": [
    "    old ==> nums ==> same object ==> same id ==> mangu and mangilaal \n",
    "    \n",
    "    x = y that's not how we copy data in python\n",
    "    \n",
    "    \n",
    "    x = y.copy() yeah this is the way to copy something in python\n",
    "    \n",
    "    import copy\n",
    "    \n",
    "    x = copy.deepcopy(y) if you want to create entire seprate copy"
   ]
  },
  {
   "cell_type": "markdown",
   "id": "91f371ec",
   "metadata": {},
   "source": [
    "**deep copy vs shallow copy ?** "
   ]
  },
  {
   "cell_type": "code",
   "execution_count": 73,
   "id": "768002e0",
   "metadata": {},
   "outputs": [
    {
     "name": "stdout",
     "output_type": "stream",
     "text": [
      "[10, 20, 100, 40]\n",
      "[]\n",
      "[]\n"
     ]
    }
   ],
   "source": [
    "nums = []\n",
    "\n",
    "nums.append(10) # nums = [ 10 ]\n",
    "nums.extend([40, 20, 60]) # nums = [ 10, 40, 20, 60]\n",
    "nums.sort() # nums = [ 10, 20, 40, 60]\n",
    "nums.insert(2, 100) # [ 10, 20, 100, 40, 60]\n",
    "nums.pop() # nums = [10, 20, 100, 40]\n",
    "\n",
    "print(nums) # first output ? [10, 20, 100, 40]\n",
    "\n",
    "old = nums # old, nums ===> [10, 20, 100, 40]\n",
    "\n",
    "nums.clear() # old, nums ===> []\n",
    "\n",
    "print(nums) # second output ?  []\n",
    "print(old) # third output ?  []"
   ]
  },
  {
   "cell_type": "code",
   "execution_count": 74,
   "id": "0e3cbe7c",
   "metadata": {},
   "outputs": [
    {
     "name": "stdout",
     "output_type": "stream",
     "text": [
      "[10, 20, 100, 40]\n",
      "[]\n",
      "[10, 20, 100, 40]\n"
     ]
    }
   ],
   "source": [
    "nums = []\n",
    "\n",
    "nums.append(10) # nums = [ 10 ]\n",
    "nums.extend([40, 20, 60]) # nums = [ 10, 40, 20, 60]\n",
    "nums.sort() # nums = [ 10, 20, 40, 60]\n",
    "nums.insert(2, 100) # [ 10, 20, 100, 40, 60]\n",
    "nums.pop() # nums = [10, 20, 100, 40]\n",
    "\n",
    "print(nums) # first output ? [10, 20, 100, 40]\n",
    "\n",
    "old = nums.copy() # shallow copy\n",
    "\n",
    "nums.clear() # old, nums ===> []\n",
    "\n",
    "print(nums) # second output ?  []\n",
    "print(old) # third output ?  []"
   ]
  },
  {
   "cell_type": "markdown",
   "id": "570d2aaf",
   "metadata": {},
   "source": [
    "            mapping \n",
    "            \n",
    "                      process\n",
    "                        |\n",
    "                        |\n",
    "        input ----> function ----> output\n",
    "        \n",
    "        1     ----> hindi map ---> ek\n",
    "        2     ----> hindi map ---> dou\n",
    "        3     ----> hindi map ---> teen"
   ]
  },
  {
   "cell_type": "markdown",
   "id": "28bdcbb6",
   "metadata": {},
   "source": [
    "    arr, list -> sequential \n",
    "    \n",
    "    \n",
    "        [ item-1, item-2, item-3, ...., ]\n",
    "        \n",
    "            0,     1,        2"
   ]
  },
  {
   "cell_type": "markdown",
   "id": "35a99f02",
   "metadata": {},
   "source": [
    "    key ---> address ---> value\n",
    "    \n",
    "    name --> map ---> sachin\n",
    "    age  --> map ---> 27"
   ]
  },
  {
   "cell_type": "markdown",
   "id": "c1bcd07f",
   "metadata": {},
   "source": [
    "#### Dictionaries \n",
    "\n",
    "    hash map type of object\n",
    "    \n",
    "    collection of key-value pairs \n",
    "    \n",
    "    unordered / non-sequential data \n",
    "    \n",
    "    mutable\n",
    "    \n",
    "    JSON -> JavaScript Object Notation"
   ]
  },
  {
   "cell_type": "code",
   "execution_count": 76,
   "id": "6d95d9a1",
   "metadata": {},
   "outputs": [],
   "source": [
    "data = [ \"python\", \"guido van rossum\", \"www.python.org\", 1994, \"programming language\"]\n",
    "#          0             1                   2             3               4"
   ]
  },
  {
   "cell_type": "code",
   "execution_count": 77,
   "id": "0c592f52",
   "metadata": {},
   "outputs": [],
   "source": [
    "data = {\n",
    "    \"name\": \"python\",\n",
    "    \"father\": \"guido van rossum\",\n",
    "    \"website\": \"www.python.org\",\n",
    "    \"year\": 1994,\n",
    "    \"type\": \"programming language\"\n",
    "}"
   ]
  },
  {
   "cell_type": "code",
   "execution_count": 83,
   "id": "16a5aeca",
   "metadata": {},
   "outputs": [
    {
     "name": "stdout",
     "output_type": "stream",
     "text": [
      "guido van rossum\n"
     ]
    }
   ],
   "source": [
    "key = \"father\"\n",
    "value = data[key]\n",
    "print(value)"
   ]
  },
  {
   "cell_type": "code",
   "execution_count": 84,
   "id": "c3f3a4f7",
   "metadata": {},
   "outputs": [
    {
     "name": "stdout",
     "output_type": "stream",
     "text": [
      "{'name': 'python', 'father': 'guido van rossum', 'website': 'www.python.org', 'year': 1994, 'type': 'programming language'}\n"
     ]
    }
   ],
   "source": [
    "print(data)"
   ]
  },
  {
   "cell_type": "code",
   "execution_count": 85,
   "id": "0cdebc7b",
   "metadata": {},
   "outputs": [],
   "source": [
    "data[\"current version\"] = \"3.11\"\n",
    "# add new key-value pair to existing dictionary\n",
    "data[\"website\"] = \"python.org\"\n",
    "# replace \n",
    "del data[\"type\"]"
   ]
  },
  {
   "cell_type": "code",
   "execution_count": 86,
   "id": "987d8747",
   "metadata": {},
   "outputs": [
    {
     "name": "stdout",
     "output_type": "stream",
     "text": [
      "{'name': 'python', 'father': 'guido van rossum', 'website': 'python.org', 'year': 1994, 'current version': '3.11'}\n"
     ]
    }
   ],
   "source": [
    "print(data)"
   ]
  },
  {
   "cell_type": "markdown",
   "id": "61245b38",
   "metadata": {},
   "source": [
    "#### Dictionary\n",
    "#### python really quick if-else, for loop, function, oops ?"
   ]
  },
  {
   "cell_type": "markdown",
   "id": "48c45e68",
   "metadata": {},
   "source": []
  }
 ],
 "metadata": {
  "kernelspec": {
   "display_name": "Python 3 (ipykernel)",
   "language": "python",
   "name": "python3"
  },
  "language_info": {
   "codemirror_mode": {
    "name": "ipython",
    "version": 3
   },
   "file_extension": ".py",
   "mimetype": "text/x-python",
   "name": "python",
   "nbconvert_exporter": "python",
   "pygments_lexer": "ipython3",
   "version": "3.9.13"
  }
 },
 "nbformat": 4,
 "nbformat_minor": 5
}
