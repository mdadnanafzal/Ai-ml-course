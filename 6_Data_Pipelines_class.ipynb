{
 "cells": [
  {
   "cell_type": "markdown",
   "id": "d5157123",
   "metadata": {},
   "source": [
    "### Mileage Prediction Project "
   ]
  },
  {
   "cell_type": "markdown",
   "id": "d986edac",
   "metadata": {},
   "source": [
    "    sklearn model classes\n",
    "    \n",
    "                        Estimators -> ML Models    fit, predict, score\n",
    "                        \n",
    "                        Transformers ->            fit, transform, fit_transform\n",
    "                        \n",
    "                        \n",
    "                                   input -> T -> output "
   ]
  },
  {
   "cell_type": "code",
   "execution_count": 1,
   "id": "77a30efa",
   "metadata": {},
   "outputs": [],
   "source": [
    "# EDA Libraries\n",
    "import numpy as np\n",
    "import pandas as pd\n",
    "import matplotlib.pyplot as plt\n",
    "import seaborn as sns\n",
    "\n",
    "# Sampling Library\n",
    "from sklearn.model_selection import train_test_split\n",
    "\n",
    "# Data Transformation Libraries\n",
    "from sklearn.impute import SimpleImputer\n",
    "from sklearn.preprocessing import StandardScaler\n",
    "from sklearn.preprocessing import OneHotEncoder\n",
    "from sklearn.preprocessing import OrdinalEncoder\n",
    "\n",
    "# Custom Transformation \n",
    "from sklearn.base import BaseEstimator, TransformerMixin\n",
    "\n",
    "# Data Pipelines \n",
    "from sklearn.pipeline import Pipeline\n",
    "from sklearn.compose import ColumnTransformer \n",
    "\n",
    "# Machine Learning Models and Evaluation Metrices\n",
    "from sklearn.linear_model import LinearRegression\n",
    "from sklearn.metrics import mean_squared_error\n",
    "from sklearn.metrics import r2_score\n",
    "\n",
    "# Custom Evaluation Metric\n",
    "def rmse(y, y_hat):\n",
    "    return np.sqrt(mean_squared_error(y, y_hat))\n",
    "\n",
    "# Custom Transformer \n",
    "class CompanyNameExtracter(BaseEstimator, TransformerMixin):\n",
    "    def fit(self, X, y=None):\n",
    "        return self\n",
    "    def transform(self, X, y=None):\n",
    "        # X -> DataFrame -> X[\"name\"] which needs to be transformed\n",
    "        X.loc[:, \"name\"] = X[\"name\"].apply(self.process_string) \n",
    "        return X\n",
    "    @staticmethod\n",
    "    def process_string(value):\n",
    "        map_d = {'maxda': 'mazda', \n",
    "        \"toyouta\":  \"toyota\",\n",
    "        \"vokswagen\":  \"vw\",\n",
    "        \"volkswagen\": \"vw\",}\n",
    "        result = value.lower().strip().split(\" \")\n",
    "        name = result[0]\n",
    "        if name in map_d.keys():\n",
    "            name = map_d[name]\n",
    "        return name"
   ]
  },
  {
   "cell_type": "code",
   "execution_count": 2,
   "id": "83ad8ab3",
   "metadata": {},
   "outputs": [
    {
     "data": {
      "text/html": [
       "<div>\n",
       "<style scoped>\n",
       "    .dataframe tbody tr th:only-of-type {\n",
       "        vertical-align: middle;\n",
       "    }\n",
       "\n",
       "    .dataframe tbody tr th {\n",
       "        vertical-align: top;\n",
       "    }\n",
       "\n",
       "    .dataframe thead th {\n",
       "        text-align: right;\n",
       "    }\n",
       "</style>\n",
       "<table border=\"1\" class=\"dataframe\">\n",
       "  <thead>\n",
       "    <tr style=\"text-align: right;\">\n",
       "      <th></th>\n",
       "      <th>mpg</th>\n",
       "      <th>cylinders</th>\n",
       "      <th>displacement</th>\n",
       "      <th>horsepower</th>\n",
       "      <th>weight</th>\n",
       "      <th>acceleration</th>\n",
       "      <th>model_year</th>\n",
       "      <th>origin</th>\n",
       "      <th>name</th>\n",
       "    </tr>\n",
       "  </thead>\n",
       "  <tbody>\n",
       "    <tr>\n",
       "      <th>0</th>\n",
       "      <td>18.0</td>\n",
       "      <td>8</td>\n",
       "      <td>307.0</td>\n",
       "      <td>130.0</td>\n",
       "      <td>3504</td>\n",
       "      <td>12.0</td>\n",
       "      <td>70</td>\n",
       "      <td>usa</td>\n",
       "      <td>chevrolet chevelle malibu</td>\n",
       "    </tr>\n",
       "    <tr>\n",
       "      <th>1</th>\n",
       "      <td>15.0</td>\n",
       "      <td>8</td>\n",
       "      <td>350.0</td>\n",
       "      <td>165.0</td>\n",
       "      <td>3693</td>\n",
       "      <td>11.5</td>\n",
       "      <td>70</td>\n",
       "      <td>usa</td>\n",
       "      <td>buick skylark 320</td>\n",
       "    </tr>\n",
       "    <tr>\n",
       "      <th>2</th>\n",
       "      <td>18.0</td>\n",
       "      <td>8</td>\n",
       "      <td>318.0</td>\n",
       "      <td>150.0</td>\n",
       "      <td>3436</td>\n",
       "      <td>11.0</td>\n",
       "      <td>70</td>\n",
       "      <td>usa</td>\n",
       "      <td>plymouth satellite</td>\n",
       "    </tr>\n",
       "    <tr>\n",
       "      <th>3</th>\n",
       "      <td>16.0</td>\n",
       "      <td>8</td>\n",
       "      <td>304.0</td>\n",
       "      <td>150.0</td>\n",
       "      <td>3433</td>\n",
       "      <td>12.0</td>\n",
       "      <td>70</td>\n",
       "      <td>usa</td>\n",
       "      <td>amc rebel sst</td>\n",
       "    </tr>\n",
       "    <tr>\n",
       "      <th>4</th>\n",
       "      <td>17.0</td>\n",
       "      <td>8</td>\n",
       "      <td>302.0</td>\n",
       "      <td>140.0</td>\n",
       "      <td>3449</td>\n",
       "      <td>10.5</td>\n",
       "      <td>70</td>\n",
       "      <td>usa</td>\n",
       "      <td>ford torino</td>\n",
       "    </tr>\n",
       "  </tbody>\n",
       "</table>\n",
       "</div>"
      ],
      "text/plain": [
       "    mpg  cylinders  displacement  horsepower  weight  acceleration  \\\n",
       "0  18.0          8         307.0       130.0    3504          12.0   \n",
       "1  15.0          8         350.0       165.0    3693          11.5   \n",
       "2  18.0          8         318.0       150.0    3436          11.0   \n",
       "3  16.0          8         304.0       150.0    3433          12.0   \n",
       "4  17.0          8         302.0       140.0    3449          10.5   \n",
       "\n",
       "   model_year origin                       name  \n",
       "0          70    usa  chevrolet chevelle malibu  \n",
       "1          70    usa          buick skylark 320  \n",
       "2          70    usa         plymouth satellite  \n",
       "3          70    usa              amc rebel sst  \n",
       "4          70    usa                ford torino  "
      ]
     },
     "execution_count": 2,
     "metadata": {},
     "output_type": "execute_result"
    }
   ],
   "source": [
    "# load data\n",
    "def get_data(dataset_name):\n",
    "    return sns.load_dataset(dataset_name)\n",
    "\n",
    "mpg = get_data(\"mpg\")\n",
    "mpg.head()\n",
    "# features -> cylinders, displacement, horsepower, weight, acceleration, model_year, origin, name\n",
    "# target  -> mpg"
   ]
  },
  {
   "cell_type": "code",
   "execution_count": 3,
   "id": "c89f7834",
   "metadata": {},
   "outputs": [],
   "source": [
    "X = mpg.drop(\"mpg\", axis=1) # 2-D\n",
    "y = mpg[\"mpg\"] # 1-D"
   ]
  },
  {
   "cell_type": "code",
   "execution_count": 4,
   "id": "78ed2099",
   "metadata": {},
   "outputs": [
    {
     "data": {
      "text/html": [
       "<div>\n",
       "<style scoped>\n",
       "    .dataframe tbody tr th:only-of-type {\n",
       "        vertical-align: middle;\n",
       "    }\n",
       "\n",
       "    .dataframe tbody tr th {\n",
       "        vertical-align: top;\n",
       "    }\n",
       "\n",
       "    .dataframe thead th {\n",
       "        text-align: right;\n",
       "    }\n",
       "</style>\n",
       "<table border=\"1\" class=\"dataframe\">\n",
       "  <thead>\n",
       "    <tr style=\"text-align: right;\">\n",
       "      <th></th>\n",
       "      <th>cylinders</th>\n",
       "      <th>displacement</th>\n",
       "      <th>horsepower</th>\n",
       "      <th>weight</th>\n",
       "      <th>acceleration</th>\n",
       "      <th>model_year</th>\n",
       "      <th>origin</th>\n",
       "      <th>name</th>\n",
       "    </tr>\n",
       "  </thead>\n",
       "  <tbody>\n",
       "    <tr>\n",
       "      <th>0</th>\n",
       "      <td>8</td>\n",
       "      <td>307.0</td>\n",
       "      <td>130.0</td>\n",
       "      <td>3504</td>\n",
       "      <td>12.0</td>\n",
       "      <td>70</td>\n",
       "      <td>usa</td>\n",
       "      <td>chevrolet chevelle malibu</td>\n",
       "    </tr>\n",
       "    <tr>\n",
       "      <th>1</th>\n",
       "      <td>8</td>\n",
       "      <td>350.0</td>\n",
       "      <td>165.0</td>\n",
       "      <td>3693</td>\n",
       "      <td>11.5</td>\n",
       "      <td>70</td>\n",
       "      <td>usa</td>\n",
       "      <td>buick skylark 320</td>\n",
       "    </tr>\n",
       "    <tr>\n",
       "      <th>2</th>\n",
       "      <td>8</td>\n",
       "      <td>318.0</td>\n",
       "      <td>150.0</td>\n",
       "      <td>3436</td>\n",
       "      <td>11.0</td>\n",
       "      <td>70</td>\n",
       "      <td>usa</td>\n",
       "      <td>plymouth satellite</td>\n",
       "    </tr>\n",
       "    <tr>\n",
       "      <th>3</th>\n",
       "      <td>8</td>\n",
       "      <td>304.0</td>\n",
       "      <td>150.0</td>\n",
       "      <td>3433</td>\n",
       "      <td>12.0</td>\n",
       "      <td>70</td>\n",
       "      <td>usa</td>\n",
       "      <td>amc rebel sst</td>\n",
       "    </tr>\n",
       "    <tr>\n",
       "      <th>4</th>\n",
       "      <td>8</td>\n",
       "      <td>302.0</td>\n",
       "      <td>140.0</td>\n",
       "      <td>3449</td>\n",
       "      <td>10.5</td>\n",
       "      <td>70</td>\n",
       "      <td>usa</td>\n",
       "      <td>ford torino</td>\n",
       "    </tr>\n",
       "  </tbody>\n",
       "</table>\n",
       "</div>"
      ],
      "text/plain": [
       "   cylinders  displacement  horsepower  weight  acceleration  model_year  \\\n",
       "0          8         307.0       130.0    3504          12.0          70   \n",
       "1          8         350.0       165.0    3693          11.5          70   \n",
       "2          8         318.0       150.0    3436          11.0          70   \n",
       "3          8         304.0       150.0    3433          12.0          70   \n",
       "4          8         302.0       140.0    3449          10.5          70   \n",
       "\n",
       "  origin                       name  \n",
       "0    usa  chevrolet chevelle malibu  \n",
       "1    usa          buick skylark 320  \n",
       "2    usa         plymouth satellite  \n",
       "3    usa              amc rebel sst  \n",
       "4    usa                ford torino  "
      ]
     },
     "execution_count": 4,
     "metadata": {},
     "output_type": "execute_result"
    }
   ],
   "source": [
    "X.head() # features"
   ]
  },
  {
   "cell_type": "code",
   "execution_count": 5,
   "id": "bb9d2f17",
   "metadata": {},
   "outputs": [
    {
     "data": {
      "text/plain": [
       "0    18.0\n",
       "1    15.0\n",
       "2    18.0\n",
       "3    16.0\n",
       "4    17.0\n",
       "Name: mpg, dtype: float64"
      ]
     },
     "execution_count": 5,
     "metadata": {},
     "output_type": "execute_result"
    }
   ],
   "source": [
    "y.head() # target / labels"
   ]
  },
  {
   "cell_type": "markdown",
   "id": "7fcb504b",
   "metadata": {},
   "source": [
    "### Linear Regression Model \n",
    "\n",
    "\n",
    "    Hypothesis / Prediction\n",
    "\n",
    "    mpg = bias+w1*displacement+w2*horsepower+w3*weight+w4*acceleration+w5*model_year+w6*origin+w7*name"
   ]
  },
  {
   "cell_type": "markdown",
   "id": "96c048bf",
   "metadata": {},
   "source": [
    "    we need to build a custom transformer which will convert name column\n",
    "    into company\n",
    "    \n",
    "        peugeot 504  -> CompanyNameExtracter -> peugeot\n",
    "        fiat 124b    ->                      -> fiat\n",
    "        \n",
    "#### Custom Transformation\n",
    "\n",
    "        1. Create a class by inherting BaseEstimator and TransformerMixin\n",
    "        2. Create a Method fit which will calculate all statistics needed to transform data using training data\n",
    "        3. Create a Method transform which will do the transformation using statistics learning in previous step\n",
    "        4. Create a Method called fit_transform which will just call fit method first and than transform method\n",
    "        \n",
    "        \n",
    "        name -> company name extract --> ordinal encoder\n",
    "        \n",
    "        raw_data -> pipeline -> data model --> machine learning model"
   ]
  },
  {
   "cell_type": "code",
   "execution_count": 6,
   "id": "09370ede",
   "metadata": {},
   "outputs": [],
   "source": [
    "# Sampling\n",
    "X_train, X_test, y_train, y_test = train_test_split(X, y, \n",
    "                                                   test_size=0.05,\n",
    "                                                   random_state=145)"
   ]
  },
  {
   "cell_type": "code",
   "execution_count": 7,
   "id": "ccaa6906",
   "metadata": {},
   "outputs": [
    {
     "data": {
      "text/html": [
       "<div>\n",
       "<style scoped>\n",
       "    .dataframe tbody tr th:only-of-type {\n",
       "        vertical-align: middle;\n",
       "    }\n",
       "\n",
       "    .dataframe tbody tr th {\n",
       "        vertical-align: top;\n",
       "    }\n",
       "\n",
       "    .dataframe thead th {\n",
       "        text-align: right;\n",
       "    }\n",
       "</style>\n",
       "<table border=\"1\" class=\"dataframe\">\n",
       "  <thead>\n",
       "    <tr style=\"text-align: right;\">\n",
       "      <th></th>\n",
       "      <th>cylinders</th>\n",
       "      <th>displacement</th>\n",
       "      <th>horsepower</th>\n",
       "      <th>weight</th>\n",
       "      <th>acceleration</th>\n",
       "      <th>model_year</th>\n",
       "      <th>origin</th>\n",
       "      <th>name</th>\n",
       "    </tr>\n",
       "  </thead>\n",
       "  <tbody>\n",
       "    <tr>\n",
       "      <th>372</th>\n",
       "      <td>4</td>\n",
       "      <td>151.0</td>\n",
       "      <td>90.0</td>\n",
       "      <td>2735</td>\n",
       "      <td>18.0</td>\n",
       "      <td>82</td>\n",
       "      <td>usa</td>\n",
       "      <td>pontiac phoenix</td>\n",
       "    </tr>\n",
       "    <tr>\n",
       "      <th>68</th>\n",
       "      <td>8</td>\n",
       "      <td>350.0</td>\n",
       "      <td>155.0</td>\n",
       "      <td>4502</td>\n",
       "      <td>13.5</td>\n",
       "      <td>72</td>\n",
       "      <td>usa</td>\n",
       "      <td>buick lesabre custom</td>\n",
       "    </tr>\n",
       "    <tr>\n",
       "      <th>32</th>\n",
       "      <td>4</td>\n",
       "      <td>98.0</td>\n",
       "      <td>NaN</td>\n",
       "      <td>2046</td>\n",
       "      <td>19.0</td>\n",
       "      <td>71</td>\n",
       "      <td>usa</td>\n",
       "      <td>ford pinto</td>\n",
       "    </tr>\n",
       "    <tr>\n",
       "      <th>195</th>\n",
       "      <td>4</td>\n",
       "      <td>85.0</td>\n",
       "      <td>52.0</td>\n",
       "      <td>2035</td>\n",
       "      <td>22.2</td>\n",
       "      <td>76</td>\n",
       "      <td>usa</td>\n",
       "      <td>chevrolet chevette</td>\n",
       "    </tr>\n",
       "    <tr>\n",
       "      <th>216</th>\n",
       "      <td>4</td>\n",
       "      <td>98.0</td>\n",
       "      <td>68.0</td>\n",
       "      <td>2045</td>\n",
       "      <td>18.5</td>\n",
       "      <td>77</td>\n",
       "      <td>japan</td>\n",
       "      <td>honda accord cvcc</td>\n",
       "    </tr>\n",
       "  </tbody>\n",
       "</table>\n",
       "</div>"
      ],
      "text/plain": [
       "     cylinders  displacement  horsepower  weight  acceleration  model_year  \\\n",
       "372          4         151.0        90.0    2735          18.0          82   \n",
       "68           8         350.0       155.0    4502          13.5          72   \n",
       "32           4          98.0         NaN    2046          19.0          71   \n",
       "195          4          85.0        52.0    2035          22.2          76   \n",
       "216          4          98.0        68.0    2045          18.5          77   \n",
       "\n",
       "    origin                  name  \n",
       "372    usa       pontiac phoenix  \n",
       "68     usa  buick lesabre custom  \n",
       "32     usa            ford pinto  \n",
       "195    usa    chevrolet chevette  \n",
       "216  japan     honda accord cvcc  "
      ]
     },
     "execution_count": 7,
     "metadata": {},
     "output_type": "execute_result"
    }
   ],
   "source": [
    "X_train.head()"
   ]
  },
  {
   "cell_type": "code",
   "execution_count": 8,
   "id": "9a8d91d5",
   "metadata": {},
   "outputs": [
    {
     "data": {
      "text/plain": [
       "372    27.0\n",
       "68     13.0\n",
       "32     25.0\n",
       "195    29.0\n",
       "216    31.5\n",
       "Name: mpg, dtype: float64"
      ]
     },
     "execution_count": 8,
     "metadata": {},
     "output_type": "execute_result"
    }
   ],
   "source": [
    "y_train.head()"
   ]
  },
  {
   "cell_type": "code",
   "execution_count": 9,
   "id": "fffb375a",
   "metadata": {},
   "outputs": [],
   "source": [
    "num_features = [\"displacement\", \"horsepower\", \"weight\", \"acceleration\"]\n",
    "ord_features = [ \"cylinders\", \"model_year\"]\n",
    "nominal_features = [\"origin\"]\n",
    "pass_through_cols = []\n",
    "drop_cols = [\"name\",]"
   ]
  },
  {
   "cell_type": "code",
   "execution_count": 10,
   "id": "ccfe3263",
   "metadata": {},
   "outputs": [],
   "source": [
    "numerical_pipeline = Pipeline([ (\"imputer\", SimpleImputer()), (\"std scaler\", StandardScaler())])\n",
    "ordinal_pipeline = Pipeline([ #(\"extract company name\", CompanyNameExtracter()),\n",
    "                         (\"ordinal encoder\", OrdinalEncoder()),\n",
    "                         (\"std scaling\", StandardScaler())\n",
    "                        ])\n",
    "nominal_pipeline = Pipeline([ (\"one hot encoding\", OneHotEncoder() ) ])"
   ]
  },
  {
   "cell_type": "code",
   "execution_count": 11,
   "id": "f51d1cae",
   "metadata": {},
   "outputs": [],
   "source": [
    "pipeline = ColumnTransformer([\n",
    "    (\"numerical pipeline\", numerical_pipeline, num_features), # [\"displacement\", \"horsepower\", \"weight\", \"acceleration\"]\n",
    "    (\"ordinal pipeline\", ordinal_pipeline, ord_features), #  [ \"cylinders\", \"model_year\"]\n",
    "    (\"nominal pipeline\", nominal_pipeline, nominal_features), # [\"europe\", \"japan\", \"usa\"]\n",
    "    (\"passing columns\", \"passthrough\", pass_through_cols), # [\"cylinders\"]\n",
    "    (\"drop columns\", \"drop\", drop_cols)# \"name\",\n",
    "    \n",
    "])\n",
    "\n",
    "output_cols = [\"displacement\", \"horsepower\", \"weight\", \"acceleration\",\n",
    "                \"cylinders\", \"model_year\",  \"europe\", \"japan\", \"usa\", \n",
    "               ]"
   ]
  },
  {
   "cell_type": "code",
   "execution_count": 12,
   "id": "fff2356c",
   "metadata": {},
   "outputs": [
    {
     "data": {
      "text/html": [
       "<div>\n",
       "<style scoped>\n",
       "    .dataframe tbody tr th:only-of-type {\n",
       "        vertical-align: middle;\n",
       "    }\n",
       "\n",
       "    .dataframe tbody tr th {\n",
       "        vertical-align: top;\n",
       "    }\n",
       "\n",
       "    .dataframe thead th {\n",
       "        text-align: right;\n",
       "    }\n",
       "</style>\n",
       "<table border=\"1\" class=\"dataframe\">\n",
       "  <thead>\n",
       "    <tr style=\"text-align: right;\">\n",
       "      <th></th>\n",
       "      <th>cylinders</th>\n",
       "      <th>displacement</th>\n",
       "      <th>horsepower</th>\n",
       "      <th>weight</th>\n",
       "      <th>acceleration</th>\n",
       "      <th>model_year</th>\n",
       "      <th>origin</th>\n",
       "      <th>name</th>\n",
       "    </tr>\n",
       "  </thead>\n",
       "  <tbody>\n",
       "    <tr>\n",
       "      <th>372</th>\n",
       "      <td>4</td>\n",
       "      <td>151.0</td>\n",
       "      <td>90.0</td>\n",
       "      <td>2735</td>\n",
       "      <td>18.0</td>\n",
       "      <td>82</td>\n",
       "      <td>usa</td>\n",
       "      <td>pontiac phoenix</td>\n",
       "    </tr>\n",
       "    <tr>\n",
       "      <th>68</th>\n",
       "      <td>8</td>\n",
       "      <td>350.0</td>\n",
       "      <td>155.0</td>\n",
       "      <td>4502</td>\n",
       "      <td>13.5</td>\n",
       "      <td>72</td>\n",
       "      <td>usa</td>\n",
       "      <td>buick lesabre custom</td>\n",
       "    </tr>\n",
       "  </tbody>\n",
       "</table>\n",
       "</div>"
      ],
      "text/plain": [
       "     cylinders  displacement  horsepower  weight  acceleration  model_year  \\\n",
       "372          4         151.0        90.0    2735          18.0          82   \n",
       "68           8         350.0       155.0    4502          13.5          72   \n",
       "\n",
       "    origin                  name  \n",
       "372    usa       pontiac phoenix  \n",
       "68     usa  buick lesabre custom  "
      ]
     },
     "execution_count": 12,
     "metadata": {},
     "output_type": "execute_result"
    }
   ],
   "source": [
    "X_train.head(2)"
   ]
  },
  {
   "cell_type": "code",
   "execution_count": 13,
   "id": "2d44b269",
   "metadata": {},
   "outputs": [
    {
     "data": {
      "text/html": [
       "<div>\n",
       "<style scoped>\n",
       "    .dataframe tbody tr th:only-of-type {\n",
       "        vertical-align: middle;\n",
       "    }\n",
       "\n",
       "    .dataframe tbody tr th {\n",
       "        vertical-align: top;\n",
       "    }\n",
       "\n",
       "    .dataframe thead th {\n",
       "        text-align: right;\n",
       "    }\n",
       "</style>\n",
       "<table border=\"1\" class=\"dataframe\">\n",
       "  <thead>\n",
       "    <tr style=\"text-align: right;\">\n",
       "      <th></th>\n",
       "      <th>displacement</th>\n",
       "      <th>horsepower</th>\n",
       "      <th>weight</th>\n",
       "      <th>acceleration</th>\n",
       "      <th>cylinders</th>\n",
       "      <th>model_year</th>\n",
       "      <th>europe</th>\n",
       "      <th>japan</th>\n",
       "      <th>usa</th>\n",
       "    </tr>\n",
       "  </thead>\n",
       "  <tbody>\n",
       "    <tr>\n",
       "      <th>0</th>\n",
       "      <td>-0.391983</td>\n",
       "      <td>-0.371907</td>\n",
       "      <td>-0.258306</td>\n",
       "      <td>0.890229</td>\n",
       "      <td>-0.871829</td>\n",
       "      <td>1.619269</td>\n",
       "      <td>0.0</td>\n",
       "      <td>0.0</td>\n",
       "      <td>1.0</td>\n",
       "    </tr>\n",
       "    <tr>\n",
       "      <th>1</th>\n",
       "      <td>1.493836</td>\n",
       "      <td>1.303962</td>\n",
       "      <td>1.824603</td>\n",
       "      <td>-0.732619</td>\n",
       "      <td>1.375112</td>\n",
       "      <td>-1.067665</td>\n",
       "      <td>0.0</td>\n",
       "      <td>0.0</td>\n",
       "      <td>1.0</td>\n",
       "    </tr>\n",
       "  </tbody>\n",
       "</table>\n",
       "</div>"
      ],
      "text/plain": [
       "   displacement  horsepower    weight  acceleration  cylinders  model_year  \\\n",
       "0     -0.391983   -0.371907 -0.258306      0.890229  -0.871829    1.619269   \n",
       "1      1.493836    1.303962  1.824603     -0.732619   1.375112   -1.067665   \n",
       "\n",
       "   europe  japan  usa  \n",
       "0     0.0    0.0  1.0  \n",
       "1     0.0    0.0  1.0  "
      ]
     },
     "execution_count": 13,
     "metadata": {},
     "output_type": "execute_result"
    }
   ],
   "source": [
    "X_train_tr = pipeline.fit_transform(X_train)\n",
    "X_train_tr = pd.DataFrame(X_train_tr, columns=output_cols)\n",
    "X_train_tr.head(2)"
   ]
  },
  {
   "cell_type": "code",
   "execution_count": 14,
   "id": "ac3a4fa6",
   "metadata": {},
   "outputs": [
    {
     "data": {
      "text/html": [
       "<div>\n",
       "<style scoped>\n",
       "    .dataframe tbody tr th:only-of-type {\n",
       "        vertical-align: middle;\n",
       "    }\n",
       "\n",
       "    .dataframe tbody tr th {\n",
       "        vertical-align: top;\n",
       "    }\n",
       "\n",
       "    .dataframe thead th {\n",
       "        text-align: right;\n",
       "    }\n",
       "</style>\n",
       "<table border=\"1\" class=\"dataframe\">\n",
       "  <thead>\n",
       "    <tr style=\"text-align: right;\">\n",
       "      <th></th>\n",
       "      <th>cylinders</th>\n",
       "      <th>displacement</th>\n",
       "      <th>horsepower</th>\n",
       "      <th>weight</th>\n",
       "      <th>acceleration</th>\n",
       "      <th>model_year</th>\n",
       "      <th>origin</th>\n",
       "      <th>name</th>\n",
       "    </tr>\n",
       "  </thead>\n",
       "  <tbody>\n",
       "    <tr>\n",
       "      <th>333</th>\n",
       "      <td>6</td>\n",
       "      <td>168.0</td>\n",
       "      <td>132.0</td>\n",
       "      <td>2910</td>\n",
       "      <td>11.4</td>\n",
       "      <td>80</td>\n",
       "      <td>japan</td>\n",
       "      <td>datsun 280-zx</td>\n",
       "    </tr>\n",
       "    <tr>\n",
       "      <th>99</th>\n",
       "      <td>6</td>\n",
       "      <td>232.0</td>\n",
       "      <td>100.0</td>\n",
       "      <td>2945</td>\n",
       "      <td>16.0</td>\n",
       "      <td>73</td>\n",
       "      <td>usa</td>\n",
       "      <td>amc hornet</td>\n",
       "    </tr>\n",
       "  </tbody>\n",
       "</table>\n",
       "</div>"
      ],
      "text/plain": [
       "     cylinders  displacement  horsepower  weight  acceleration  model_year  \\\n",
       "333          6         168.0       132.0    2910          11.4          80   \n",
       "99           6         232.0       100.0    2945          16.0          73   \n",
       "\n",
       "    origin           name  \n",
       "333  japan  datsun 280-zx  \n",
       "99     usa     amc hornet  "
      ]
     },
     "execution_count": 14,
     "metadata": {},
     "output_type": "execute_result"
    }
   ],
   "source": [
    "X_test.head(2)"
   ]
  },
  {
   "cell_type": "code",
   "execution_count": 15,
   "id": "bd7bcadb",
   "metadata": {},
   "outputs": [
    {
     "data": {
      "text/html": [
       "<div>\n",
       "<style scoped>\n",
       "    .dataframe tbody tr th:only-of-type {\n",
       "        vertical-align: middle;\n",
       "    }\n",
       "\n",
       "    .dataframe tbody tr th {\n",
       "        vertical-align: top;\n",
       "    }\n",
       "\n",
       "    .dataframe thead th {\n",
       "        text-align: right;\n",
       "    }\n",
       "</style>\n",
       "<table border=\"1\" class=\"dataframe\">\n",
       "  <thead>\n",
       "    <tr style=\"text-align: right;\">\n",
       "      <th></th>\n",
       "      <th>displacement</th>\n",
       "      <th>horsepower</th>\n",
       "      <th>weight</th>\n",
       "      <th>acceleration</th>\n",
       "      <th>cylinders</th>\n",
       "      <th>model_year</th>\n",
       "      <th>europe</th>\n",
       "      <th>japan</th>\n",
       "      <th>usa</th>\n",
       "    </tr>\n",
       "  </thead>\n",
       "  <tbody>\n",
       "    <tr>\n",
       "      <th>0</th>\n",
       "      <td>-0.230882</td>\n",
       "      <td>0.710962</td>\n",
       "      <td>-0.052019</td>\n",
       "      <td>-1.489949</td>\n",
       "      <td>0.626132</td>\n",
       "      <td>1.081882</td>\n",
       "      <td>0.0</td>\n",
       "      <td>1.0</td>\n",
       "      <td>0.0</td>\n",
       "    </tr>\n",
       "    <tr>\n",
       "      <th>1</th>\n",
       "      <td>0.375612</td>\n",
       "      <td>-0.114081</td>\n",
       "      <td>-0.010762</td>\n",
       "      <td>0.168963</td>\n",
       "      <td>0.626132</td>\n",
       "      <td>-0.798972</td>\n",
       "      <td>0.0</td>\n",
       "      <td>0.0</td>\n",
       "      <td>1.0</td>\n",
       "    </tr>\n",
       "  </tbody>\n",
       "</table>\n",
       "</div>"
      ],
      "text/plain": [
       "   displacement  horsepower    weight  acceleration  cylinders  model_year  \\\n",
       "0     -0.230882    0.710962 -0.052019     -1.489949   0.626132    1.081882   \n",
       "1      0.375612   -0.114081 -0.010762      0.168963   0.626132   -0.798972   \n",
       "\n",
       "   europe  japan  usa  \n",
       "0     0.0    1.0  0.0  \n",
       "1     0.0    0.0  1.0  "
      ]
     },
     "execution_count": 15,
     "metadata": {},
     "output_type": "execute_result"
    }
   ],
   "source": [
    "X_test_tr = pipeline.transform(X_test)\n",
    "X_test_tr = pd.DataFrame(X_test_tr, columns=output_cols)\n",
    "X_test_tr.head(2)"
   ]
  },
  {
   "cell_type": "code",
   "execution_count": 16,
   "id": "f8cdd559",
   "metadata": {},
   "outputs": [
    {
     "name": "stdout",
     "output_type": "stream",
     "text": [
      "24.36795094312869 [ 3.51958174 -0.92657813 -5.77982665  0.31020559 -1.62418694  2.90843501\n",
      "  0.8242213   0.8913853  -1.71560659]\n"
     ]
    }
   ],
   "source": [
    "# ML\n",
    "model = LinearRegression()\n",
    "model.fit(X_train_tr, y_train)\n",
    "print(model.intercept_, model.coef_)"
   ]
  },
  {
   "cell_type": "code",
   "execution_count": 17,
   "id": "a38e5ba1",
   "metadata": {},
   "outputs": [],
   "source": [
    "# ML\n",
    "\n",
    "def generate_models_report(models, X_train_tr, y_train, X_test_tr, y_test):\n",
    "    width = 116\n",
    "    print(\"_\"*width)\n",
    "    title = \"|{:^30}|{:^20}|{:^20}|{:^20}|{:^20}|\"\n",
    "    print(title.format(\"Model Name\", \"Train Error\", \"Test Error\", \"Train Accuracy\", \"Test Accuracy\"))\n",
    "    print(\"_\"*width)\n",
    "    row = \"|{:^30}|{:^20.2f}|{:^20.2f}|{:^20.2f}|{:^20.2f}|\"\n",
    "    for model in models:\n",
    "        model.fit(X_train_tr, y_train)\n",
    "        y_hat_train = model.predict(X_train_tr)\n",
    "        y_hat_test = model.predict(X_test_tr)\n",
    "        train_error = rmse(y_train, y_hat_train)\n",
    "        test_error = rmse(y_test, y_hat_test)\n",
    "        train_accuracy = r2_score(y_train, y_hat_train)\n",
    "        test_accuracy = r2_score(y_test, y_hat_test)\n",
    "        model_name = str(model)\n",
    "        print(row.format(model_name, train_error, test_error, train_accuracy*100, test_accuracy*100))\n",
    "        print(\"-\"*width)"
   ]
  },
  {
   "cell_type": "code",
   "execution_count": 18,
   "id": "16480781",
   "metadata": {},
   "outputs": [],
   "source": [
    "from sklearn.linear_model import LinearRegression\n",
    "from sklearn.linear_model import SGDRegressor\n",
    "from sklearn.svm import SVR\n",
    "from sklearn.tree import DecisionTreeRegressor\n",
    "from sklearn.ensemble import RandomForestRegressor\n",
    "\n",
    "models = [LinearRegression(), SGDRegressor(), SVR(), DecisionTreeRegressor(), RandomForestRegressor()]"
   ]
  },
  {
   "cell_type": "code",
   "execution_count": 19,
   "id": "e87fe2c7",
   "metadata": {},
   "outputs": [
    {
     "name": "stdout",
     "output_type": "stream",
     "text": [
      "____________________________________________________________________________________________________________________\n",
      "|          Model Name          |    Train Error     |     Test Error     |   Train Accuracy   |   Test Accuracy    |\n",
      "____________________________________________________________________________________________________________________\n",
      "|      LinearRegression()      |        3.26        |        2.85        |       82.90        |       76.75        |\n",
      "--------------------------------------------------------------------------------------------------------------------\n",
      "|        SGDRegressor()        |        3.29        |        2.78        |       82.59        |       77.88        |\n",
      "--------------------------------------------------------------------------------------------------------------------\n",
      "|            SVR()             |        2.98        |        3.03        |       85.69        |       73.85        |\n",
      "--------------------------------------------------------------------------------------------------------------------\n",
      "|   DecisionTreeRegressor()    |        0.00        |        6.24        |       100.00       |       -11.12       |\n",
      "--------------------------------------------------------------------------------------------------------------------\n",
      "|   RandomForestRegressor()    |        1.03        |        3.30        |       98.27        |       69.00        |\n",
      "--------------------------------------------------------------------------------------------------------------------\n"
     ]
    }
   ],
   "source": [
    "generate_models_report(models, X_train_tr, y_train, X_test_tr, y_test)\n",
    "# latest"
   ]
  },
  {
   "cell_type": "code",
   "execution_count": 20,
   "id": "097b0c91",
   "metadata": {},
   "outputs": [
    {
     "name": "stdout",
     "output_type": "stream",
     "text": [
      "____________________________________________________________________________________________________________________\n",
      "|          Model Name          |    Train Error     |     Test Error     |   Train Accuracy   |   Test Accuracy    |\n",
      "____________________________________________________________________________________________________________________\n",
      "|      LinearRegression()      |        3.26        |        2.85        |       82.90        |       76.75        |\n",
      "--------------------------------------------------------------------------------------------------------------------\n",
      "|        SGDRegressor()        |        3.27        |        2.79        |       82.76        |       77.74        |\n",
      "--------------------------------------------------------------------------------------------------------------------\n",
      "|            SVR()             |        2.98        |        3.03        |       85.69        |       73.85        |\n",
      "--------------------------------------------------------------------------------------------------------------------\n",
      "|   DecisionTreeRegressor()    |        0.00        |        6.32        |       100.00       |       -13.98       |\n",
      "--------------------------------------------------------------------------------------------------------------------\n",
      "|   RandomForestRegressor()    |        1.01        |        3.35        |       98.36        |       67.97        |\n",
      "--------------------------------------------------------------------------------------------------------------------\n"
     ]
    }
   ],
   "source": [
    "generate_models_report(models, X_train_tr, y_train, X_test_tr, y_test)\n",
    "# previous # using all features"
   ]
  },
  {
   "cell_type": "code",
   "execution_count": 21,
   "id": "6c1729a6",
   "metadata": {},
   "outputs": [
    {
     "name": "stdout",
     "output_type": "stream",
     "text": [
      "____________________________________________________________________________________________________________________\n",
      "|          Model Name          |    Train Error     |     Test Error     |   Train Accuracy   |   Test Accuracy    |\n",
      "____________________________________________________________________________________________________________________\n",
      "|      LinearRegression()      |        3.26        |        2.85        |       82.90        |       76.75        |\n",
      "--------------------------------------------------------------------------------------------------------------------\n",
      "|        SGDRegressor()        |        3.28        |        2.78        |       82.64        |       77.91        |\n",
      "--------------------------------------------------------------------------------------------------------------------\n",
      "|            SVR()             |        2.98        |        3.03        |       85.69        |       73.85        |\n",
      "--------------------------------------------------------------------------------------------------------------------\n",
      "|   DecisionTreeRegressor()    |        0.00        |        6.22        |       100.00       |       -10.34       |\n",
      "--------------------------------------------------------------------------------------------------------------------\n",
      "|   RandomForestRegressor()    |        1.04        |        3.28        |       98.24        |       69.25        |\n",
      "--------------------------------------------------------------------------------------------------------------------\n"
     ]
    }
   ],
   "source": [
    "generate_models_report(models, X_train_tr, y_train, X_test_tr, y_test)\n",
    "# previous previous # model_year drop "
   ]
  },
  {
   "cell_type": "markdown",
   "id": "70f0c835",
   "metadata": {},
   "source": [
    "#### Overfitting / Underfitting\n",
    "\n",
    "#### Hyper parameter tunning "
   ]
  },
  {
   "cell_type": "markdown",
   "id": "ea26370a",
   "metadata": {},
   "source": [
    "    California Housing Price Predictions \n",
    "    \n",
    "            follow book \n",
    "            \n",
    "                Chapter-2"
   ]
  },
  {
   "cell_type": "code",
   "execution_count": 22,
   "id": "735272de",
   "metadata": {},
   "outputs": [],
   "source": [
    "models = [RandomForestRegressor(n_estimators=200), RandomForestRegressor(max_depth=3), RandomForestRegressor(max_depth=5),\n",
    "         RandomForestRegressor(max_depth=4, min_samples_split=20), RandomForestRegressor(max_depth=6)]"
   ]
  },
  {
   "cell_type": "code",
   "execution_count": 23,
   "id": "1b5f20cb",
   "metadata": {},
   "outputs": [],
   "source": [
    "# ML\n",
    "\n",
    "def generate_models_report(models, X_train_tr, y_train, X_test_tr, y_test):\n",
    "    width = 116\n",
    "    print(\"_\"*width)\n",
    "    title = \"|{:^30}|{:^20}|{:^20}|{:^20}|{:^20}|\"\n",
    "    print(title.format(\"Model Name\", \"Train Error\", \"Test Error\", \"Train Accuracy\", \"Test Accuracy\"))\n",
    "    print(\"_\"*width)\n",
    "    row = \"|{:^30}|{:^20.2f}|{:^20.2f}|{:^20.2f}|{:^20.2f}|\"\n",
    "    for model in models:\n",
    "        model.fit(X_train_tr, y_train)\n",
    "        y_hat_train = model.predict(X_train_tr)\n",
    "        y_hat_test = model.predict(X_test_tr)\n",
    "        train_error = rmse(y_train, y_hat_train)\n",
    "        test_error = rmse(y_test, y_hat_test)\n",
    "        train_accuracy = r2_score(y_train, y_hat_train)\n",
    "        test_accuracy = r2_score(y_test, y_hat_test)\n",
    "        model_name = str(model)\n",
    "        print(model_name, end=\"\\n\\n\")\n",
    "        print(row.format(\"\", train_error, test_error, train_accuracy*100, test_accuracy*100))\n",
    "        print(\"-\"*width)"
   ]
  },
  {
   "cell_type": "code",
   "execution_count": 24,
   "id": "b916c7f8",
   "metadata": {},
   "outputs": [
    {
     "name": "stdout",
     "output_type": "stream",
     "text": [
      "____________________________________________________________________________________________________________________\n",
      "|          Model Name          |    Train Error     |     Test Error     |   Train Accuracy   |   Test Accuracy    |\n",
      "____________________________________________________________________________________________________________________\n",
      "RandomForestRegressor(n_estimators=200)\n",
      "\n",
      "|                              |        1.01        |        3.33        |       98.35        |       68.32        |\n",
      "--------------------------------------------------------------------------------------------------------------------\n",
      "RandomForestRegressor(max_depth=3)\n",
      "\n",
      "|                              |        2.73        |        3.18        |       87.97        |       71.17        |\n",
      "--------------------------------------------------------------------------------------------------------------------\n",
      "RandomForestRegressor(max_depth=5)\n",
      "\n",
      "|                              |        1.89        |        3.33        |       94.21        |       68.29        |\n",
      "--------------------------------------------------------------------------------------------------------------------\n",
      "RandomForestRegressor(max_depth=4, min_samples_split=20)\n",
      "\n",
      "|                              |        2.38        |        3.27        |       90.86        |       69.40        |\n",
      "--------------------------------------------------------------------------------------------------------------------\n",
      "RandomForestRegressor(max_depth=6)\n",
      "\n",
      "|                              |        1.60        |        3.48        |       95.85        |       65.49        |\n",
      "--------------------------------------------------------------------------------------------------------------------\n"
     ]
    }
   ],
   "source": [
    "generate_models_report(models, X_train_tr, y_train, X_test_tr, y_test)\n"
   ]
  },
  {
   "cell_type": "code",
   "execution_count": 25,
   "id": "ecd9d423",
   "metadata": {},
   "outputs": [
    {
     "data": {
      "text/plain": [
       "8"
      ]
     },
     "execution_count": 25,
     "metadata": {},
     "output_type": "execute_result"
    }
   ],
   "source": [
    "len(X_train.columns)"
   ]
  },
  {
   "cell_type": "code",
   "execution_count": 26,
   "id": "09a2ae12",
   "metadata": {},
   "outputs": [],
   "source": [
    "result = {\n",
    "    \"models\": [],\n",
    "    \"train_error\": [],\n",
    "    \"test_error\": [],\n",
    "    \"train_acc\": [],\n",
    "    \"test_acc\": [],\n",
    "    \"parameters\": []\n",
    "}"
   ]
  },
  {
   "cell_type": "code",
   "execution_count": 27,
   "id": "5a766992",
   "metadata": {},
   "outputs": [
    {
     "name": "stdout",
     "output_type": "stream",
     "text": [
      "no of models trained:  480\n"
     ]
    }
   ],
   "source": [
    "n_estimators = [10, 50, 100, 200, 300, 500] # 600 models \n",
    "max_depth = [1, 3, 6, 10] # 100\n",
    "min_samples_split = [ 5, 10, 15, 20, 50] # 5 -> 20\n",
    "max_features = [ 2, 3, 5, 7] # 4 \n",
    "c = 0\n",
    "for n_est in n_estimators:\n",
    "    for dth in max_depth:\n",
    "        for min_sm in min_samples_split:\n",
    "            for mx_fe in max_features:\n",
    "                model = RandomForestRegressor(\n",
    "                    n_estimators=n_est, \n",
    "                    max_depth=dth,\n",
    "                    min_samples_split= min_sm,\n",
    "                    max_features=mx_fe\n",
    "                )\n",
    "                model.fit(X_train_tr, y_train)\n",
    "                y_hat_train = model.predict(X_train_tr)\n",
    "                y_hat_test = model.predict(X_test_tr)\n",
    "                train_error = rmse(y_train, y_hat_train)\n",
    "                test_error = rmse(y_test, y_hat_test)\n",
    "                train_accuracy = r2_score(y_train, y_hat_train)\n",
    "                test_accuracy = r2_score(y_test, y_hat_test)\n",
    "                \n",
    "                result[\"models\"].append(model)\n",
    "                result[\"train_error\"].append(train_error)\n",
    "                result[\"test_error\"].append(test_error)\n",
    "                result[\"train_acc\"].append(train_accuracy)\n",
    "                result[\"test_acc\"].append(test_accuracy)\n",
    "                result[\"parameters\"].append({\n",
    "                    \"n_estimators\": n_est,\n",
    "                    \"max_depth\": dth,\n",
    "                    \"min_samples_split\": min_sm,\n",
    "                    \"max_features\": mx_fe\n",
    "                })\n",
    "                c += 1\n",
    "                \n",
    "print(\"no of models trained: \", c)"
   ]
  },
  {
   "cell_type": "code",
   "execution_count": 28,
   "id": "e1dbcc7a",
   "metadata": {},
   "outputs": [],
   "source": [
    "result = pd.DataFrame(result)"
   ]
  },
  {
   "cell_type": "code",
   "execution_count": 29,
   "id": "6c211b2f",
   "metadata": {},
   "outputs": [
    {
     "data": {
      "text/html": [
       "<div>\n",
       "<style scoped>\n",
       "    .dataframe tbody tr th:only-of-type {\n",
       "        vertical-align: middle;\n",
       "    }\n",
       "\n",
       "    .dataframe tbody tr th {\n",
       "        vertical-align: top;\n",
       "    }\n",
       "\n",
       "    .dataframe thead th {\n",
       "        text-align: right;\n",
       "    }\n",
       "</style>\n",
       "<table border=\"1\" class=\"dataframe\">\n",
       "  <thead>\n",
       "    <tr style=\"text-align: right;\">\n",
       "      <th></th>\n",
       "      <th>models</th>\n",
       "      <th>train_error</th>\n",
       "      <th>test_error</th>\n",
       "      <th>train_acc</th>\n",
       "      <th>test_acc</th>\n",
       "      <th>parameters</th>\n",
       "    </tr>\n",
       "  </thead>\n",
       "  <tbody>\n",
       "    <tr>\n",
       "      <th>0</th>\n",
       "      <td>(DecisionTreeRegressor(max_depth=1, max_featur...</td>\n",
       "      <td>4.504730</td>\n",
       "      <td>3.582229</td>\n",
       "      <td>0.672654</td>\n",
       "      <td>0.633699</td>\n",
       "      <td>{'n_estimators': 10, 'max_depth': 1, 'min_samp...</td>\n",
       "    </tr>\n",
       "    <tr>\n",
       "      <th>1</th>\n",
       "      <td>(DecisionTreeRegressor(max_depth=1, max_featur...</td>\n",
       "      <td>4.653240</td>\n",
       "      <td>3.737978</td>\n",
       "      <td>0.650715</td>\n",
       "      <td>0.601154</td>\n",
       "      <td>{'n_estimators': 10, 'max_depth': 1, 'min_samp...</td>\n",
       "    </tr>\n",
       "    <tr>\n",
       "      <th>2</th>\n",
       "      <td>(DecisionTreeRegressor(max_depth=1, max_featur...</td>\n",
       "      <td>4.896747</td>\n",
       "      <td>4.663521</td>\n",
       "      <td>0.613201</td>\n",
       "      <td>0.379189</td>\n",
       "      <td>{'n_estimators': 10, 'max_depth': 1, 'min_samp...</td>\n",
       "    </tr>\n",
       "    <tr>\n",
       "      <th>3</th>\n",
       "      <td>(DecisionTreeRegressor(max_depth=1, max_featur...</td>\n",
       "      <td>4.978569</td>\n",
       "      <td>4.481376</td>\n",
       "      <td>0.600167</td>\n",
       "      <td>0.426736</td>\n",
       "      <td>{'n_estimators': 10, 'max_depth': 1, 'min_samp...</td>\n",
       "    </tr>\n",
       "    <tr>\n",
       "      <th>4</th>\n",
       "      <td>(DecisionTreeRegressor(max_depth=1, max_featur...</td>\n",
       "      <td>4.960783</td>\n",
       "      <td>3.859956</td>\n",
       "      <td>0.603019</td>\n",
       "      <td>0.574699</td>\n",
       "      <td>{'n_estimators': 10, 'max_depth': 1, 'min_samp...</td>\n",
       "    </tr>\n",
       "  </tbody>\n",
       "</table>\n",
       "</div>"
      ],
      "text/plain": [
       "                                              models  train_error  test_error  \\\n",
       "0  (DecisionTreeRegressor(max_depth=1, max_featur...     4.504730    3.582229   \n",
       "1  (DecisionTreeRegressor(max_depth=1, max_featur...     4.653240    3.737978   \n",
       "2  (DecisionTreeRegressor(max_depth=1, max_featur...     4.896747    4.663521   \n",
       "3  (DecisionTreeRegressor(max_depth=1, max_featur...     4.978569    4.481376   \n",
       "4  (DecisionTreeRegressor(max_depth=1, max_featur...     4.960783    3.859956   \n",
       "\n",
       "   train_acc  test_acc                                         parameters  \n",
       "0   0.672654  0.633699  {'n_estimators': 10, 'max_depth': 1, 'min_samp...  \n",
       "1   0.650715  0.601154  {'n_estimators': 10, 'max_depth': 1, 'min_samp...  \n",
       "2   0.613201  0.379189  {'n_estimators': 10, 'max_depth': 1, 'min_samp...  \n",
       "3   0.600167  0.426736  {'n_estimators': 10, 'max_depth': 1, 'min_samp...  \n",
       "4   0.603019  0.574699  {'n_estimators': 10, 'max_depth': 1, 'min_samp...  "
      ]
     },
     "execution_count": 29,
     "metadata": {},
     "output_type": "execute_result"
    }
   ],
   "source": [
    "result.head()"
   ]
  },
  {
   "cell_type": "code",
   "execution_count": 30,
   "id": "41c6c6f2",
   "metadata": {},
   "outputs": [
    {
     "data": {
      "text/plain": [
       "480"
      ]
     },
     "execution_count": 30,
     "metadata": {},
     "output_type": "execute_result"
    }
   ],
   "source": [
    "result.shape[0]"
   ]
  },
  {
   "cell_type": "code",
   "execution_count": 31,
   "id": "b023875b",
   "metadata": {},
   "outputs": [
    {
     "data": {
      "text/html": [
       "<div>\n",
       "<style scoped>\n",
       "    .dataframe tbody tr th:only-of-type {\n",
       "        vertical-align: middle;\n",
       "    }\n",
       "\n",
       "    .dataframe tbody tr th {\n",
       "        vertical-align: top;\n",
       "    }\n",
       "\n",
       "    .dataframe thead th {\n",
       "        text-align: right;\n",
       "    }\n",
       "</style>\n",
       "<table border=\"1\" class=\"dataframe\">\n",
       "  <thead>\n",
       "    <tr style=\"text-align: right;\">\n",
       "      <th></th>\n",
       "      <th>models</th>\n",
       "      <th>train_error</th>\n",
       "      <th>test_error</th>\n",
       "      <th>train_acc</th>\n",
       "      <th>test_acc</th>\n",
       "      <th>parameters</th>\n",
       "    </tr>\n",
       "  </thead>\n",
       "  <tbody>\n",
       "    <tr>\n",
       "      <th>49</th>\n",
       "      <td>(DecisionTreeRegressor(max_depth=6, max_featur...</td>\n",
       "      <td>2.304126</td>\n",
       "      <td>2.500528</td>\n",
       "      <td>0.914359</td>\n",
       "      <td>0.821518</td>\n",
       "      <td>{'n_estimators': 10, 'max_depth': 6, 'min_samp...</td>\n",
       "    </tr>\n",
       "    <tr>\n",
       "      <th>24</th>\n",
       "      <td>(DecisionTreeRegressor(max_depth=3, max_featur...</td>\n",
       "      <td>3.391225</td>\n",
       "      <td>2.740129</td>\n",
       "      <td>0.814483</td>\n",
       "      <td>0.785675</td>\n",
       "      <td>{'n_estimators': 10, 'max_depth': 3, 'min_samp...</td>\n",
       "    </tr>\n",
       "    <tr>\n",
       "      <th>76</th>\n",
       "      <td>(DecisionTreeRegressor(max_depth=10, max_featu...</td>\n",
       "      <td>3.047916</td>\n",
       "      <td>2.776412</td>\n",
       "      <td>0.850143</td>\n",
       "      <td>0.779961</td>\n",
       "      <td>{'n_estimators': 10, 'max_depth': 10, 'min_sam...</td>\n",
       "    </tr>\n",
       "    <tr>\n",
       "      <th>77</th>\n",
       "      <td>(DecisionTreeRegressor(max_depth=10, max_featu...</td>\n",
       "      <td>3.220083</td>\n",
       "      <td>2.782071</td>\n",
       "      <td>0.832735</td>\n",
       "      <td>0.779063</td>\n",
       "      <td>{'n_estimators': 10, 'max_depth': 10, 'min_sam...</td>\n",
       "    </tr>\n",
       "    <tr>\n",
       "      <th>232</th>\n",
       "      <td>(DecisionTreeRegressor(max_depth=10, max_featu...</td>\n",
       "      <td>2.397403</td>\n",
       "      <td>2.789968</td>\n",
       "      <td>0.907285</td>\n",
       "      <td>0.777807</td>\n",
       "      <td>{'n_estimators': 100, 'max_depth': 10, 'min_sa...</td>\n",
       "    </tr>\n",
       "  </tbody>\n",
       "</table>\n",
       "</div>"
      ],
      "text/plain": [
       "                                                models  train_error  \\\n",
       "49   (DecisionTreeRegressor(max_depth=6, max_featur...     2.304126   \n",
       "24   (DecisionTreeRegressor(max_depth=3, max_featur...     3.391225   \n",
       "76   (DecisionTreeRegressor(max_depth=10, max_featu...     3.047916   \n",
       "77   (DecisionTreeRegressor(max_depth=10, max_featu...     3.220083   \n",
       "232  (DecisionTreeRegressor(max_depth=10, max_featu...     2.397403   \n",
       "\n",
       "     test_error  train_acc  test_acc  \\\n",
       "49     2.500528   0.914359  0.821518   \n",
       "24     2.740129   0.814483  0.785675   \n",
       "76     2.776412   0.850143  0.779961   \n",
       "77     2.782071   0.832735  0.779063   \n",
       "232    2.789968   0.907285  0.777807   \n",
       "\n",
       "                                            parameters  \n",
       "49   {'n_estimators': 10, 'max_depth': 6, 'min_samp...  \n",
       "24   {'n_estimators': 10, 'max_depth': 3, 'min_samp...  \n",
       "76   {'n_estimators': 10, 'max_depth': 10, 'min_sam...  \n",
       "77   {'n_estimators': 10, 'max_depth': 10, 'min_sam...  \n",
       "232  {'n_estimators': 100, 'max_depth': 10, 'min_sa...  "
      ]
     },
     "execution_count": 31,
     "metadata": {},
     "output_type": "execute_result"
    }
   ],
   "source": [
    "result.sort_values([\"test_acc\", \"train_acc\"], ascending=False).head(5)"
   ]
  },
  {
   "cell_type": "code",
   "execution_count": 32,
   "id": "06fa1aba",
   "metadata": {},
   "outputs": [],
   "source": [
    "row = result.loc[66, ]"
   ]
  },
  {
   "cell_type": "code",
   "execution_count": 33,
   "id": "f8806d9c",
   "metadata": {},
   "outputs": [
    {
     "name": "stdout",
     "output_type": "stream",
     "text": [
      "RandomForestRegressor(max_depth=10, max_features=5, min_samples_split=10,\n",
      "                      n_estimators=10)\n"
     ]
    }
   ],
   "source": [
    "model = row[\"models\"]\n",
    "print(model)"
   ]
  },
  {
   "cell_type": "code",
   "execution_count": 34,
   "id": "aa8b0482",
   "metadata": {},
   "outputs": [
    {
     "name": "stdout",
     "output_type": "stream",
     "text": [
      "{'n_estimators': 10, 'max_depth': 10, 'min_samples_split': 10, 'max_features': 5}\n"
     ]
    }
   ],
   "source": [
    "para = row[\"parameters\"]\n",
    "print(para) # best value for hyper parameter"
   ]
  },
  {
   "cell_type": "code",
   "execution_count": 35,
   "id": "617f33a6",
   "metadata": {},
   "outputs": [
    {
     "data": {
      "text/plain": [
       "(378, 8)"
      ]
     },
     "execution_count": 35,
     "metadata": {},
     "output_type": "execute_result"
    }
   ],
   "source": [
    "X_train.shape"
   ]
  },
  {
   "cell_type": "code",
   "execution_count": 36,
   "id": "857453ae",
   "metadata": {},
   "outputs": [
    {
     "data": {
      "text/plain": [
       "(20, 8)"
      ]
     },
     "execution_count": 36,
     "metadata": {},
     "output_type": "execute_result"
    }
   ],
   "source": [
    "X_test.shape"
   ]
  },
  {
   "cell_type": "markdown",
   "id": "abc0438d",
   "metadata": {},
   "source": [
    "    Hyperparameter Tunning using sklearn\n",
    "    \n",
    "            GridSearch\n",
    "            \n",
    "            RandomizedSearch\n",
    "            \n",
    "            \n",
    "     Classification "
   ]
  },
  {
   "cell_type": "code",
   "execution_count": null,
   "id": "ff165d97",
   "metadata": {},
   "outputs": [],
   "source": []
  },
  {
   "cell_type": "markdown",
   "id": "dc1c6837",
   "metadata": {},
   "source": [
    "    estimators --> ML Model \n",
    "    \n",
    "    parameter_grid --> hyperparameter values you want to try\n",
    "    \n",
    "    score -> (greastest is best) r2_score, neg_mean_squared_error"
   ]
  },
  {
   "cell_type": "markdown",
   "id": "ce5ba635",
   "metadata": {},
   "source": [
    "## Hyper-parameter Tunning"
   ]
  },
  {
   "cell_type": "code",
   "execution_count": 37,
   "id": "9c6c1d2b",
   "metadata": {},
   "outputs": [],
   "source": [
    "from sklearn.model_selection import GridSearchCV\n",
    "\n",
    "params = [\n",
    "    {\n",
    "        \"n_estimators\": [10, 50, 100, 200, 300, 500], # 600 models \n",
    "        \"max_depth\": [1, 3, 6, 10], # 100\n",
    "        \"min_samples_split\": [ 5, 10, 15, 20, 50], # 5 -> 20\n",
    "        \"max_features\": [ 2, 3, 5, 7] # 4 \n",
    "    }\n",
    "]"
   ]
  },
  {
   "cell_type": "code",
   "execution_count": 38,
   "id": "3730eca3",
   "metadata": {},
   "outputs": [],
   "source": [
    "grid_search = GridSearchCV(RandomForestRegressor(), param_grid=params, scoring=\"r2\")\n",
    "# grid_search = GridSearchCV(RandomForestRegressor(), param_grid=params, scoring=\"neg_mean_squared_error\")"
   ]
  },
  {
   "cell_type": "code",
   "execution_count": 39,
   "id": "f6e0d679",
   "metadata": {},
   "outputs": [
    {
     "data": {
      "text/html": [
       "<style>#sk-container-id-1 {color: black;background-color: white;}#sk-container-id-1 pre{padding: 0;}#sk-container-id-1 div.sk-toggleable {background-color: white;}#sk-container-id-1 label.sk-toggleable__label {cursor: pointer;display: block;width: 100%;margin-bottom: 0;padding: 0.3em;box-sizing: border-box;text-align: center;}#sk-container-id-1 label.sk-toggleable__label-arrow:before {content: \"▸\";float: left;margin-right: 0.25em;color: #696969;}#sk-container-id-1 label.sk-toggleable__label-arrow:hover:before {color: black;}#sk-container-id-1 div.sk-estimator:hover label.sk-toggleable__label-arrow:before {color: black;}#sk-container-id-1 div.sk-toggleable__content {max-height: 0;max-width: 0;overflow: hidden;text-align: left;background-color: #f0f8ff;}#sk-container-id-1 div.sk-toggleable__content pre {margin: 0.2em;color: black;border-radius: 0.25em;background-color: #f0f8ff;}#sk-container-id-1 input.sk-toggleable__control:checked~div.sk-toggleable__content {max-height: 200px;max-width: 100%;overflow: auto;}#sk-container-id-1 input.sk-toggleable__control:checked~label.sk-toggleable__label-arrow:before {content: \"▾\";}#sk-container-id-1 div.sk-estimator input.sk-toggleable__control:checked~label.sk-toggleable__label {background-color: #d4ebff;}#sk-container-id-1 div.sk-label input.sk-toggleable__control:checked~label.sk-toggleable__label {background-color: #d4ebff;}#sk-container-id-1 input.sk-hidden--visually {border: 0;clip: rect(1px 1px 1px 1px);clip: rect(1px, 1px, 1px, 1px);height: 1px;margin: -1px;overflow: hidden;padding: 0;position: absolute;width: 1px;}#sk-container-id-1 div.sk-estimator {font-family: monospace;background-color: #f0f8ff;border: 1px dotted black;border-radius: 0.25em;box-sizing: border-box;margin-bottom: 0.5em;}#sk-container-id-1 div.sk-estimator:hover {background-color: #d4ebff;}#sk-container-id-1 div.sk-parallel-item::after {content: \"\";width: 100%;border-bottom: 1px solid gray;flex-grow: 1;}#sk-container-id-1 div.sk-label:hover label.sk-toggleable__label {background-color: #d4ebff;}#sk-container-id-1 div.sk-serial::before {content: \"\";position: absolute;border-left: 1px solid gray;box-sizing: border-box;top: 0;bottom: 0;left: 50%;z-index: 0;}#sk-container-id-1 div.sk-serial {display: flex;flex-direction: column;align-items: center;background-color: white;padding-right: 0.2em;padding-left: 0.2em;position: relative;}#sk-container-id-1 div.sk-item {position: relative;z-index: 1;}#sk-container-id-1 div.sk-parallel {display: flex;align-items: stretch;justify-content: center;background-color: white;position: relative;}#sk-container-id-1 div.sk-item::before, #sk-container-id-1 div.sk-parallel-item::before {content: \"\";position: absolute;border-left: 1px solid gray;box-sizing: border-box;top: 0;bottom: 0;left: 50%;z-index: -1;}#sk-container-id-1 div.sk-parallel-item {display: flex;flex-direction: column;z-index: 1;position: relative;background-color: white;}#sk-container-id-1 div.sk-parallel-item:first-child::after {align-self: flex-end;width: 50%;}#sk-container-id-1 div.sk-parallel-item:last-child::after {align-self: flex-start;width: 50%;}#sk-container-id-1 div.sk-parallel-item:only-child::after {width: 0;}#sk-container-id-1 div.sk-dashed-wrapped {border: 1px dashed gray;margin: 0 0.4em 0.5em 0.4em;box-sizing: border-box;padding-bottom: 0.4em;background-color: white;}#sk-container-id-1 div.sk-label label {font-family: monospace;font-weight: bold;display: inline-block;line-height: 1.2em;}#sk-container-id-1 div.sk-label-container {text-align: center;}#sk-container-id-1 div.sk-container {/* jupyter's `normalize.less` sets `[hidden] { display: none; }` but bootstrap.min.css set `[hidden] { display: none !important; }` so we also need the `!important` here to be able to override the default hidden behavior on the sphinx rendered scikit-learn.org. See: https://github.com/scikit-learn/scikit-learn/issues/21755 */display: inline-block !important;position: relative;}#sk-container-id-1 div.sk-text-repr-fallback {display: none;}</style><div id=\"sk-container-id-1\" class=\"sk-top-container\"><div class=\"sk-text-repr-fallback\"><pre>GridSearchCV(estimator=RandomForestRegressor(),\n",
       "             param_grid=[{&#x27;max_depth&#x27;: [1, 3, 6, 10],\n",
       "                          &#x27;max_features&#x27;: [2, 3, 5, 7],\n",
       "                          &#x27;min_samples_split&#x27;: [5, 10, 15, 20, 50],\n",
       "                          &#x27;n_estimators&#x27;: [10, 50, 100, 200, 300, 500]}],\n",
       "             scoring=&#x27;r2&#x27;)</pre><b>In a Jupyter environment, please rerun this cell to show the HTML representation or trust the notebook. <br />On GitHub, the HTML representation is unable to render, please try loading this page with nbviewer.org.</b></div><div class=\"sk-container\" hidden><div class=\"sk-item sk-dashed-wrapped\"><div class=\"sk-label-container\"><div class=\"sk-label sk-toggleable\"><input class=\"sk-toggleable__control sk-hidden--visually\" id=\"sk-estimator-id-1\" type=\"checkbox\" ><label for=\"sk-estimator-id-1\" class=\"sk-toggleable__label sk-toggleable__label-arrow\">GridSearchCV</label><div class=\"sk-toggleable__content\"><pre>GridSearchCV(estimator=RandomForestRegressor(),\n",
       "             param_grid=[{&#x27;max_depth&#x27;: [1, 3, 6, 10],\n",
       "                          &#x27;max_features&#x27;: [2, 3, 5, 7],\n",
       "                          &#x27;min_samples_split&#x27;: [5, 10, 15, 20, 50],\n",
       "                          &#x27;n_estimators&#x27;: [10, 50, 100, 200, 300, 500]}],\n",
       "             scoring=&#x27;r2&#x27;)</pre></div></div></div><div class=\"sk-parallel\"><div class=\"sk-parallel-item\"><div class=\"sk-item\"><div class=\"sk-label-container\"><div class=\"sk-label sk-toggleable\"><input class=\"sk-toggleable__control sk-hidden--visually\" id=\"sk-estimator-id-2\" type=\"checkbox\" ><label for=\"sk-estimator-id-2\" class=\"sk-toggleable__label sk-toggleable__label-arrow\">estimator: RandomForestRegressor</label><div class=\"sk-toggleable__content\"><pre>RandomForestRegressor()</pre></div></div></div><div class=\"sk-serial\"><div class=\"sk-item\"><div class=\"sk-estimator sk-toggleable\"><input class=\"sk-toggleable__control sk-hidden--visually\" id=\"sk-estimator-id-3\" type=\"checkbox\" ><label for=\"sk-estimator-id-3\" class=\"sk-toggleable__label sk-toggleable__label-arrow\">RandomForestRegressor</label><div class=\"sk-toggleable__content\"><pre>RandomForestRegressor()</pre></div></div></div></div></div></div></div></div></div></div>"
      ],
      "text/plain": [
       "GridSearchCV(estimator=RandomForestRegressor(),\n",
       "             param_grid=[{'max_depth': [1, 3, 6, 10],\n",
       "                          'max_features': [2, 3, 5, 7],\n",
       "                          'min_samples_split': [5, 10, 15, 20, 50],\n",
       "                          'n_estimators': [10, 50, 100, 200, 300, 500]}],\n",
       "             scoring='r2')"
      ]
     },
     "execution_count": 39,
     "metadata": {},
     "output_type": "execute_result"
    }
   ],
   "source": [
    "grid_search.fit(X_train_tr, y_train)"
   ]
  },
  {
   "cell_type": "code",
   "execution_count": 40,
   "id": "6399d222",
   "metadata": {},
   "outputs": [
    {
     "name": "stdout",
     "output_type": "stream",
     "text": [
      "RandomForestRegressor(max_depth=10, max_features=7, min_samples_split=5,\n",
      "                      n_estimators=500)\n"
     ]
    }
   ],
   "source": [
    "best_model = grid_search.best_estimator_\n",
    "print(best_model)"
   ]
  },
  {
   "cell_type": "code",
   "execution_count": 41,
   "id": "bb733c54",
   "metadata": {},
   "outputs": [
    {
     "name": "stdout",
     "output_type": "stream",
     "text": [
      "{'max_depth': 10, 'max_features': 7, 'min_samples_split': 5, 'n_estimators': 500}\n"
     ]
    }
   ],
   "source": [
    "best_params = grid_search.best_params_\n",
    "print(best_params)"
   ]
  },
  {
   "cell_type": "code",
   "execution_count": 42,
   "id": "d5686ccd",
   "metadata": {},
   "outputs": [
    {
     "name": "stdout",
     "output_type": "stream",
     "text": [
      "87.56323677080516\n"
     ]
    }
   ],
   "source": [
    "acc = grid_search.best_score_ \n",
    "# neg_sq_error = grid_search.best_score_\n",
    "# error = np.sqrt(-neg_sq_error)\n",
    "print(acc*100)\n",
    "# print(error)"
   ]
  },
  {
   "cell_type": "code",
   "execution_count": null,
   "id": "7bd6ae8d",
   "metadata": {},
   "outputs": [],
   "source": []
  }
 ],
 "metadata": {
  "kernelspec": {
   "display_name": "Python 3 (ipykernel)",
   "language": "python",
   "name": "python3"
  },
  "language_info": {
   "codemirror_mode": {
    "name": "ipython",
    "version": 3
   },
   "file_extension": ".py",
   "mimetype": "text/x-python",
   "name": "python",
   "nbconvert_exporter": "python",
   "pygments_lexer": "ipython3",
   "version": "3.10.9"
  }
 },
 "nbformat": 4,
 "nbformat_minor": 5
}
