{
 "cells": [
  {
   "cell_type": "markdown",
   "id": "dba64bae",
   "metadata": {},
   "source": [
    "data structures in python - int, float, string, list, dictionary, tuple, set, frozenset\n",
    "\n",
    "operators \n",
    "\n",
    "if-else\n",
    "\n",
    "loop\n",
    "\n",
    "function\n",
    "\n",
    "oops\n",
    "\n",
    "exception handling\n",
    "\n",
    "modules\n"
   ]
  },
  {
   "cell_type": "markdown",
   "id": "5d4c1dc8",
   "metadata": {},
   "source": [
    "### Data Structures in Python"
   ]
  },
  {
   "cell_type": "markdown",
   "id": "392052d6",
   "metadata": {},
   "source": [
    "Numbers\n",
    "\n",
    "    int\n",
    "    float\n",
    "    complex\n",
    "    \n",
    "        mathematical operations on numbers"
   ]
  },
  {
   "cell_type": "code",
   "execution_count": 1,
   "id": "70748f74",
   "metadata": {},
   "outputs": [
    {
     "name": "stdout",
     "output_type": "stream",
     "text": [
      "12345 <class 'int'>\n"
     ]
    }
   ],
   "source": [
    "x = 12345\n",
    "print(x, type(x))"
   ]
  },
  {
   "cell_type": "code",
   "execution_count": 2,
   "id": "50a699cf",
   "metadata": {},
   "outputs": [
    {
     "name": "stdout",
     "output_type": "stream",
     "text": [
      "61.6\n",
      "50.4\n",
      "313.59999999999997\n"
     ]
    }
   ],
   "source": [
    "x = 56\n",
    "y = 5.6\n",
    "\n",
    "print(x+y)\n",
    "print(x-y)\n",
    "print(x*y)"
   ]
  },
  {
   "cell_type": "markdown",
   "id": "a96e7fae",
   "metadata": {},
   "source": [
    "#### division operator\n",
    "\n",
    "\n",
    "    /   - true division   --> float value \n",
    "    \n",
    "    //  - floor division   --> integer value (int division)"
   ]
  },
  {
   "cell_type": "code",
   "execution_count": 5,
   "id": "76b1b0e6",
   "metadata": {},
   "outputs": [
    {
     "name": "stdout",
     "output_type": "stream",
     "text": [
      "3.142857142857143\n",
      "3\n",
      "3\n"
     ]
    }
   ],
   "source": [
    "x = 22\n",
    "y = 7\n",
    "\n",
    "r1 = x / y\n",
    "print(r1)\n",
    "print(int(x/y)) # floor -> integer value less than actual value\n",
    "# floor value of 3.9 is 3 and floor value 4.1 is also 4\n",
    "\n",
    "r2 = x // y\n",
    "print(r2)"
   ]
  },
  {
   "cell_type": "markdown",
   "id": "3d3ecbbc",
   "metadata": {},
   "source": [
    "**  - exponent operator / power oprator\n",
    "\n",
    "$2^8 = 2**8$"
   ]
  },
  {
   "cell_type": "code",
   "execution_count": 6,
   "id": "4690a802",
   "metadata": {},
   "outputs": [
    {
     "name": "stdout",
     "output_type": "stream",
     "text": [
      "256\n"
     ]
    }
   ],
   "source": [
    "value = 2 ** 8\n",
    "print(value)"
   ]
  },
  {
   "cell_type": "code",
   "execution_count": 7,
   "id": "0404d072",
   "metadata": {},
   "outputs": [
    {
     "name": "stdout",
     "output_type": "stream",
     "text": [
      "13.0\n"
     ]
    }
   ],
   "source": [
    "value = 169 ** (1/2)\n",
    "print(value)"
   ]
  },
  {
   "cell_type": "code",
   "execution_count": 8,
   "id": "c47cc3c1",
   "metadata": {},
   "outputs": [
    {
     "name": "stdout",
     "output_type": "stream",
     "text": [
      "6.999999999999999\n"
     ]
    }
   ],
   "source": [
    "value = 343 ** (1/3)\n",
    "print(value)"
   ]
  },
  {
   "cell_type": "code",
   "execution_count": 9,
   "id": "a3724ef9",
   "metadata": {},
   "outputs": [
    {
     "name": "stdout",
     "output_type": "stream",
     "text": [
      "300000000\n"
     ]
    }
   ],
   "source": [
    "c = 3*10**8\n",
    "print(c)"
   ]
  },
  {
   "cell_type": "code",
   "execution_count": 10,
   "id": "959e3233",
   "metadata": {},
   "outputs": [
    {
     "name": "stdout",
     "output_type": "stream",
     "text": [
      "300000000.0\n"
     ]
    }
   ],
   "source": [
    "c = 3e8\n",
    "print(c)"
   ]
  },
  {
   "cell_type": "code",
   "execution_count": 11,
   "id": "da753965",
   "metadata": {},
   "outputs": [
    {
     "name": "stdout",
     "output_type": "stream",
     "text": [
      "0.03\n"
     ]
    }
   ],
   "source": [
    "c = 3e-2 # 3*10**(-2)\n",
    "print(c)"
   ]
  },
  {
   "cell_type": "markdown",
   "id": "83fe0da0",
   "metadata": {},
   "source": [
    "    0xDDDD -> hexadecimal --> Decimal\n",
    "    0bDDDD -> binary --> Decimal\n",
    "    0oDDDD -> octal --> Decimal\n",
    "    "
   ]
  },
  {
   "cell_type": "code",
   "execution_count": 12,
   "id": "ffe4346d",
   "metadata": {},
   "outputs": [
    {
     "name": "stdout",
     "output_type": "stream",
     "text": [
      "255\n"
     ]
    }
   ],
   "source": [
    "x = 0xff\n",
    "print(x)"
   ]
  },
  {
   "cell_type": "code",
   "execution_count": 13,
   "id": "d09dc71b",
   "metadata": {},
   "outputs": [
    {
     "name": "stdout",
     "output_type": "stream",
     "text": [
      "11\n"
     ]
    }
   ],
   "source": [
    "x = 0b1011\n",
    "print(x) # ? "
   ]
  },
  {
   "cell_type": "code",
   "execution_count": 14,
   "id": "29b410a3",
   "metadata": {},
   "outputs": [
    {
     "name": "stdout",
     "output_type": "stream",
     "text": [
      "6\n"
     ]
    }
   ],
   "source": [
    "ans = 33 % 9 # % modulas operator returns remainder value\n",
    "print(ans) # 6"
   ]
  },
  {
   "cell_type": "code",
   "execution_count": 15,
   "id": "6c2c1468",
   "metadata": {},
   "outputs": [
    {
     "name": "stdout",
     "output_type": "stream",
     "text": [
      "1\n"
     ]
    }
   ],
   "source": [
    "ans = 1 % 2\n",
    "print(ans) # "
   ]
  },
  {
   "cell_type": "code",
   "execution_count": 16,
   "id": "367632c2",
   "metadata": {},
   "outputs": [
    {
     "name": "stdout",
     "output_type": "stream",
     "text": [
      "5\n"
     ]
    }
   ],
   "source": [
    "ans = 5 % 17\n",
    "print(ans) # 5     small % big --> small"
   ]
  },
  {
   "cell_type": "markdown",
   "id": "451dd2f9",
   "metadata": {},
   "source": [
    "    +, -, *, /, %, **"
   ]
  },
  {
   "cell_type": "markdown",
   "id": "6f7254ac",
   "metadata": {},
   "source": [
    "#### Strings "
   ]
  },
  {
   "cell_type": "code",
   "execution_count": 17,
   "id": "58a48f94",
   "metadata": {},
   "outputs": [
    {
     "name": "stdout",
     "output_type": "stream",
     "text": [
      "Hello World! <class 'str'>\n"
     ]
    }
   ],
   "source": [
    "s = \"Hello World!\"\n",
    "print(s, type(s))"
   ]
  },
  {
   "cell_type": "code",
   "execution_count": 18,
   "id": "efc5a5ae",
   "metadata": {},
   "outputs": [
    {
     "name": "stdout",
     "output_type": "stream",
     "text": [
      "he said, \"she is beautiful\"\n"
     ]
    }
   ],
   "source": [
    "s = 'he said, \"she is beautiful\"'\n",
    "print(s)"
   ]
  },
  {
   "cell_type": "code",
   "execution_count": 19,
   "id": "fd9f487f",
   "metadata": {},
   "outputs": [],
   "source": [
    "s = \"\"\"\n",
    "To \n",
    "    The headmaster\n",
    "    _______________\n",
    "    \n",
    "Dear sir/ma'am\n",
    "    Due to some ___ I am unable to come to school for ___ days.\n",
    "    please grant me leave for ___ days.\n",
    "    \n",
    "    Thanks\n",
    "Your Student\n",
    "___________\n",
    "    \"\"\""
   ]
  },
  {
   "cell_type": "code",
   "execution_count": 20,
   "id": "b384765e",
   "metadata": {},
   "outputs": [
    {
     "name": "stdout",
     "output_type": "stream",
     "text": [
      "\n",
      "To \n",
      "    The headmaster\n",
      "    _______________\n",
      "    \n",
      "Dear sir/ma'am\n",
      "    Due to some ___ I am unable to come to school for ___ days.\n",
      "    please grant me leave for ___ days.\n",
      "    \n",
      "    Thanks\n",
      "Your Student\n",
      "___________\n",
      "    \n"
     ]
    }
   ],
   "source": [
    "print(s)"
   ]
  },
  {
   "cell_type": "code",
   "execution_count": 22,
   "id": "01a2b6f9",
   "metadata": {},
   "outputs": [],
   "source": [
    "# template\n",
    "app = \"\"\"\n",
    "To \n",
    "    The headmaster\n",
    "    {}\n",
    "    \n",
    "Dear sir/ma'am\n",
    "    Due to some {} I am unable to come to school for {} days.\n",
    "    please grant me leave for {} days.\n",
    "    \n",
    "    Thanks\n",
    "Your Student\n",
    "{}\n",
    "\"\"\""
   ]
  },
  {
   "cell_type": "code",
   "execution_count": 23,
   "id": "2a0815bd",
   "metadata": {},
   "outputs": [
    {
     "name": "stdout",
     "output_type": "stream",
     "text": [
      "Enter your name: Sachin Yadav\n",
      "School Name: Grras Solutions\n",
      "no of days: 3\n",
      "reason: High Fever\n",
      "\n",
      "To \n",
      "    The headmaster\n",
      "    Grras Solutions\n",
      "    \n",
      "Dear sir/ma'am\n",
      "    Due to some high fever I am unable to come to school for 3 days.\n",
      "    please grant me leave for 3 days.\n",
      "    \n",
      "    Thanks\n",
      "Your Student\n",
      "Sachin Yadav\n",
      "\n"
     ]
    }
   ],
   "source": [
    "name = input(\"Enter your name: \").strip().title()\n",
    "school = input(\"School Name: \").strip().title()\n",
    "days = int(input(\"no of days: \"))\n",
    "reason = input(\"reason: \").strip().lower()\n",
    "\n",
    "result = app.format(school, reason, days, days, name)\n",
    "print(result)"
   ]
  },
  {
   "cell_type": "code",
   "execution_count": 24,
   "id": "579be2c6",
   "metadata": {},
   "outputs": [],
   "source": [
    "s = 'a string \"double quotes\" inside string \\'okay single character\\''"
   ]
  },
  {
   "cell_type": "code",
   "execution_count": 25,
   "id": "46b6183e",
   "metadata": {},
   "outputs": [
    {
     "name": "stdout",
     "output_type": "stream",
     "text": [
      "a string \"double quotes\" inside string 'okay single character'\n"
     ]
    }
   ],
   "source": [
    "print(s)"
   ]
  },
  {
   "cell_type": "code",
   "execution_count": 27,
   "id": "05321c56",
   "metadata": {},
   "outputs": [
    {
     "name": "stdout",
     "output_type": "stream",
     "text": [
      "hello world!, \"this is awesome\"\n"
     ]
    }
   ],
   "source": [
    "s = \"hello world!, \\\"this is awesome\\\"\"\n",
    "print(s)"
   ]
  },
  {
   "cell_type": "code",
   "execution_count": 29,
   "id": "930b48cc",
   "metadata": {},
   "outputs": [
    {
     "name": "stdout",
     "output_type": "stream",
     "text": [
      "\\\n"
     ]
    }
   ],
   "source": [
    "print(\"\\\\\")"
   ]
  },
  {
   "cell_type": "markdown",
   "id": "5aedafea",
   "metadata": {},
   "source": [
    " \\ -> escape character\n",
    " \n",
    "     \\\", \\', \\\\ --> to inculde \\, ', \" inside a string\n",
    "     \n",
    "     \\n -> new line\n",
    "     \\t -> tab\n",
    "     \\u -> unicode characters"
   ]
  },
  {
   "cell_type": "code",
   "execution_count": 41,
   "id": "df478332",
   "metadata": {},
   "outputs": [
    {
     "name": "stdout",
     "output_type": "stream",
     "text": [
      "Hello\n",
      "\t\tWorld!\n"
     ]
    }
   ],
   "source": [
    "print(\"Hello\\n\\t\\tWorld!\")"
   ]
  },
  {
   "cell_type": "code",
   "execution_count": 31,
   "id": "c4c07b34",
   "metadata": {},
   "outputs": [
    {
     "name": "stdout",
     "output_type": "stream",
     "text": [
      "₹ rupees symbol in utf-8\n"
     ]
    }
   ],
   "source": [
    "print(\"\\u20B9 rupees symbol in utf-8\")"
   ]
  },
  {
   "cell_type": "code",
   "execution_count": 40,
   "id": "ddac0a84",
   "metadata": {},
   "outputs": [
    {
     "name": "stdout",
     "output_type": "stream",
     "text": [
      "Ｏ ठ π\n"
     ]
    }
   ],
   "source": [
    "print(\"\\uFF2F \\u0920 \\u03C0\")"
   ]
  },
  {
   "cell_type": "code",
   "execution_count": 42,
   "id": "5f68729e",
   "metadata": {},
   "outputs": [],
   "source": [
    "name = \"Rahul\"\n",
    "age = 45\n",
    "city = \"Delhi\"\n",
    "salary = 50000.0"
   ]
  },
  {
   "cell_type": "markdown",
   "id": "fb120cf2",
   "metadata": {},
   "source": [
    "# List\n",
    "\n",
    "    collection of items "
   ]
  },
  {
   "cell_type": "code",
   "execution_count": 43,
   "id": "14ebe996",
   "metadata": {},
   "outputs": [
    {
     "name": "stdout",
     "output_type": "stream",
     "text": [
      "['java', 'c', 'ruby', 'go', 'perl', 'c++'] <class 'list'>\n"
     ]
    }
   ],
   "source": [
    "names = [\"java\", \"c\", \"ruby\", \"go\", \"perl\", \"c++\"]\n",
    "print(names, type(names))"
   ]
  },
  {
   "cell_type": "code",
   "execution_count": 44,
   "id": "6d6620a6",
   "metadata": {},
   "outputs": [],
   "source": [
    "data = [\n",
    "    [\"Rahul\", 45, \"Delhi\", 50000.0],\n",
    "    [\"Seema\", 30, \"Jaipur\", 40000.0],\n",
    "]"
   ]
  },
  {
   "cell_type": "code",
   "execution_count": 45,
   "id": "d122da20",
   "metadata": {},
   "outputs": [
    {
     "name": "stdout",
     "output_type": "stream",
     "text": [
      "['java', 'c', 'ruby', 'go', 'perl', 'c++'] <class 'list'>\n"
     ]
    }
   ],
   "source": [
    "names = [\"java\", \"c\", \"ruby\", \"go\", \"perl\", \"c++\"]\n",
    "print(names, type(names))"
   ]
  },
  {
   "cell_type": "code",
   "execution_count": 46,
   "id": "0f86a4d8",
   "metadata": {},
   "outputs": [],
   "source": [
    "names.append(\"python\")"
   ]
  },
  {
   "cell_type": "code",
   "execution_count": 47,
   "id": "520b37f3",
   "metadata": {},
   "outputs": [
    {
     "name": "stdout",
     "output_type": "stream",
     "text": [
      "['java', 'c', 'ruby', 'go', 'perl', 'c++', 'python']\n"
     ]
    }
   ],
   "source": [
    "print(names)"
   ]
  },
  {
   "cell_type": "code",
   "execution_count": 48,
   "id": "7d21ffc1",
   "metadata": {},
   "outputs": [
    {
     "name": "stdout",
     "output_type": "stream",
     "text": [
      "['java', 'c', 'bash', 'ruby', 'go', 'perl', 'c++', 'python']\n"
     ]
    }
   ],
   "source": [
    "names.insert(2, \"bash\")\n",
    "print(names)"
   ]
  },
  {
   "cell_type": "code",
   "execution_count": 50,
   "id": "7f68111f",
   "metadata": {},
   "outputs": [],
   "source": [
    "names[3] = \"juila\""
   ]
  },
  {
   "cell_type": "code",
   "execution_count": 51,
   "id": "6ef1204b",
   "metadata": {},
   "outputs": [
    {
     "name": "stdout",
     "output_type": "stream",
     "text": [
      "['java', 'c', 'bash', 'juila', 'go', 'perl', 'c++', 'python']\n"
     ]
    }
   ],
   "source": [
    "print(names)"
   ]
  },
  {
   "cell_type": "code",
   "execution_count": 52,
   "id": "077ce1f9",
   "metadata": {},
   "outputs": [
    {
     "name": "stdout",
     "output_type": "stream",
     "text": [
      "['java', 'c', 'bash', 'juila', 'go', 'perl', 'c++']\n"
     ]
    }
   ],
   "source": [
    "item = names.pop()\n",
    "print(names)"
   ]
  },
  {
   "cell_type": "code",
   "execution_count": 53,
   "id": "20d89d0b",
   "metadata": {},
   "outputs": [
    {
     "ename": "IndexError",
     "evalue": "pop from empty list",
     "output_type": "error",
     "traceback": [
      "\u001b[1;31m---------------------------------------------------------------------------\u001b[0m",
      "\u001b[1;31mIndexError\u001b[0m                                Traceback (most recent call last)",
      "\u001b[1;32m~\\AppData\\Local\\Temp\\ipykernel_17764\\1627197195.py\u001b[0m in \u001b[0;36m<module>\u001b[1;34m\u001b[0m\n\u001b[0;32m      1\u001b[0m \u001b[0mx\u001b[0m \u001b[1;33m=\u001b[0m \u001b[1;33m[\u001b[0m\u001b[1;33m]\u001b[0m\u001b[1;33m\u001b[0m\u001b[1;33m\u001b[0m\u001b[0m\n\u001b[1;32m----> 2\u001b[1;33m \u001b[0mx\u001b[0m\u001b[1;33m.\u001b[0m\u001b[0mpop\u001b[0m\u001b[1;33m(\u001b[0m\u001b[1;33m)\u001b[0m \u001b[1;31m# ?\u001b[0m\u001b[1;33m\u001b[0m\u001b[1;33m\u001b[0m\u001b[0m\n\u001b[0m\u001b[0;32m      3\u001b[0m \u001b[0mprint\u001b[0m\u001b[1;33m(\u001b[0m\u001b[0mx\u001b[0m\u001b[1;33m)\u001b[0m\u001b[1;33m\u001b[0m\u001b[1;33m\u001b[0m\u001b[0m\n",
      "\u001b[1;31mIndexError\u001b[0m: pop from empty list"
     ]
    }
   ],
   "source": [
    "x = []\n",
    "x.pop() # ? \n",
    "print(x)"
   ]
  },
  {
   "cell_type": "code",
   "execution_count": 54,
   "id": "c1b23bf8",
   "metadata": {},
   "outputs": [
    {
     "data": {
      "text/plain": [
       "['java', 'c', 'bash', 'juila', 'go', 'perl', 'c++']"
      ]
     },
     "execution_count": 54,
     "metadata": {},
     "output_type": "execute_result"
    }
   ],
   "source": [
    "names"
   ]
  },
  {
   "cell_type": "code",
   "execution_count": 55,
   "id": "24e7bf79",
   "metadata": {},
   "outputs": [],
   "source": [
    "names.sort()"
   ]
  },
  {
   "cell_type": "code",
   "execution_count": 56,
   "id": "1703aae4",
   "metadata": {},
   "outputs": [
    {
     "name": "stdout",
     "output_type": "stream",
     "text": [
      "['bash', 'c', 'c++', 'go', 'java', 'juila', 'perl']\n"
     ]
    }
   ],
   "source": [
    "print(names)"
   ]
  },
  {
   "cell_type": "markdown",
   "id": "0d62efaf",
   "metadata": {},
   "source": [
    "#### Dictionary \n",
    "    \n",
    "    hash map object\n",
    "    \n",
    "    dictionary is kind representation of an object in computer \n",
    "    \n",
    "    mutable \n",
    "    \n",
    "    unordered "
   ]
  },
  {
   "cell_type": "code",
   "execution_count": 60,
   "id": "b35a3670",
   "metadata": {},
   "outputs": [],
   "source": [
    "nano = {\n",
    "    \"company\": \"Tata\",\n",
    "    \"model\": \"nano\",\n",
    "    \"engine CC\": 1000,\n",
    "    \"width\": 2500,\n",
    "    \"length\": 4000,\n",
    "    \"weight\": 2000,\n",
    "    \"top speed\": 80,\n",
    "    \"fuel type\": [\"petorl\"]\n",
    "}"
   ]
  },
  {
   "cell_type": "code",
   "execution_count": 61,
   "id": "f0795824",
   "metadata": {},
   "outputs": [],
   "source": [
    "harrier = {\n",
    "    \"company\": \"Tata\",\n",
    "    \"model\": \"Harrier\",\n",
    "    \"engine CC\": 2000,\n",
    "    \"enginer type\": \"turbo\",\n",
    "    \"fuel type\": [\"disel\"],\n",
    "    \"width\": 3500,\n",
    "    \"length\": 5000,\n",
    "    \"weight\": 3500,\n",
    "    \"top speed\": 140\n",
    "}"
   ]
  },
  {
   "cell_type": "code",
   "execution_count": 63,
   "id": "97dca7f6",
   "metadata": {},
   "outputs": [],
   "source": [
    "from pprint import pprint"
   ]
  },
  {
   "cell_type": "code",
   "execution_count": 64,
   "id": "4df6fc62",
   "metadata": {},
   "outputs": [
    {
     "name": "stdout",
     "output_type": "stream",
     "text": [
      "{'company': 'Tata',\n",
      " 'engine CC': 1000,\n",
      " 'fuel type': ['petorl'],\n",
      " 'length': 4000,\n",
      " 'model': 'nano',\n",
      " 'top speed': 80,\n",
      " 'weight': 2000,\n",
      " 'width': 2500}\n"
     ]
    }
   ],
   "source": [
    "pprint(nano)"
   ]
  },
  {
   "cell_type": "code",
   "execution_count": 65,
   "id": "161e7086",
   "metadata": {},
   "outputs": [
    {
     "name": "stdout",
     "output_type": "stream",
     "text": [
      "{'company': 'Tata',\n",
      " 'engine CC': 2000,\n",
      " 'enginer type': 'turbo',\n",
      " 'fuel type': ['disel'],\n",
      " 'length': 5000,\n",
      " 'model': 'Harrier',\n",
      " 'top speed': 140,\n",
      " 'weight': 3500,\n",
      " 'width': 3500}\n"
     ]
    }
   ],
   "source": [
    "pprint(harrier)"
   ]
  },
  {
   "cell_type": "code",
   "execution_count": 66,
   "id": "638524d3",
   "metadata": {},
   "outputs": [
    {
     "data": {
      "text/plain": [
       "{'company': 'Tata',\n",
       " 'model': 'nano',\n",
       " 'engine CC': 1000,\n",
       " 'width': 2500,\n",
       " 'length': 4000,\n",
       " 'weight': 2000,\n",
       " 'top speed': 80,\n",
       " 'fuel type': ['petorl']}"
      ]
     },
     "execution_count": 66,
     "metadata": {},
     "output_type": "execute_result"
    }
   ],
   "source": [
    "nano"
   ]
  },
  {
   "cell_type": "code",
   "execution_count": 70,
   "id": "840c7671",
   "metadata": {},
   "outputs": [
    {
     "name": "stdout",
     "output_type": "stream",
     "text": [
      "nano 1000 cc\n",
      "Harrier 2000 cc\n"
     ]
    }
   ],
   "source": [
    "print(nano[\"model\"], nano[\"engine CC\"], \"cc\")\n",
    "print(harrier[\"model\"], harrier[\"engine CC\"], \"cc\")"
   ]
  },
  {
   "cell_type": "code",
   "execution_count": 71,
   "id": "dcc9a6ee",
   "metadata": {},
   "outputs": [
    {
     "data": {
      "text/plain": [
       "{'company': 'Tata',\n",
       " 'model': 'nano',\n",
       " 'engine CC': 1000,\n",
       " 'width': 2500,\n",
       " 'length': 4000,\n",
       " 'weight': 2000,\n",
       " 'top speed': 80,\n",
       " 'fuel type': ['petorl']}"
      ]
     },
     "execution_count": 71,
     "metadata": {},
     "output_type": "execute_result"
    }
   ],
   "source": [
    "nano"
   ]
  },
  {
   "cell_type": "code",
   "execution_count": 72,
   "id": "eb72f082",
   "metadata": {},
   "outputs": [
    {
     "name": "stdout",
     "output_type": "stream",
     "text": [
      "80\n"
     ]
    }
   ],
   "source": [
    "print(nano[\"top speed\"])"
   ]
  },
  {
   "cell_type": "code",
   "execution_count": 75,
   "id": "b9269d97",
   "metadata": {},
   "outputs": [
    {
     "name": "stdout",
     "output_type": "stream",
     "text": [
      "30\n"
     ]
    }
   ],
   "source": [
    "x = 10\n",
    "\n",
    "x += 20 # x = x + 20\n",
    "print(x)\n",
    "\n",
    "# nano[\"top speed\"] += 20\n",
    "# nano[\"top speed\"] = nano[\"top speed\"] + 20"
   ]
  },
  {
   "cell_type": "code",
   "execution_count": null,
   "id": "8aa92849",
   "metadata": {},
   "outputs": [],
   "source": []
  },
  {
   "cell_type": "code",
   "execution_count": 78,
   "id": "40d059e2",
   "metadata": {},
   "outputs": [
    {
     "name": "stdout",
     "output_type": "stream",
     "text": [
      "{'company': 'Tata',\n",
      " 'engine CC': 1000,\n",
      " 'fuel type': ['petorl'],\n",
      " 'length': 4000,\n",
      " 'model': 'nano',\n",
      " 'top speed': 140,\n",
      " 'weight': 2000,\n",
      " 'width': 2500}\n"
     ]
    }
   ],
   "source": [
    "nano[\"top speed\"] += 20\n",
    "pprint(nano)"
   ]
  },
  {
   "cell_type": "code",
   "execution_count": 79,
   "id": "3c53bdb9",
   "metadata": {},
   "outputs": [],
   "source": [
    "data = [\n",
    "    [\"Rahul\", 80, 90, 70],\n",
    "    [\"Ranjeet\", 80, 79, 77],\n",
    "    [\"siya\", 56, 78, 59],\n",
    "    [\"natasha\", 80, 78, 76],\n",
    "    [\"harry\", 80, 90, 10]\n",
    "]\n",
    "\n",
    "\n",
    "\n",
    "\n"
   ]
  },
  {
   "cell_type": "code",
   "execution_count": 81,
   "id": "d065462d",
   "metadata": {},
   "outputs": [
    {
     "name": "stdout",
     "output_type": "stream",
     "text": [
      "[['Rahul', 80, 90, 70], ['Ranjeet', 80, 79, 77], ['siya', 56, 78, 59], ['natasha', 80, 78, 76], ['harry', 80, 90, 10]]\n"
     ]
    }
   ],
   "source": [
    "print(data)"
   ]
  },
  {
   "cell_type": "code",
   "execution_count": 82,
   "id": "36d6305b",
   "metadata": {},
   "outputs": [],
   "source": [
    "from pprint import pprint\n",
    "# pretty print"
   ]
  },
  {
   "cell_type": "code",
   "execution_count": 83,
   "id": "4cd5e37d",
   "metadata": {},
   "outputs": [
    {
     "name": "stdout",
     "output_type": "stream",
     "text": [
      "[['Rahul', 80, 90, 70],\n",
      " ['Ranjeet', 80, 79, 77],\n",
      " ['siya', 56, 78, 59],\n",
      " ['natasha', 80, 78, 76],\n",
      " ['harry', 80, 90, 10]]\n"
     ]
    }
   ],
   "source": [
    "pprint(data)"
   ]
  },
  {
   "cell_type": "markdown",
   "id": "ffd2324e",
   "metadata": {},
   "source": [
    "Library Management application \n",
    "\n",
    "\n",
    "    title           author       isbn       price  quantity  section\n",
    "    \n",
    "    wings on fire   APJ Kalam    ABCD1234   200       20        G-1\n",
    "    awsome python   Guido Van    XYZP2343   500       100       CS-2\n",
    "    ..."
   ]
  },
  {
   "cell_type": "code",
   "execution_count": 84,
   "id": "0175a844",
   "metadata": {},
   "outputs": [],
   "source": [
    "books = [\n",
    "    [\"wings on fire\", \"APJ Kalam\", \"ABCD1234\", 200, 20, \"G-1\"],\n",
    "    [\"awesome python\", \"Guido Van Rossum\", \"XYZP2343\", 500, 100, \"CS-2\"],\n",
    "    # ...\n",
    "]"
   ]
  },
  {
   "cell_type": "code",
   "execution_count": 85,
   "id": "4c4c5d12",
   "metadata": {},
   "outputs": [],
   "source": [
    "new_book = [\"hands on ML\", \"sachin\", \"QWERY123\", 5000, 20, \"CS-4\"]\n",
    "books.append(new_book)"
   ]
  },
  {
   "cell_type": "code",
   "execution_count": 86,
   "id": "c6c848de",
   "metadata": {},
   "outputs": [
    {
     "name": "stdout",
     "output_type": "stream",
     "text": [
      "[['wings on fire', 'APJ Kalam', 'ABCD1234', 200, 20, 'G-1'],\n",
      " ['awesome python', 'Guido Van Rossum', 'XYZP2343', 500, 100, 'CS-2'],\n",
      " ['hands on ML', 'sachin', 'QWERY123', 5000, 20, 'CS-4']]\n"
     ]
    }
   ],
   "source": [
    "pprint(books)"
   ]
  },
  {
   "cell_type": "code",
   "execution_count": 89,
   "id": "430d6d5c",
   "metadata": {},
   "outputs": [],
   "source": [
    "books[0][4] += 30"
   ]
  },
  {
   "cell_type": "code",
   "execution_count": 90,
   "id": "2315f59b",
   "metadata": {},
   "outputs": [
    {
     "name": "stdout",
     "output_type": "stream",
     "text": [
      "[['wings on fire', 'APJ Kalam', 'ABCD1234', 200, 50, 'G-1'],\n",
      " ['awesome python', 'Guido Van Rossum', 'XYZP2343', 500, 100, 'CS-2'],\n",
      " ['hands on ML', 'sachin', 'QWERY123', 5000, 20, 'CS-4']]\n"
     ]
    }
   ],
   "source": [
    "pprint(books)"
   ]
  },
  {
   "cell_type": "markdown",
   "id": "15457cf5",
   "metadata": {},
   "source": [
    "Library Management application \n",
    "\n",
    "\n",
    "    title           author       isbn       price  quantity  section\n",
    "    \n",
    "    wings on fire   APJ Kalam    ABCD1234   200       20        G-1\n",
    "    awsome python   Guido Van    XYZP2343   500       100       CS-2\n",
    "    ..."
   ]
  },
  {
   "cell_type": "code",
   "execution_count": 91,
   "id": "1366aea5",
   "metadata": {},
   "outputs": [],
   "source": [
    "data = [\n",
    "    {\"title\": \"wings on fire\", \"author\": \"APJ Kalam\", \"isbn\": \"ABCD1234\",\n",
    "     \"price\": 200, \"quantity\": 20, \"section\": \"G-1\"},\n",
    "    {\"title\": \"awesome python\", \"author\": \"Guido Van Rossum\", \"isbn\": \"XYZP2343\",\n",
    "    \"price\": 500, \"quantity\": 100, \"section\": \"CS-2\"}\n",
    "]"
   ]
  },
  {
   "cell_type": "code",
   "execution_count": 92,
   "id": "46be8292",
   "metadata": {},
   "outputs": [],
   "source": [
    "record = {\"title\": \"Hands on ML\", \"author\": \"sachin\", \"isbn\": \"QWERTY123\", \n",
    "         \"price\": 5000, \"quantity\": 25}\n",
    "data.append(record)"
   ]
  },
  {
   "cell_type": "code",
   "execution_count": 93,
   "id": "6a18a275",
   "metadata": {},
   "outputs": [
    {
     "name": "stdout",
     "output_type": "stream",
     "text": [
      "[{'author': 'APJ Kalam',\n",
      "  'isbn': 'ABCD1234',\n",
      "  'price': 200,\n",
      "  'quantity': 20,\n",
      "  'section': 'G-1',\n",
      "  'title': 'wings on fire'},\n",
      " {'author': 'Guido Van Rossum',\n",
      "  'isbn': 'XYZP2343',\n",
      "  'price': 500,\n",
      "  'quantity': 100,\n",
      "  'section': 'CS-2',\n",
      "  'title': 'awesome python'},\n",
      " {'author': 'sachin',\n",
      "  'isbn': 'QWERTY123',\n",
      "  'price': 5000,\n",
      "  'quantity': 25,\n",
      "  'title': 'Hands on ML'}]\n"
     ]
    }
   ],
   "source": [
    "pprint(data)"
   ]
  },
  {
   "cell_type": "code",
   "execution_count": 95,
   "id": "fbfab4c0",
   "metadata": {},
   "outputs": [],
   "source": [
    "data[0][\"quantity\"] += 30"
   ]
  },
  {
   "cell_type": "code",
   "execution_count": 96,
   "id": "dac4ab51",
   "metadata": {},
   "outputs": [
    {
     "name": "stdout",
     "output_type": "stream",
     "text": [
      "[{'author': 'APJ Kalam',\n",
      "  'isbn': 'ABCD1234',\n",
      "  'price': 200,\n",
      "  'quantity': 50,\n",
      "  'section': 'G-1',\n",
      "  'title': 'wings on fire'},\n",
      " {'author': 'Guido Van Rossum',\n",
      "  'isbn': 'XYZP2343',\n",
      "  'price': 500,\n",
      "  'quantity': 100,\n",
      "  'section': 'CS-2',\n",
      "  'title': 'awesome python'},\n",
      " {'author': 'sachin',\n",
      "  'isbn': 'QWERTY123',\n",
      "  'price': 5000,\n",
      "  'quantity': 25,\n",
      "  'title': 'Hands on ML'}]\n"
     ]
    }
   ],
   "source": [
    "pprint(data)"
   ]
  },
  {
   "cell_type": "code",
   "execution_count": null,
   "id": "7257745e",
   "metadata": {},
   "outputs": [],
   "source": [
    "data = {\n",
    "    \"G-1\": [\n",
    "        {\"title\": \"wings on fire\"}\n",
    "    ],\n",
    "    \"CS-1\": [\n",
    "        {}\n",
    "    ]\n",
    "}"
   ]
  },
  {
   "cell_type": "code",
   "execution_count": null,
   "id": "ccd88563",
   "metadata": {},
   "outputs": [],
   "source": []
  },
  {
   "cell_type": "code",
   "execution_count": 97,
   "id": "cf89794b",
   "metadata": {},
   "outputs": [],
   "source": [
    "data = {\n",
    "    \"name\": \"sachin\",\n",
    "    \"age\": 27\n",
    "}"
   ]
  },
  {
   "cell_type": "code",
   "execution_count": 98,
   "id": "326e771a",
   "metadata": {},
   "outputs": [],
   "source": [
    "data[\"city\"] = \"jaipur\"\n",
    "data[\"profession\"] = \"data scientist\""
   ]
  },
  {
   "cell_type": "code",
   "execution_count": 99,
   "id": "37449ee8",
   "metadata": {},
   "outputs": [
    {
     "name": "stdout",
     "output_type": "stream",
     "text": [
      "{'name': 'sachin', 'age': 27, 'city': 'jaipur', 'profession': 'data scientist'}\n"
     ]
    }
   ],
   "source": [
    "print(data)"
   ]
  },
  {
   "cell_type": "code",
   "execution_count": 100,
   "id": "340a9c79",
   "metadata": {},
   "outputs": [],
   "source": [
    "data[\"name\"] = \"sachin yadav\""
   ]
  },
  {
   "cell_type": "code",
   "execution_count": 101,
   "id": "1942238d",
   "metadata": {},
   "outputs": [
    {
     "name": "stdout",
     "output_type": "stream",
     "text": [
      "{'name': 'sachin yadav', 'age': 27, 'city': 'jaipur', 'profession': 'data scientist'}\n"
     ]
    }
   ],
   "source": [
    "print(data)"
   ]
  },
  {
   "cell_type": "code",
   "execution_count": 102,
   "id": "8d138e64",
   "metadata": {},
   "outputs": [],
   "source": [
    "del data[\"profession\"]"
   ]
  },
  {
   "cell_type": "code",
   "execution_count": 103,
   "id": "b54f225a",
   "metadata": {},
   "outputs": [
    {
     "name": "stdout",
     "output_type": "stream",
     "text": [
      "{'name': 'sachin yadav', 'age': 27, 'city': 'jaipur'}\n"
     ]
    }
   ],
   "source": [
    "print(data)"
   ]
  },
  {
   "cell_type": "markdown",
   "id": "271d76c2",
   "metadata": {},
   "source": [
    "#### lists, dictionary, strings, numbers\n",
    "\n",
    "#### if-else, loop, functions\n",
    "\n",
    "#### stats\n"
   ]
  },
  {
   "cell_type": "markdown",
   "id": "3050e1c1",
   "metadata": {},
   "source": [
    "    any query ? "
   ]
  },
  {
   "cell_type": "code",
   "execution_count": null,
   "id": "6140c41c",
   "metadata": {},
   "outputs": [],
   "source": []
  }
 ],
 "metadata": {
  "kernelspec": {
   "display_name": "Python 3 (ipykernel)",
   "language": "python",
   "name": "python3"
  },
  "language_info": {
   "codemirror_mode": {
    "name": "ipython",
    "version": 3
   },
   "file_extension": ".py",
   "mimetype": "text/x-python",
   "name": "python",
   "nbconvert_exporter": "python",
   "pygments_lexer": "ipython3",
   "version": "3.10.9"
  }
 },
 "nbformat": 4,
 "nbformat_minor": 5
}
