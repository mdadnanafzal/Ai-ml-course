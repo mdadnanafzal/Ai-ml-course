{
 "cells": [
  {
   "cell_type": "code",
   "execution_count": 1,
   "id": "b3cb9ab1",
   "metadata": {},
   "outputs": [],
   "source": [
    "import numpy as np"
   ]
  },
  {
   "cell_type": "code",
   "execution_count": 2,
   "id": "00cc62d4",
   "metadata": {},
   "outputs": [
    {
     "name": "stdout",
     "output_type": "stream",
     "text": [
      "[[[16 20 28]\n",
      "  [20 28 27]]\n",
      "\n",
      " [[12 21 10]\n",
      "  [12 19 10]]\n",
      "\n",
      " [[20 14 29]\n",
      "  [15 24 28]]]\n"
     ]
    }
   ],
   "source": [
    "arr = np.random.randint(10, 30, (3,2,3))\n",
    "print(arr)"
   ]
  },
  {
   "cell_type": "code",
   "execution_count": 3,
   "id": "761ec090",
   "metadata": {},
   "outputs": [
    {
     "name": "stdout",
     "output_type": "stream",
     "text": [
      "(3, 2, 3)\n",
      "18\n"
     ]
    }
   ],
   "source": [
    "print(arr.shape)\n",
    "print(arr.size)"
   ]
  },
  {
   "cell_type": "code",
   "execution_count": 22,
   "id": "eea7a162",
   "metadata": {},
   "outputs": [
    {
     "data": {
      "text/plain": [
       "array([[[16, 20, 28],\n",
       "        [20, 28, 27]],\n",
       "\n",
       "       [[12, 21, 10],\n",
       "        [12, 19, 10]],\n",
       "\n",
       "       [[20, 14, 29],\n",
       "        [15, 24, 28]]])"
      ]
     },
     "execution_count": 22,
     "metadata": {},
     "output_type": "execute_result"
    }
   ],
   "source": [
    "arr[::1]"
   ]
  },
  {
   "cell_type": "code",
   "execution_count": 26,
   "id": "b18dbe2c",
   "metadata": {
    "scrolled": true
   },
   "outputs": [
    {
     "data": {
      "text/plain": [
       "array([[[16, 28],\n",
       "        [20, 27]],\n",
       "\n",
       "       [[20, 29],\n",
       "        [15, 28]]])"
      ]
     },
     "execution_count": 26,
     "metadata": {},
     "output_type": "execute_result"
    }
   ],
   "source": [
    "arr[::2, ::1, ::2]"
   ]
  },
  {
   "cell_type": "markdown",
   "id": "cfaadcb1",
   "metadata": {},
   "source": [
    "####Array creation method\n",
    "    np.array(seq)\n",
    "    np.arange(start, end, step)\n",
    "    np.linspace(start,end, n)\n",
    "    np.random.randint(start, end, n)"
   ]
  },
  {
   "cell_type": "markdown",
   "id": "d26e217f",
   "metadata": {},
   "source": [
    "array re_shape"
   ]
  },
  {
   "cell_type": "code",
   "execution_count": 40,
   "id": "983bd1bc",
   "metadata": {},
   "outputs": [
    {
     "name": "stdout",
     "output_type": "stream",
     "text": [
      "[ 1  2  3  4  5  6  7  8  9 10 11 12]\n",
      "(12,)\n"
     ]
    },
    {
     "data": {
      "text/plain": [
       "array([[ 1,  2,  3],\n",
       "       [ 4,  5,  6],\n",
       "       [ 7,  8,  9],\n",
       "       [10, 11, 12]])"
      ]
     },
     "execution_count": 40,
     "metadata": {},
     "output_type": "execute_result"
    }
   ],
   "source": [
    "a = np.array([1, 2, 3, 4, 5, 6, 7, 8, 9, 10, 11, 12])\n",
    "print(a)\n",
    "print(a.shape)\n",
    "a.reshape((4,3))"
   ]
  },
  {
   "cell_type": "code",
   "execution_count": 41,
   "id": "385616fc",
   "metadata": {},
   "outputs": [
    {
     "data": {
      "text/plain": [
       "array([[ 1,  2],\n",
       "       [ 3,  4],\n",
       "       [ 5,  6],\n",
       "       [ 7,  8],\n",
       "       [ 9, 10],\n",
       "       [11, 12]])"
      ]
     },
     "execution_count": 41,
     "metadata": {},
     "output_type": "execute_result"
    }
   ],
   "source": [
    "a.reshape(6, 2)"
   ]
  },
  {
   "cell_type": "code",
   "execution_count": 42,
   "id": "79df32e5",
   "metadata": {},
   "outputs": [
    {
     "name": "stdout",
     "output_type": "stream",
     "text": [
      "[[ 1  2  3  4  5  6]\n",
      " [ 7  8  9 10 11 12]]\n"
     ]
    }
   ],
   "source": [
    "b = a.reshape(2, 6)\n",
    "# view of original array if any change is made in b then the change will be made in the original array\n",
    "print(b)"
   ]
  },
  {
   "cell_type": "code",
   "execution_count": 44,
   "id": "d9b8cb7e",
   "metadata": {},
   "outputs": [
    {
     "name": "stdout",
     "output_type": "stream",
     "text": [
      "[[100   2   3   4   5   6]\n",
      " [  7   8   9  10  11  12]]\n",
      "[ 1  2  3  4  5  6  7  8  9 10 11 12]\n"
     ]
    }
   ],
   "source": [
    "# we can use the copy function if we don't want any other variable to change the original array\n",
    "c = a.reshape(2, 6).copy()\n",
    "c[0, 0] = 100\n",
    "print(c)\n",
    "print(a)  # will not change in the original array i.e array a"
   ]
  },
  {
   "cell_type": "code",
   "execution_count": 45,
   "id": "7ccaf32d",
   "metadata": {},
   "outputs": [
    {
     "name": "stdout",
     "output_type": "stream",
     "text": [
      "[[ 1  2  3  4]\n",
      " [ 5  6  7  8]\n",
      " [ 9 10 11 12]]\n"
     ]
    }
   ],
   "source": [
    "a = a.reshape(-1, 4)  # py automatically calculates the total no of rows if there needs to be 4 cols\n",
    "print(a)"
   ]
  },
  {
   "cell_type": "code",
   "execution_count": 46,
   "id": "13b5577c",
   "metadata": {},
   "outputs": [
    {
     "name": "stdout",
     "output_type": "stream",
     "text": [
      "[[ 1  2]\n",
      " [ 3  4]\n",
      " [ 5  6]\n",
      " [ 7  8]\n",
      " [ 9 10]\n",
      " [11 12]]\n"
     ]
    }
   ],
   "source": [
    "a = a.reshape(6, -1)  # py automatically calculates the total no of cols of there were 6 rows\n",
    "print(a)"
   ]
  },
  {
   "cell_type": "code",
   "execution_count": 52,
   "id": "e712fa1b",
   "metadata": {},
   "outputs": [
    {
     "name": "stdout",
     "output_type": "stream",
     "text": [
      "[[[ 1  2]\n",
      "  [ 3  4]]\n",
      "\n",
      " [[ 5  6]\n",
      "  [ 7  8]]\n",
      "\n",
      " [[ 9 10]\n",
      "  [11 12]]]\n"
     ]
    }
   ],
   "source": [
    "a = a.reshape(3, 2, 2)\n",
    "print(a)"
   ]
  },
  {
   "cell_type": "code",
   "execution_count": 53,
   "id": "e24676e5",
   "metadata": {},
   "outputs": [
    {
     "name": "stdout",
     "output_type": "stream",
     "text": [
      "[ 1  2  3  4  5  6  7  8  9 10 11 12]\n"
     ]
    }
   ],
   "source": [
    "a = a.flatten()  # flatten function converts the array into 1d array from 3d or 2d array\n",
    "print(a)"
   ]
  },
  {
   "cell_type": "markdown",
   "id": "0ca03fd1",
   "metadata": {},
   "source": [
    "#### conversion of 1d array to 2d array using the same 1d array"
   ]
  },
  {
   "cell_type": "code",
   "execution_count": 54,
   "id": "7a449471",
   "metadata": {},
   "outputs": [
    {
     "name": "stdout",
     "output_type": "stream",
     "text": [
      "[[ 1  2  3  4  5  6  7  8  9 10 11 12]]\n"
     ]
    }
   ],
   "source": [
    "arr1 = a[np.newaxis, :]  # adds a new row by reading the col value\n",
    "print(arr1)"
   ]
  },
  {
   "cell_type": "code",
   "execution_count": 55,
   "id": "a9eab48b",
   "metadata": {},
   "outputs": [
    {
     "name": "stdout",
     "output_type": "stream",
     "text": [
      "[[ 1]\n",
      " [ 2]\n",
      " [ 3]\n",
      " [ 4]\n",
      " [ 5]\n",
      " [ 6]\n",
      " [ 7]\n",
      " [ 8]\n",
      " [ 9]\n",
      " [10]\n",
      " [11]\n",
      " [12]]\n"
     ]
    }
   ],
   "source": [
    "arr2 = a[:, np.newaxis]  # adds a new col by reading the row value\n",
    "print(arr2)"
   ]
  },
  {
   "cell_type": "code",
   "execution_count": 56,
   "id": "32fc088c",
   "metadata": {},
   "outputs": [
    {
     "name": "stdout",
     "output_type": "stream",
     "text": [
      "[[ 1  2  3]\n",
      " [ 4  5  6]\n",
      " [ 7  8  9]\n",
      " [10 11 12]]\n"
     ]
    }
   ],
   "source": [
    "a = a.reshape(4,3)\n",
    "print(a)"
   ]
  },
  {
   "cell_type": "code",
   "execution_count": 62,
   "id": "3adfdcfc",
   "metadata": {},
   "outputs": [
    {
     "ename": "IndexError",
     "evalue": "too many indices for array: array is 1-dimensional, but 2 were indexed",
     "output_type": "error",
     "traceback": [
      "\u001b[1;31m---------------------------------------------------------------------------\u001b[0m",
      "\u001b[1;31mIndexError\u001b[0m                                Traceback (most recent call last)",
      "Cell \u001b[1;32mIn[62], line 1\u001b[0m\n\u001b[1;32m----> 1\u001b[0m \u001b[43ma\u001b[49m\u001b[43m[\u001b[49m\u001b[43mnp\u001b[49m\u001b[38;5;241;43m.\u001b[39;49m\u001b[43mnewaxis\u001b[49m\u001b[43m,\u001b[49m\u001b[43m \u001b[49m\u001b[43m:\u001b[49m\u001b[43m,\u001b[49m\u001b[43m \u001b[49m\u001b[43m:\u001b[49m\u001b[43m]\u001b[49m\n",
      "\u001b[1;31mIndexError\u001b[0m: too many indices for array: array is 1-dimensional, but 2 were indexed"
     ]
    }
   ],
   "source": [
    "a[np.newaxis, :, :]"
   ]
  },
  {
   "cell_type": "code",
   "execution_count": 63,
   "id": "14c695b0",
   "metadata": {},
   "outputs": [
    {
     "data": {
      "text/plain": [
       "array([ 1,  2,  3,  4,  5,  6,  7,  8,  9, 10, 11, 12])"
      ]
     },
     "execution_count": 63,
     "metadata": {},
     "output_type": "execute_result"
    }
   ],
   "source": [
    "a.flatten()"
   ]
  },
  {
   "cell_type": "code",
   "execution_count": 64,
   "id": "16883e31",
   "metadata": {},
   "outputs": [
    {
     "data": {
      "text/plain": [
       "array([ 1,  2,  3,  4,  5,  6,  7,  8,  9, 10, 11, 12])"
      ]
     },
     "execution_count": 64,
     "metadata": {},
     "output_type": "execute_result"
    }
   ],
   "source": [
    "a.ravel()"
   ]
  },
  {
   "cell_type": "markdown",
   "id": "a03467fd",
   "metadata": {},
   "source": [
    "the difference between the flatten fucntion and the ravel function is \n",
    "flatten always produces the copy of the array\n",
    "where as the ravel function tries to return the original view of the array"
   ]
  },
  {
   "cell_type": "code",
   "execution_count": 65,
   "id": "782839e3",
   "metadata": {},
   "outputs": [
    {
     "data": {
      "text/plain": [
       "dtype('int32')"
      ]
     },
     "execution_count": 65,
     "metadata": {},
     "output_type": "execute_result"
    }
   ],
   "source": [
    "a.dtype  # prints the type of the array"
   ]
  },
  {
   "cell_type": "code",
   "execution_count": 66,
   "id": "f281f0f3",
   "metadata": {},
   "outputs": [
    {
     "name": "stderr",
     "output_type": "stream",
     "text": [
      "C:\\Users\\mdadn\\AppData\\Local\\Temp\\ipykernel_18564\\2714328292.py:1: DeprecationWarning: `np.float` is a deprecated alias for the builtin `float`. To silence this warning, use `float` by itself. Doing this will not modify any behavior and is safe. If you specifically wanted the numpy scalar type, use `np.float64` here.\n",
      "Deprecated in NumPy 1.20; for more details and guidance: https://numpy.org/devdocs/release/1.20.0-notes.html#deprecations\n",
      "  a.astype(np.float)\n"
     ]
    },
    {
     "data": {
      "text/plain": [
       "array([ 1.,  2.,  3.,  4.,  5.,  6.,  7.,  8.,  9., 10., 11., 12.])"
      ]
     },
     "execution_count": 66,
     "metadata": {},
     "output_type": "execute_result"
    }
   ],
   "source": [
    "a.astype(np.float)"
   ]
  },
  {
   "cell_type": "code",
   "execution_count": 67,
   "id": "cd21d5b0",
   "metadata": {},
   "outputs": [],
   "source": [
    "new_arr = a.astype(np.int16)"
   ]
  },
  {
   "cell_type": "code",
   "execution_count": 71,
   "id": "eb65c945",
   "metadata": {},
   "outputs": [
    {
     "name": "stdout",
     "output_type": "stream",
     "text": [
      "[1. 2. 3. 4. 5. 6.]\n"
     ]
    }
   ],
   "source": [
    "z = np.array([1, 2, 3, 4, 5, 6], dtype=float)\n",
    "print(z)  # float values will be printed"
   ]
  },
  {
   "cell_type": "code",
   "execution_count": 68,
   "id": "eb08ad69",
   "metadata": {},
   "outputs": [
    {
     "data": {
      "text/plain": [
       "array([ 1,  2,  3,  4,  5,  6,  7,  8,  9, 10, 11, 12], dtype=int16)"
      ]
     },
     "execution_count": 68,
     "metadata": {},
     "output_type": "execute_result"
    }
   ],
   "source": [
    "new_arr"
   ]
  },
  {
   "cell_type": "markdown",
   "id": "5d7d27ee",
   "metadata": {},
   "source": [
    "astype(np.int16) is used to change the dtype of the array into some another value"
   ]
  },
  {
   "cell_type": "code",
   "execution_count": 72,
   "id": "baec52af",
   "metadata": {},
   "outputs": [
    {
     "data": {
      "text/plain": [
       "dtype('float64')"
      ]
     },
     "execution_count": 72,
     "metadata": {},
     "output_type": "execute_result"
    }
   ],
   "source": [
    "z.dtype"
   ]
  },
  {
   "cell_type": "code",
   "execution_count": 73,
   "id": "5dddcdb2",
   "metadata": {},
   "outputs": [],
   "source": [
    "k = a.astype(int)"
   ]
  },
  {
   "cell_type": "code",
   "execution_count": 74,
   "id": "7de7323b",
   "metadata": {
    "scrolled": true
   },
   "outputs": [
    {
     "data": {
      "text/plain": [
       "array([ 1,  2,  3,  4,  5,  6,  7,  8,  9, 10, 11, 12])"
      ]
     },
     "execution_count": 74,
     "metadata": {},
     "output_type": "execute_result"
    }
   ],
   "source": [
    "k"
   ]
  },
  {
   "cell_type": "code",
   "execution_count": 75,
   "id": "0f0a6145",
   "metadata": {},
   "outputs": [],
   "source": [
    "p = np.array([566, 3, 80, 290, 30, 50])"
   ]
  },
  {
   "cell_type": "code",
   "execution_count": 76,
   "id": "8ddd2e1d",
   "metadata": {
    "scrolled": true
   },
   "outputs": [
    {
     "data": {
      "text/plain": [
       "dtype('int32')"
      ]
     },
     "execution_count": 76,
     "metadata": {},
     "output_type": "execute_result"
    }
   ],
   "source": [
    "p.dtype"
   ]
  },
  {
   "cell_type": "markdown",
   "id": "db3b3955",
   "metadata": {},
   "source": [
    "The default size of each element in the array is 32 bits singned which means values can range from -2**32 to +2**32."
   ]
  },
  {
   "cell_type": "code",
   "execution_count": 78,
   "id": "b81182c5",
   "metadata": {},
   "outputs": [],
   "source": [
    "x = p.astype(np.uint8)"
   ]
  },
  {
   "cell_type": "code",
   "execution_count": 79,
   "id": "bbce7236",
   "metadata": {},
   "outputs": [
    {
     "data": {
      "text/plain": [
       "array([54,  3, 80, 34, 30, 50], dtype=uint8)"
      ]
     },
     "execution_count": 79,
     "metadata": {},
     "output_type": "execute_result"
    }
   ],
   "source": [
    "x"
   ]
  },
  {
   "cell_type": "code",
   "execution_count": 81,
   "id": "98aca692",
   "metadata": {},
   "outputs": [
    {
     "name": "stdout",
     "output_type": "stream",
     "text": [
      "[0. 0. 0. 0. 0. 0. 0. 0. 0. 0.]\n"
     ]
    }
   ],
   "source": [
    "res = np.zeros(10)  # np.zeros(10) creates a array with 10 elements and each element is initialized to 0\n",
    "print(res)"
   ]
  },
  {
   "cell_type": "code",
   "execution_count": 84,
   "id": "305d0055",
   "metadata": {},
   "outputs": [
    {
     "name": "stdout",
     "output_type": "stream",
     "text": [
      "[[0. 0. 0. 0. 0.]\n",
      " [0. 0. 0. 0. 0.]\n",
      " [0. 0. 0. 0. 0.]\n",
      " [0. 0. 0. 0. 0.]]\n"
     ]
    }
   ],
   "source": [
    "res1  = np.zeros((4,5))  # shape of the array can also be passed as an argument in zeros function\n",
    "print(res1)"
   ]
  },
  {
   "cell_type": "code",
   "execution_count": 86,
   "id": "c9df9f4f",
   "metadata": {},
   "outputs": [
    {
     "name": "stdout",
     "output_type": "stream",
     "text": [
      "[[[1. 1. 1. 1.]\n",
      "  [1. 1. 1. 1.]\n",
      "  [1. 1. 1. 1.]]\n",
      "\n",
      " [[1. 1. 1. 1.]\n",
      "  [1. 1. 1. 1.]\n",
      "  [1. 1. 1. 1.]]]\n"
     ]
    }
   ],
   "source": [
    "res2 = np.ones((2,3,4))  # similar to zeros ones array can also be created \n",
    "print(res2)"
   ]
  },
  {
   "cell_type": "markdown",
   "id": "956142d3",
   "metadata": {},
   "source": [
    "####identity matrix / eye matrix\n",
    "        except diagonal all the other elements are zero\n",
    "        A.Indentity Matrix = A"
   ]
  },
  {
   "cell_type": "code",
   "execution_count": 88,
   "id": "758bc125",
   "metadata": {},
   "outputs": [
    {
     "name": "stdout",
     "output_type": "stream",
     "text": [
      "[[17 17 28 25]\n",
      " [17 22 19 11]\n",
      " [16 27 27 20]\n",
      " [17 11 18 18]\n",
      " [26 22 29 16]]\n"
     ]
    }
   ],
   "source": [
    "a = np.random.randint(10, 30,(5, 4))\n",
    "print(a)"
   ]
  },
  {
   "cell_type": "markdown",
   "id": "f56269ab",
   "metadata": {},
   "source": [
    "####matix multiplication\n",
    "mxn and nxk will give mxk matrix"
   ]
  },
  {
   "cell_type": "code",
   "execution_count": 90,
   "id": "79e3a56f",
   "metadata": {},
   "outputs": [
    {
     "name": "stdout",
     "output_type": "stream",
     "text": [
      "[[1. 0. 0. 0.]\n",
      " [0. 1. 0. 0.]\n",
      " [0. 0. 1. 0.]\n",
      " [0. 0. 0. 1.]]\n",
      "float64\n"
     ]
    }
   ],
   "source": [
    "i = np.eye(4)\n",
    "print(i)\n",
    "print(i.dtype)"
   ]
  },
  {
   "cell_type": "code",
   "execution_count": 91,
   "id": "32da1de6",
   "metadata": {},
   "outputs": [
    {
     "data": {
      "text/plain": [
       "array([[17., 17., 28., 25.],\n",
       "       [17., 22., 19., 11.],\n",
       "       [16., 27., 27., 20.],\n",
       "       [17., 11., 18., 18.],\n",
       "       [26., 22., 29., 16.]])"
      ]
     },
     "execution_count": 91,
     "metadata": {},
     "output_type": "execute_result"
    }
   ],
   "source": [
    "a.dot(i)  #a.dot(i) gives the matrix multiplication with a and i"
   ]
  },
  {
   "cell_type": "markdown",
   "id": "6769461d",
   "metadata": {},
   "source": [
    "###Array Operation"
   ]
  },
  {
   "cell_type": "code",
   "execution_count": 96,
   "id": "191a2f52",
   "metadata": {},
   "outputs": [],
   "source": [
    "a = np.array([4, 3, 6, 2])"
   ]
  },
  {
   "cell_type": "code",
   "execution_count": 97,
   "id": "61717796",
   "metadata": {},
   "outputs": [
    {
     "data": {
      "text/plain": [
       "array([6, 5, 8, 4])"
      ]
     },
     "execution_count": 97,
     "metadata": {},
     "output_type": "execute_result"
    }
   ],
   "source": [
    "a + 2"
   ]
  },
  {
   "cell_type": "code",
   "execution_count": 98,
   "id": "09c2a022",
   "metadata": {},
   "outputs": [
    {
     "data": {
      "text/plain": [
       "array([ 8,  6, 12,  4])"
      ]
     },
     "execution_count": 98,
     "metadata": {},
     "output_type": "execute_result"
    }
   ],
   "source": [
    "a * 2"
   ]
  },
  {
   "cell_type": "code",
   "execution_count": 99,
   "id": "3a208ac4",
   "metadata": {},
   "outputs": [
    {
     "data": {
      "text/plain": [
       "array([16,  9, 36,  4])"
      ]
     },
     "execution_count": 99,
     "metadata": {},
     "output_type": "execute_result"
    }
   ],
   "source": [
    "a ** 2"
   ]
  },
  {
   "cell_type": "code",
   "execution_count": 100,
   "id": "146ba899",
   "metadata": {},
   "outputs": [],
   "source": [
    "b = np.array([1, 2, 3, 4])"
   ]
  },
  {
   "cell_type": "code",
   "execution_count": 101,
   "id": "edf5804c",
   "metadata": {},
   "outputs": [
    {
     "data": {
      "text/plain": [
       "array([5, 5, 9, 6])"
      ]
     },
     "execution_count": 101,
     "metadata": {},
     "output_type": "execute_result"
    }
   ],
   "source": [
    "a + b"
   ]
  },
  {
   "cell_type": "code",
   "execution_count": 102,
   "id": "94d8f9b1",
   "metadata": {},
   "outputs": [
    {
     "data": {
      "text/plain": [
       "array([ 4,  6, 18,  8])"
      ]
     },
     "execution_count": 102,
     "metadata": {},
     "output_type": "execute_result"
    }
   ],
   "source": [
    "a * b  # this is scalar multilication(element wise multiplication)"
   ]
  },
  {
   "cell_type": "code",
   "execution_count": 103,
   "id": "40f4a513",
   "metadata": {},
   "outputs": [
    {
     "data": {
      "text/plain": [
       "array([4. , 1.5, 2. , 0.5])"
      ]
     },
     "execution_count": 103,
     "metadata": {},
     "output_type": "execute_result"
    }
   ],
   "source": [
    "a / b"
   ]
  },
  {
   "cell_type": "code",
   "execution_count": 104,
   "id": "047c7b52",
   "metadata": {},
   "outputs": [
    {
     "data": {
      "text/plain": [
       "array([  4,   9, 216,  16])"
      ]
     },
     "execution_count": 104,
     "metadata": {},
     "output_type": "execute_result"
    }
   ],
   "source": [
    "a**b  "
   ]
  },
  {
   "cell_type": "code",
   "execution_count": 105,
   "id": "0a7e581d",
   "metadata": {},
   "outputs": [
    {
     "data": {
      "text/plain": [
       "array([ 4,  6, 18,  8])"
      ]
     },
     "execution_count": 105,
     "metadata": {},
     "output_type": "execute_result"
    }
   ],
   "source": [
    "np.multiply(a, b)"
   ]
  },
  {
   "cell_type": "code",
   "execution_count": 108,
   "id": "b071a464",
   "metadata": {},
   "outputs": [],
   "source": [
    "A = np.array([\n",
    "    [1, 2, 3],\n",
    "    [4, 5, 6],\n",
    "    [7, 8, 9]\n",
    "])\n",
    "B = np.array([\n",
    "    [1, 4, 7],\n",
    "    [2, 5, 8],\n",
    "    [3, 6, 9]\n",
    "])"
   ]
  },
  {
   "cell_type": "code",
   "execution_count": 109,
   "id": "24c9ce36",
   "metadata": {},
   "outputs": [
    {
     "data": {
      "text/plain": [
       "array([[ 1,  8, 21],\n",
       "       [ 8, 25, 48],\n",
       "       [21, 48, 81]])"
      ]
     },
     "execution_count": 109,
     "metadata": {},
     "output_type": "execute_result"
    }
   ],
   "source": [
    "np.multiply(A, B)  # this is also matrix multiplication"
   ]
  },
  {
   "cell_type": "code",
   "execution_count": 110,
   "id": "b8e6dba6",
   "metadata": {},
   "outputs": [
    {
     "data": {
      "text/plain": [
       "array([[ 1,  8, 21],\n",
       "       [ 8, 25, 48],\n",
       "       [21, 48, 81]])"
      ]
     },
     "execution_count": 110,
     "metadata": {},
     "output_type": "execute_result"
    }
   ],
   "source": [
    "A*B"
   ]
  },
  {
   "cell_type": "code",
   "execution_count": 111,
   "id": "5f852283",
   "metadata": {},
   "outputs": [
    {
     "data": {
      "text/plain": [
       "array([[ 14,  32,  50],\n",
       "       [ 32,  77, 122],\n",
       "       [ 50, 122, 194]])"
      ]
     },
     "execution_count": 111,
     "metadata": {},
     "output_type": "execute_result"
    }
   ],
   "source": [
    "A @ B  # this is matrix multiplication"
   ]
  },
  {
   "cell_type": "markdown",
   "id": "555812ab",
   "metadata": {},
   "source": [
    " for any element wise operation the shape of arrays among which operation is going to take place should be same\n",
    " for matrix multiplication no of cols in the first array should be equal to the no of rows in the second array"
   ]
  },
  {
   "cell_type": "markdown",
   "id": "8e267ce6",
   "metadata": {},
   "source": [
    "Transpose of a matrix\n",
    "$A^2 = A.A^T$"
   ]
  },
  {
   "cell_type": "code",
   "execution_count": 113,
   "id": "7d442b9d",
   "metadata": {},
   "outputs": [
    {
     "name": "stdout",
     "output_type": "stream",
     "text": [
      "[[1 4 7]\n",
      " [2 5 8]\n",
      " [3 6 9]]\n"
     ]
    }
   ],
   "source": [
    "arr_t = A.T  # A.T is used to transpose any of the 2d array\n",
    "print(arr_t)"
   ]
  },
  {
   "cell_type": "code",
   "execution_count": 114,
   "id": "5007b99f",
   "metadata": {},
   "outputs": [
    {
     "name": "stdout",
     "output_type": "stream",
     "text": [
      "[[ 14  32  50]\n",
      " [ 32  77 122]\n",
      " [ 50 122 194]]\n"
     ]
    }
   ],
   "source": [
    "sqr_A = A@arr_t  # simply using the formula for calculating the square of a matrix\n",
    "print(sqr_A)"
   ]
  },
  {
   "cell_type": "code",
   "execution_count": 115,
   "id": "3ca4df8e",
   "metadata": {},
   "outputs": [
    {
     "data": {
      "text/plain": [
       "array([[ 14,  32,  50],\n",
       "       [ 32,  77, 122],\n",
       "       [ 50, 122, 194]])"
      ]
     },
     "execution_count": 115,
     "metadata": {},
     "output_type": "execute_result"
    }
   ],
   "source": [
    "np.transpose(sqr_A)  # np.transpose(arr) can also be used to find the transpose of array"
   ]
  },
  {
   "cell_type": "markdown",
   "id": "dbe342d4",
   "metadata": {},
   "source": [
    "Stats"
   ]
  },
  {
   "cell_type": "code",
   "execution_count": 117,
   "id": "a9634684",
   "metadata": {},
   "outputs": [],
   "source": [
    "a = np.array([4, 5, 6, 7, 8, 4, 6, 7])"
   ]
  },
  {
   "cell_type": "code",
   "execution_count": 118,
   "id": "a4a194da",
   "metadata": {},
   "outputs": [
    {
     "data": {
      "text/plain": [
       "array([4, 5, 6, 7, 8, 4, 6, 7])"
      ]
     },
     "execution_count": 118,
     "metadata": {},
     "output_type": "execute_result"
    }
   ],
   "source": [
    "a"
   ]
  },
  {
   "cell_type": "code",
   "execution_count": 119,
   "id": "34b6b487",
   "metadata": {},
   "outputs": [
    {
     "data": {
      "text/plain": [
       "5.875"
      ]
     },
     "execution_count": 119,
     "metadata": {},
     "output_type": "execute_result"
    }
   ],
   "source": [
    "np.mean(a)"
   ]
  },
  {
   "cell_type": "code",
   "execution_count": 120,
   "id": "a320aef2",
   "metadata": {},
   "outputs": [
    {
     "data": {
      "text/plain": [
       "6.0"
      ]
     },
     "execution_count": 120,
     "metadata": {},
     "output_type": "execute_result"
    }
   ],
   "source": [
    "np.median(a)"
   ]
  },
  {
   "cell_type": "code",
   "execution_count": 121,
   "id": "ede3ed05",
   "metadata": {},
   "outputs": [
    {
     "name": "stdout",
     "output_type": "stream",
     "text": [
      "4.75\n",
      "6.0\n",
      "7.0\n"
     ]
    }
   ],
   "source": [
    "Q1, Q2, Q3 = np.quantile(a, [0.25, 0.5, 0.75])\n",
    "print(Q1)\n",
    "print(Q2)\n",
    "print(Q3)"
   ]
  },
  {
   "cell_type": "code",
   "execution_count": 122,
   "id": "b5eba6d3",
   "metadata": {},
   "outputs": [
    {
     "data": {
      "text/plain": [
       "1.859375"
      ]
     },
     "execution_count": 122,
     "metadata": {},
     "output_type": "execute_result"
    }
   ],
   "source": [
    "np.var(a)  # calculation of variance using np.var(array) function"
   ]
  },
  {
   "cell_type": "code",
   "execution_count": 123,
   "id": "d9ae34a1",
   "metadata": {},
   "outputs": [
    {
     "data": {
      "text/plain": [
       "1.3635890143294642"
      ]
     },
     "execution_count": 123,
     "metadata": {},
     "output_type": "execute_result"
    }
   ],
   "source": [
    "np.std(a)  # calculation of standard deviation using np.std(array) function"
   ]
  },
  {
   "cell_type": "markdown",
   "id": "7cdcc4f0",
   "metadata": {},
   "source": [
    "Applying these functions on 2d Array"
   ]
  },
  {
   "cell_type": "code",
   "execution_count": 124,
   "id": "ffc4e6f4",
   "metadata": {},
   "outputs": [],
   "source": [
    "arr = np.random.randint(1, 10,(5, 4))"
   ]
  },
  {
   "cell_type": "code",
   "execution_count": 125,
   "id": "82ed21ec",
   "metadata": {},
   "outputs": [
    {
     "data": {
      "text/plain": [
       "array([[7, 6, 1, 5],\n",
       "       [7, 5, 1, 2],\n",
       "       [5, 8, 3, 8],\n",
       "       [3, 6, 2, 6],\n",
       "       [2, 2, 1, 7]])"
      ]
     },
     "execution_count": 125,
     "metadata": {},
     "output_type": "execute_result"
    }
   ],
   "source": [
    "arr"
   ]
  },
  {
   "cell_type": "code",
   "execution_count": 126,
   "id": "856dfed1",
   "metadata": {},
   "outputs": [
    {
     "data": {
      "text/plain": [
       "4.35"
      ]
     },
     "execution_count": 126,
     "metadata": {},
     "output_type": "execute_result"
    }
   ],
   "source": [
    "np.mean(arr)"
   ]
  },
  {
   "cell_type": "markdown",
   "id": "5ee67f52",
   "metadata": {},
   "source": [
    "The np.mean(arr) can give the mean  of row or col or the entire 2d array.\n",
    "The default behaviour of the np.mean(array) is it's gives the mean of entire array"
   ]
  },
  {
   "cell_type": "code",
   "execution_count": 127,
   "id": "3537f22a",
   "metadata": {},
   "outputs": [
    {
     "data": {
      "text/plain": [
       "87"
      ]
     },
     "execution_count": 127,
     "metadata": {},
     "output_type": "execute_result"
    }
   ],
   "source": [
    "np.sum(arr)  # gives the sum of entire array"
   ]
  },
  {
   "cell_type": "code",
   "execution_count": 128,
   "id": "8969f25a",
   "metadata": {},
   "outputs": [
    {
     "data": {
      "text/plain": [
       "4.35"
      ]
     },
     "execution_count": 128,
     "metadata": {},
     "output_type": "execute_result"
    }
   ],
   "source": [
    "np.sum(arr) / arr.size  # avg same as np.mean(array)"
   ]
  },
  {
   "cell_type": "markdown",
   "id": "5fd6e21f",
   "metadata": {},
   "source": [
    "How to calculate the average of each row"
   ]
  },
  {
   "cell_type": "markdown",
   "id": "147afb2d",
   "metadata": {},
   "source": [
    "axis0 does col wise operations\n",
    "axis1 does row wise operations \n",
    "(**remember**)"
   ]
  },
  {
   "cell_type": "markdown",
   "id": "3a0f8f33",
   "metadata": {},
   "source": [
    "Row wise mean value"
   ]
  },
  {
   "cell_type": "code",
   "execution_count": 129,
   "id": "0ba3213c",
   "metadata": {},
   "outputs": [
    {
     "data": {
      "text/plain": [
       "array([4.75, 3.75, 6.  , 4.25, 3.  ])"
      ]
     },
     "execution_count": 129,
     "metadata": {},
     "output_type": "execute_result"
    }
   ],
   "source": [
    "np.mean(arr, axis = 1)  # 5 values will be printed beacause there are 5 rows"
   ]
  },
  {
   "cell_type": "markdown",
   "id": "28dce150",
   "metadata": {},
   "source": [
    "Col wise mean value"
   ]
  },
  {
   "cell_type": "code",
   "execution_count": 130,
   "id": "81b18824",
   "metadata": {},
   "outputs": [
    {
     "data": {
      "text/plain": [
       "array([4.8, 5.4, 1.6, 5.6])"
      ]
     },
     "execution_count": 130,
     "metadata": {},
     "output_type": "execute_result"
    }
   ],
   "source": [
    "np.mean(arr, axis = 0)  # 4 rows will be printed because there are 4 cols"
   ]
  },
  {
   "cell_type": "markdown",
   "id": "d72c7fde",
   "metadata": {},
   "source": [
    "row wise standard deviation calculation "
   ]
  },
  {
   "cell_type": "code",
   "execution_count": 131,
   "id": "0013b942",
   "metadata": {},
   "outputs": [
    {
     "data": {
      "text/plain": [
       "array([2.27760839, 2.384848  , 2.12132034, 1.78535711, 2.34520788])"
      ]
     },
     "execution_count": 131,
     "metadata": {},
     "output_type": "execute_result"
    }
   ],
   "source": [
    "np.std(arr, axis=1)"
   ]
  },
  {
   "cell_type": "markdown",
   "id": "067edbf6",
   "metadata": {},
   "source": [
    "col wise starndard deviation calculation"
   ]
  },
  {
   "cell_type": "code",
   "execution_count": 132,
   "id": "9a828695",
   "metadata": {},
   "outputs": [
    {
     "data": {
      "text/plain": [
       "array([2.03960781, 1.95959179, 0.8       , 2.05912603])"
      ]
     },
     "execution_count": 132,
     "metadata": {},
     "output_type": "execute_result"
    }
   ],
   "source": [
    "np.std(arr, axis=0)"
   ]
  },
  {
   "cell_type": "markdown",
   "id": "7f8bd53d",
   "metadata": {},
   "source": [
    "quantile calculation on col"
   ]
  },
  {
   "cell_type": "code",
   "execution_count": 133,
   "id": "7a2016a1",
   "metadata": {},
   "outputs": [
    {
     "data": {
      "text/plain": [
       "array([[3., 5., 1., 5.],\n",
       "       [5., 6., 1., 6.],\n",
       "       [7., 6., 2., 7.]])"
      ]
     },
     "execution_count": 133,
     "metadata": {},
     "output_type": "execute_result"
    }
   ],
   "source": [
    "np.quantile(arr, [0.25, 0.5, 0.75], axis = 0)"
   ]
  },
  {
   "cell_type": "code",
   "execution_count": null,
   "id": "d0e4433e",
   "metadata": {},
   "outputs": [],
   "source": []
  }
 ],
 "metadata": {
  "kernelspec": {
   "display_name": "Python 3 (ipykernel)",
   "language": "python",
   "name": "python3"
  },
  "language_info": {
   "codemirror_mode": {
    "name": "ipython",
    "version": 3
   },
   "file_extension": ".py",
   "mimetype": "text/x-python",
   "name": "python",
   "nbconvert_exporter": "python",
   "pygments_lexer": "ipython3",
   "version": "3.10.9"
  }
 },
 "nbformat": 4,
 "nbformat_minor": 5
}
